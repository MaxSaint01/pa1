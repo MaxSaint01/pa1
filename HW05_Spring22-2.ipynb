{
 "cells": [
  {
   "cell_type": "markdown",
   "metadata": {},
   "source": [
    "# Homework 5: Classification (50 points)\n",
    "\n",
    "Please complete this notebook by filling in the cells provided. Before you begin, execute the following cell to load the needed functions. Each time you start your server, you will need to execute this cell again to load them.  \n",
    "\n",
    "Homework 5 is due on Friday May 6, 11:59 \n"
   ]
  },
  {
   "cell_type": "code",
   "execution_count": 1,
   "metadata": {},
   "outputs": [],
   "source": [
    "# Don't change this cell; just run it. \n",
    "import pandas as pd\n",
    "import numpy as np\n",
    "import matplotlib\n",
    "%matplotlib inline\n",
    "import matplotlib.pyplot as plt\n",
    "plt.style.use('fivethirtyeight')"
   ]
  },
  {
   "cell_type": "markdown",
   "metadata": {},
   "source": [
    "## 1. Intuition on classification (16 points)\n",
    "\n",
    "#### Question 1.1 (8 points)\n",
    "You have a large dataset `breast-cancer` which has 11 columns. The first ten are attributes of the person that might be predictive of whether or not someone has breast-cancer, and the 11th column indicates whether they have it or not. 99% of the table contains examples of people who do not have breast cancer. \n",
    "\n",
    "Imagine you are trying to use a k-NN classifier to use the first ten columns to predict whether or not someone has breast cancer. You split your training and test set up as necessary, you develop a 7 Nearest Neighbors classifier, and you notice your classifier predicts every point in the test set to be a person who does not have breast cancer. Is there a problem with your code? Explain this phenomenon.   "
   ]
  },
  {
   "cell_type": "markdown",
   "metadata": {},
   "source": [
    "The problem is not necessarily with the code but instead with the data distribution.  Given that only 1% of the test subjects have breast cancer compared to an overwhelming 99% without cancer, the imbalance in data proportions means that using kNN classifiers will very heavily favor the cancerless result, especially if we split the data into very biased training and test sets.  Thus, the phenomenon is a sampling issue rather than a coding issue, and can be resolved by including more subjects with breast cancer."
   ]
  },
  {
   "cell_type": "markdown",
   "metadata": {},
   "source": [
    "#### Question 1.2 (8 points)\n",
    "\n",
    "You have a training set of 35 examples of characteristics of fruits along with what fruit is actually being described. 25 of the examples of Apples, and 10 of the examples are Oranges. \n",
    "\n",
    "You decide to make a k-NN classifier. Give the smallest possible choice for k such that the classifier will predict Apple for every point, regardless of how the data is spread out. Explain how you picked your k. \n",
    "\n",
    "Imagine that ties are broken at random for even values of k, so there is no guarantee of what will be picked if there is a tie."
   ]
  },
  {
   "cell_type": "markdown",
   "metadata": {},
   "source": [
    "Given that we have 35 total subjects in our sample, a standard k value we could choose would be sqrt(35), which we could round up to 6, and get fairly high accuracy.  However, in the above example, where we want to predict Apple for every answer (regardless of whether or not the point should be an apple), we have to ensure that there are more apples closer to any point than there are oranges.  Given that there are a total of 10 oranges, we would always get apple by counting an extra 11 apples as among the closest datapoints.  Thus, 10+11=k=21 is the smallest possible k that guarantees that the classifier will predict Apple for every point, regardless of how the data is spread out."
   ]
  },
  {
   "cell_type": "markdown",
   "metadata": {},
   "source": [
    "## 2. Cars classification (34 points) ##\n",
    "\n",
    "The data below contains 397 observations on the following 9 variables:\n",
    "-    mpg: miles per gallon\n",
    "\n",
    "-    cylinders: number of cylinders between 4 and 8\n",
    "\n",
    "-    displacement: engine displacement (cu. inches)\n",
    "\n",
    "-    horsepower: engine horsepower\n",
    "\n",
    "-    weight: vehicle weight (lbs.)\n",
    "\n",
    "-    acceleration: time to accelerate from 0 to 60 mph (sec.)\n",
    "\n",
    "-    year: model year (modulo 100)\n",
    "\n",
    "-    origin: origin of car (1. American, 2. European, 3. Japanese)\n",
    "\n",
    "\n"
   ]
  },
  {
   "cell_type": "code",
   "execution_count": 2,
   "metadata": {
    "scrolled": true
   },
   "outputs": [
    {
     "data": {
      "text/html": [
       "<div>\n",
       "<style scoped>\n",
       "    .dataframe tbody tr th:only-of-type {\n",
       "        vertical-align: middle;\n",
       "    }\n",
       "\n",
       "    .dataframe tbody tr th {\n",
       "        vertical-align: top;\n",
       "    }\n",
       "\n",
       "    .dataframe thead th {\n",
       "        text-align: right;\n",
       "    }\n",
       "</style>\n",
       "<table border=\"1\" class=\"dataframe\">\n",
       "  <thead>\n",
       "    <tr style=\"text-align: right;\">\n",
       "      <th></th>\n",
       "      <th>mpg</th>\n",
       "      <th>cylinders</th>\n",
       "      <th>displacement</th>\n",
       "      <th>horsepower</th>\n",
       "      <th>weight</th>\n",
       "      <th>acceleration</th>\n",
       "      <th>year</th>\n",
       "      <th>origin</th>\n",
       "      <th>name</th>\n",
       "    </tr>\n",
       "  </thead>\n",
       "  <tbody>\n",
       "    <tr>\n",
       "      <th>0</th>\n",
       "      <td>18.0</td>\n",
       "      <td>8</td>\n",
       "      <td>307.0</td>\n",
       "      <td>130.0</td>\n",
       "      <td>3504</td>\n",
       "      <td>12.0</td>\n",
       "      <td>70</td>\n",
       "      <td>1</td>\n",
       "      <td>chevrolet chevelle malibu</td>\n",
       "    </tr>\n",
       "    <tr>\n",
       "      <th>1</th>\n",
       "      <td>15.0</td>\n",
       "      <td>8</td>\n",
       "      <td>350.0</td>\n",
       "      <td>165.0</td>\n",
       "      <td>3693</td>\n",
       "      <td>11.5</td>\n",
       "      <td>70</td>\n",
       "      <td>1</td>\n",
       "      <td>buick skylark 320</td>\n",
       "    </tr>\n",
       "    <tr>\n",
       "      <th>2</th>\n",
       "      <td>18.0</td>\n",
       "      <td>8</td>\n",
       "      <td>318.0</td>\n",
       "      <td>150.0</td>\n",
       "      <td>3436</td>\n",
       "      <td>11.0</td>\n",
       "      <td>70</td>\n",
       "      <td>1</td>\n",
       "      <td>plymouth satellite</td>\n",
       "    </tr>\n",
       "    <tr>\n",
       "      <th>3</th>\n",
       "      <td>16.0</td>\n",
       "      <td>8</td>\n",
       "      <td>304.0</td>\n",
       "      <td>150.0</td>\n",
       "      <td>3433</td>\n",
       "      <td>12.0</td>\n",
       "      <td>70</td>\n",
       "      <td>1</td>\n",
       "      <td>amc rebel sst</td>\n",
       "    </tr>\n",
       "    <tr>\n",
       "      <th>4</th>\n",
       "      <td>17.0</td>\n",
       "      <td>8</td>\n",
       "      <td>302.0</td>\n",
       "      <td>140.0</td>\n",
       "      <td>3449</td>\n",
       "      <td>10.5</td>\n",
       "      <td>70</td>\n",
       "      <td>1</td>\n",
       "      <td>ford torino</td>\n",
       "    </tr>\n",
       "    <tr>\n",
       "      <th>5</th>\n",
       "      <td>15.0</td>\n",
       "      <td>8</td>\n",
       "      <td>429.0</td>\n",
       "      <td>198.0</td>\n",
       "      <td>4341</td>\n",
       "      <td>10.0</td>\n",
       "      <td>70</td>\n",
       "      <td>1</td>\n",
       "      <td>ford galaxie 500</td>\n",
       "    </tr>\n",
       "    <tr>\n",
       "      <th>6</th>\n",
       "      <td>14.0</td>\n",
       "      <td>8</td>\n",
       "      <td>454.0</td>\n",
       "      <td>220.0</td>\n",
       "      <td>4354</td>\n",
       "      <td>9.0</td>\n",
       "      <td>70</td>\n",
       "      <td>1</td>\n",
       "      <td>chevrolet impala</td>\n",
       "    </tr>\n",
       "    <tr>\n",
       "      <th>7</th>\n",
       "      <td>14.0</td>\n",
       "      <td>8</td>\n",
       "      <td>440.0</td>\n",
       "      <td>215.0</td>\n",
       "      <td>4312</td>\n",
       "      <td>8.5</td>\n",
       "      <td>70</td>\n",
       "      <td>1</td>\n",
       "      <td>plymouth fury iii</td>\n",
       "    </tr>\n",
       "    <tr>\n",
       "      <th>8</th>\n",
       "      <td>14.0</td>\n",
       "      <td>8</td>\n",
       "      <td>455.0</td>\n",
       "      <td>225.0</td>\n",
       "      <td>4425</td>\n",
       "      <td>10.0</td>\n",
       "      <td>70</td>\n",
       "      <td>1</td>\n",
       "      <td>pontiac catalina</td>\n",
       "    </tr>\n",
       "    <tr>\n",
       "      <th>9</th>\n",
       "      <td>15.0</td>\n",
       "      <td>8</td>\n",
       "      <td>390.0</td>\n",
       "      <td>190.0</td>\n",
       "      <td>3850</td>\n",
       "      <td>8.5</td>\n",
       "      <td>70</td>\n",
       "      <td>1</td>\n",
       "      <td>amc ambassador dpl</td>\n",
       "    </tr>\n",
       "  </tbody>\n",
       "</table>\n",
       "</div>"
      ],
      "text/plain": [
       "    mpg  cylinders  displacement horsepower  weight  acceleration  year  \\\n",
       "0  18.0          8         307.0      130.0    3504          12.0    70   \n",
       "1  15.0          8         350.0      165.0    3693          11.5    70   \n",
       "2  18.0          8         318.0      150.0    3436          11.0    70   \n",
       "3  16.0          8         304.0      150.0    3433          12.0    70   \n",
       "4  17.0          8         302.0      140.0    3449          10.5    70   \n",
       "5  15.0          8         429.0      198.0    4341          10.0    70   \n",
       "6  14.0          8         454.0      220.0    4354           9.0    70   \n",
       "7  14.0          8         440.0      215.0    4312           8.5    70   \n",
       "8  14.0          8         455.0      225.0    4425          10.0    70   \n",
       "9  15.0          8         390.0      190.0    3850           8.5    70   \n",
       "\n",
       "   origin                       name  \n",
       "0       1  chevrolet chevelle malibu  \n",
       "1       1          buick skylark 320  \n",
       "2       1         plymouth satellite  \n",
       "3       1              amc rebel sst  \n",
       "4       1                ford torino  \n",
       "5       1           ford galaxie 500  \n",
       "6       1           chevrolet impala  \n",
       "7       1          plymouth fury iii  \n",
       "8       1           pontiac catalina  \n",
       "9       1         amc ambassador dpl  "
      ]
     },
     "execution_count": 2,
     "metadata": {},
     "output_type": "execute_result"
    }
   ],
   "source": [
    "# this commands loads the data into a data frame\n",
    "auto_df=pd.read_csv(\"auto.csv\")\n",
    "auto_df.head(10)"
   ]
  },
  {
   "cell_type": "code",
   "execution_count": 3,
   "metadata": {},
   "outputs": [
    {
     "data": {
      "text/plain": [
       "(397, 9)"
      ]
     },
     "execution_count": 3,
     "metadata": {},
     "output_type": "execute_result"
    }
   ],
   "source": [
    "auto_df.shape"
   ]
  },
  {
   "cell_type": "code",
   "execution_count": 5,
   "metadata": {},
   "outputs": [
    {
     "data": {
      "text/plain": [
       "82"
      ]
     },
     "execution_count": 5,
     "metadata": {},
     "output_type": "execute_result"
    }
   ],
   "source": [
    "auto_df.year.max()"
   ]
  },
  {
   "cell_type": "markdown",
   "metadata": {},
   "source": [
    "#### Question 2.1 ( Binarization, 3 points)\n",
    "\n",
    "Create a new column in the data frame containing a binary variable called **mpg_b**: it should be equal to 1 if **mpg** contains a value above its median and equal to 0 if **mpg** contains a value below its median."
   ]
  },
  {
   "cell_type": "code",
   "execution_count": 4,
   "metadata": {
    "scrolled": true
   },
   "outputs": [],
   "source": [
    "# code here and in additional cells if needed\n",
    "b=[]\n",
    "for i in range(len(auto_df)):\n",
    "    if auto_df[\"mpg\"][i]>auto_df[\"mpg\"].median():\n",
    "        b.append(1)\n",
    "    else:\n",
    "        b.append(0)\n",
    "        \n",
    "auto_df[\"mpg_b\"] = b"
   ]
  },
  {
   "cell_type": "markdown",
   "metadata": {},
   "source": [
    "#### Question 2.2 (Numerical and graphical summaries, 7 points)\n",
    "\n",
    "Explore the data graphically (and numerically if you think it is useful) in order to investigate the association between **mpg_b** and the other features.  Which of the other features seem most likely to be useful in predicting **mpg_b**? Describe your findings.\n"
   ]
  },
  {
   "cell_type": "code",
   "execution_count": 5,
   "metadata": {},
   "outputs": [
    {
     "data": {
      "text/plain": [
       "Text(0.5, 1.0, 'mpg_b vs origin')"
      ]
     },
     "execution_count": 5,
     "metadata": {},
     "output_type": "execute_result"
    },
    {
     "data": {
      "image/png": "[encoded data removed]",
      "text/plain": [
       "<Figure size 2160x2160 with 8 Axes>"
      ]
     },
     "metadata": {},
     "output_type": "display_data"
    }
   ],
   "source": [
    "# code here and in additional cells if needed\n",
    "\n",
    "zero = auto_df[auto_df[\"mpg_b\"]==0]\n",
    "one = auto_df[auto_df[\"mpg_b\"]==1]\n",
    "\n",
    "from matplotlib.pyplot import figure\n",
    "fig, axs = plt.subplots(4,2,figsize=(30,30))\n",
    "\n",
    "axs[0,0].hist(zero.mpg, bins=14)\n",
    "axs[0,0].hist(one.mpg, bins=23)\n",
    "axs[0,0].set_title(\"mpg_b vs mpg\")\n",
    "\n",
    "axs[0,1].hist(zero.cylinders)\n",
    "axs[0,1].hist(one.cylinders)\n",
    "axs[0,1].set_title(\"mpg_b vs cylinders\")\n",
    "\n",
    "axs[1,0].hist(zero.displacement, alpha=0.5, bins=30)\n",
    "axs[1,0].hist(one.displacement, alpha=0.5, bins=30)\n",
    "axs[1,0].set_title(\"mpg_b vs displacement\")\n",
    "\n",
    "axs[1,1].hist(zero.horsepower, alpha=0.5, bins=50)\n",
    "axs[1,1].hist(one.horsepower, alpha=0.5, bins=50)\n",
    "axs[1,1].set_title(\"mpg_b vs horsepower\")\n",
    "\n",
    "axs[2,0].hist(zero.weight, bins=50, alpha=0.5)\n",
    "axs[2,0].hist(one.weight, bins=50, alpha=0.5)\n",
    "axs[2,0].set_title(\"mpg_b vs weight\")\n",
    "\n",
    "axs[2,1].hist(zero.acceleration, alpha=0.5, bins=36)\n",
    "axs[2,1].hist(one.acceleration, alpha=0.5, bins=36)\n",
    "axs[2,1].set_title(\"mpg_b vs acceleration\")\n",
    "\n",
    "axs[3,0].hist(zero.year, bins=13, alpha=0.5)\n",
    "axs[3,0].hist(one.year, bins=13, alpha=0.5)\n",
    "axs[3,0].set_title(\"mpg_b vs year\")\n",
    "\n",
    "axs[3,1].hist(zero.origin, alpha=0.5)\n",
    "axs[3,1].hist(one.origin, alpha=0.5)\n",
    "axs[3,1].set_title(\"mpg_b vs origin\")"
   ]
  },
  {
   "cell_type": "code",
   "execution_count": 57,
   "metadata": {},
   "outputs": [
    {
     "name": "stdout",
     "output_type": "stream",
     "text": [
      "I believe that the best features for predicting mpg_b would be where certain values of those features only occur when mpg_b = 0 and where other features only occur when mpg_b = 1\n",
      "This is best illustrated by graphs with little to no overlay between the histograms representing data where mpg_b=0 and data where mpg_b=1\n",
      "Thus, I believe that the best features for predicting mpg_b may be displacement and weight.\n"
     ]
    }
   ],
   "source": [
    "print(\"I believe that the best features for predicting mpg_b would be where certain values of those features only occur when mpg_b = 0 and where other features only occur when mpg_b = 1\")\n",
    "print(\"This is best illustrated by graphs with little to no overlay between the histograms representing data where mpg_b=0 and data where mpg_b=1\")\n",
    "print(\"Thus, I believe that the best features for predicting mpg_b may be displacement and weight.\")"
   ]
  },
  {
   "cell_type": "markdown",
   "metadata": {},
   "source": [
    "*Write your answer here, replacing this text.*"
   ]
  },
  {
   "cell_type": "markdown",
   "metadata": {},
   "source": [
    "#### Question 2.3 (Split the data, 3 points)\n",
    "\n",
    "Split the data into a training set and a test set. Select **randomly** 50 rows of your data frame and extract their data into a test data frame. The rest of the 347 rows should form your training data frame."
   ]
  },
  {
   "cell_type": "code",
   "execution_count": 6,
   "metadata": {},
   "outputs": [],
   "source": [
    "# code here and in additional cells if needed\n",
    "test = auto_df.sample(50).reset_index()\n",
    "\n",
    "value=[]\n",
    "for i in range(len(test)):\n",
    "    value.append(test[\"index\"])"
   ]
  },
  {
   "cell_type": "code",
   "execution_count": 7,
   "metadata": {},
   "outputs": [
    {
     "data": {
      "text/html": [
       "<div>\n",
       "<style scoped>\n",
       "    .dataframe tbody tr th:only-of-type {\n",
       "        vertical-align: middle;\n",
       "    }\n",
       "\n",
       "    .dataframe tbody tr th {\n",
       "        vertical-align: top;\n",
       "    }\n",
       "\n",
       "    .dataframe thead th {\n",
       "        text-align: right;\n",
       "    }\n",
       "</style>\n",
       "<table border=\"1\" class=\"dataframe\">\n",
       "  <thead>\n",
       "    <tr style=\"text-align: right;\">\n",
       "      <th></th>\n",
       "      <th>mpg</th>\n",
       "      <th>cylinders</th>\n",
       "      <th>displacement</th>\n",
       "      <th>horsepower</th>\n",
       "      <th>weight</th>\n",
       "      <th>acceleration</th>\n",
       "      <th>year</th>\n",
       "      <th>origin</th>\n",
       "      <th>name</th>\n",
       "      <th>mpg_b</th>\n",
       "    </tr>\n",
       "  </thead>\n",
       "  <tbody>\n",
       "    <tr>\n",
       "      <th>0</th>\n",
       "      <td>18.0</td>\n",
       "      <td>8</td>\n",
       "      <td>307.0</td>\n",
       "      <td>130.0</td>\n",
       "      <td>3504</td>\n",
       "      <td>12.0</td>\n",
       "      <td>70</td>\n",
       "      <td>1</td>\n",
       "      <td>chevrolet chevelle malibu</td>\n",
       "      <td>0</td>\n",
       "    </tr>\n",
       "    <tr>\n",
       "      <th>1</th>\n",
       "      <td>15.0</td>\n",
       "      <td>8</td>\n",
       "      <td>350.0</td>\n",
       "      <td>165.0</td>\n",
       "      <td>3693</td>\n",
       "      <td>11.5</td>\n",
       "      <td>70</td>\n",
       "      <td>1</td>\n",
       "      <td>buick skylark 320</td>\n",
       "      <td>0</td>\n",
       "    </tr>\n",
       "    <tr>\n",
       "      <th>4</th>\n",
       "      <td>17.0</td>\n",
       "      <td>8</td>\n",
       "      <td>302.0</td>\n",
       "      <td>140.0</td>\n",
       "      <td>3449</td>\n",
       "      <td>10.5</td>\n",
       "      <td>70</td>\n",
       "      <td>1</td>\n",
       "      <td>ford torino</td>\n",
       "      <td>0</td>\n",
       "    </tr>\n",
       "    <tr>\n",
       "      <th>5</th>\n",
       "      <td>15.0</td>\n",
       "      <td>8</td>\n",
       "      <td>429.0</td>\n",
       "      <td>198.0</td>\n",
       "      <td>4341</td>\n",
       "      <td>10.0</td>\n",
       "      <td>70</td>\n",
       "      <td>1</td>\n",
       "      <td>ford galaxie 500</td>\n",
       "      <td>0</td>\n",
       "    </tr>\n",
       "    <tr>\n",
       "      <th>6</th>\n",
       "      <td>14.0</td>\n",
       "      <td>8</td>\n",
       "      <td>454.0</td>\n",
       "      <td>220.0</td>\n",
       "      <td>4354</td>\n",
       "      <td>9.0</td>\n",
       "      <td>70</td>\n",
       "      <td>1</td>\n",
       "      <td>chevrolet impala</td>\n",
       "      <td>0</td>\n",
       "    </tr>\n",
       "    <tr>\n",
       "      <th>...</th>\n",
       "      <td>...</td>\n",
       "      <td>...</td>\n",
       "      <td>...</td>\n",
       "      <td>...</td>\n",
       "      <td>...</td>\n",
       "      <td>...</td>\n",
       "      <td>...</td>\n",
       "      <td>...</td>\n",
       "      <td>...</td>\n",
       "      <td>...</td>\n",
       "    </tr>\n",
       "    <tr>\n",
       "      <th>392</th>\n",
       "      <td>27.0</td>\n",
       "      <td>4</td>\n",
       "      <td>140.0</td>\n",
       "      <td>86.00</td>\n",
       "      <td>2790</td>\n",
       "      <td>15.6</td>\n",
       "      <td>82</td>\n",
       "      <td>1</td>\n",
       "      <td>ford mustang gl</td>\n",
       "      <td>1</td>\n",
       "    </tr>\n",
       "    <tr>\n",
       "      <th>393</th>\n",
       "      <td>44.0</td>\n",
       "      <td>4</td>\n",
       "      <td>97.0</td>\n",
       "      <td>52.00</td>\n",
       "      <td>2130</td>\n",
       "      <td>24.6</td>\n",
       "      <td>82</td>\n",
       "      <td>2</td>\n",
       "      <td>vw pickup</td>\n",
       "      <td>1</td>\n",
       "    </tr>\n",
       "    <tr>\n",
       "      <th>394</th>\n",
       "      <td>32.0</td>\n",
       "      <td>4</td>\n",
       "      <td>135.0</td>\n",
       "      <td>84.00</td>\n",
       "      <td>2295</td>\n",
       "      <td>11.6</td>\n",
       "      <td>82</td>\n",
       "      <td>1</td>\n",
       "      <td>dodge rampage</td>\n",
       "      <td>1</td>\n",
       "    </tr>\n",
       "    <tr>\n",
       "      <th>395</th>\n",
       "      <td>28.0</td>\n",
       "      <td>4</td>\n",
       "      <td>120.0</td>\n",
       "      <td>79.00</td>\n",
       "      <td>2625</td>\n",
       "      <td>18.6</td>\n",
       "      <td>82</td>\n",
       "      <td>1</td>\n",
       "      <td>ford ranger</td>\n",
       "      <td>1</td>\n",
       "    </tr>\n",
       "    <tr>\n",
       "      <th>396</th>\n",
       "      <td>31.0</td>\n",
       "      <td>4</td>\n",
       "      <td>119.0</td>\n",
       "      <td>82.00</td>\n",
       "      <td>2720</td>\n",
       "      <td>19.4</td>\n",
       "      <td>82</td>\n",
       "      <td>1</td>\n",
       "      <td>chevy s-10</td>\n",
       "      <td>1</td>\n",
       "    </tr>\n",
       "  </tbody>\n",
       "</table>\n",
       "<p>347 rows × 10 columns</p>\n",
       "</div>"
      ],
      "text/plain": [
       "      mpg  cylinders  displacement horsepower  weight  acceleration  year  \\\n",
       "0    18.0          8         307.0      130.0    3504          12.0    70   \n",
       "1    15.0          8         350.0      165.0    3693          11.5    70   \n",
       "4    17.0          8         302.0      140.0    3449          10.5    70   \n",
       "5    15.0          8         429.0      198.0    4341          10.0    70   \n",
       "6    14.0          8         454.0      220.0    4354           9.0    70   \n",
       "..    ...        ...           ...        ...     ...           ...   ...   \n",
       "392  27.0          4         140.0      86.00    2790          15.6    82   \n",
       "393  44.0          4          97.0      52.00    2130          24.6    82   \n",
       "394  32.0          4         135.0      84.00    2295          11.6    82   \n",
       "395  28.0          4         120.0      79.00    2625          18.6    82   \n",
       "396  31.0          4         119.0      82.00    2720          19.4    82   \n",
       "\n",
       "     origin                       name  mpg_b  \n",
       "0         1  chevrolet chevelle malibu      0  \n",
       "1         1          buick skylark 320      0  \n",
       "4         1                ford torino      0  \n",
       "5         1           ford galaxie 500      0  \n",
       "6         1           chevrolet impala      0  \n",
       "..      ...                        ...    ...  \n",
       "392       1            ford mustang gl      1  \n",
       "393       2                  vw pickup      1  \n",
       "394       1              dodge rampage      1  \n",
       "395       1                ford ranger      1  \n",
       "396       1                 chevy s-10      1  \n",
       "\n",
       "[347 rows x 10 columns]"
      ]
     },
     "execution_count": 7,
     "metadata": {},
     "output_type": "execute_result"
    }
   ],
   "source": [
    "training = auto_df.drop(value[0])\n",
    "\n",
    "training"
   ]
  },
  {
   "cell_type": "markdown",
   "metadata": {},
   "source": [
    "#### Question 2.4 (kNN for mpg_b, 10 points)\n",
    "\n",
    "The goal here is to construct a kNN algorithm that has high **accuracy** (proportion of test examples labeled correctly). Recall that you have to take into consideration: (i) the type of features (categorical, quantitative); (ii) the scaling of the features; (iii) the distance you use; (iv) the features in the model; (v) the number of neighbors, k.\n",
    "\n",
    "You can choose to use only the variables that seem most asociated with **mpg_b** in Q2.2. Try several values of k, and report on your test errors. Which value of k performs best?\n",
    "\n",
    "**Note:** You need to write the code for the algorithm and not use kNN functions in Python libraries. You may use any of the functions we wrote in the lecture notebooks.\n"
   ]
  },
  {
   "cell_type": "code",
   "execution_count": 8,
   "metadata": {},
   "outputs": [
    {
     "data": {
      "text/html": [
       "<div>\n",
       "<style scoped>\n",
       "    .dataframe tbody tr th:only-of-type {\n",
       "        vertical-align: middle;\n",
       "    }\n",
       "\n",
       "    .dataframe tbody tr th {\n",
       "        vertical-align: top;\n",
       "    }\n",
       "\n",
       "    .dataframe thead th {\n",
       "        text-align: right;\n",
       "    }\n",
       "</style>\n",
       "<table border=\"1\" class=\"dataframe\">\n",
       "  <thead>\n",
       "    <tr style=\"text-align: right;\">\n",
       "      <th></th>\n",
       "      <th>Disp</th>\n",
       "      <th>Weight</th>\n",
       "    </tr>\n",
       "  </thead>\n",
       "  <tbody>\n",
       "    <tr>\n",
       "      <th>0</th>\n",
       "      <td>1.109418</td>\n",
       "      <td>0.662464</td>\n",
       "    </tr>\n",
       "    <tr>\n",
       "      <th>1</th>\n",
       "      <td>1.520336</td>\n",
       "      <td>0.886592</td>\n",
       "    </tr>\n",
       "    <tr>\n",
       "      <th>4</th>\n",
       "      <td>1.061637</td>\n",
       "      <td>0.597241</td>\n",
       "    </tr>\n",
       "    <tr>\n",
       "      <th>5</th>\n",
       "      <td>2.275278</td>\n",
       "      <td>1.655032</td>\n",
       "    </tr>\n",
       "    <tr>\n",
       "      <th>6</th>\n",
       "      <td>2.514184</td>\n",
       "      <td>1.670448</td>\n",
       "    </tr>\n",
       "  </tbody>\n",
       "</table>\n",
       "</div>"
      ],
      "text/plain": [
       "       Disp    Weight\n",
       "0  1.109418  0.662464\n",
       "1  1.520336  0.886592\n",
       "4  1.061637  0.597241\n",
       "5  2.275278  1.655032\n",
       "6  2.514184  1.670448"
      ]
     },
     "execution_count": 8,
     "metadata": {},
     "output_type": "execute_result"
    }
   ],
   "source": [
    "#standard units\n",
    "def standard_units(x):\n",
    "    \"Convert any array of numbers to standard units.\"\n",
    "    return (x - np.average(x))/np.std(x,ddof=1)\n",
    "\n",
    "xtrain=pd.DataFrame(\n",
    "        {\"Disp\": standard_units(training.displacement),\n",
    "         \"Weight\": standard_units(training.weight)})\n",
    "\n",
    "ytrain = training[\"mpg_b\"]\n",
    "\n",
    "xtest=pd.DataFrame(\n",
    "        {\"Disp\": standard_units(test.displacement),\n",
    "         \"Weight\": standard_units(test.weight)})\n",
    "\n",
    "ytest = test[\"mpg_b\"]\n",
    "\n",
    "xtrain.head()"
   ]
  },
  {
   "cell_type": "code",
   "execution_count": 9,
   "metadata": {},
   "outputs": [],
   "source": [
    "import random\n",
    "\n",
    "def distance(pt1, pt2):\n",
    "    return np.sqrt(sum((pt1 - pt2)**2))\n",
    "\n",
    "def all_distances(training, point):\n",
    "    attributes = training[[\"Disp\",\"Weight\"]]\n",
    "    def distance_from_point(row):\n",
    "        return distance(point, np.array(row))\n",
    "    return attributes.apply(distance_from_point,axis=1)\n",
    "\n",
    "def closest(X_train, Y_train, point, k):\n",
    "    \"\"\"A df containing the k closest rows in the training df to \n",
    "    array 'point' \"\"\"\n",
    "    attributes=X_train.copy()\n",
    "    attributes['Distance']=all_distances(attributes, point)\n",
    "    attributes['Class']=Y_train\n",
    "    attributes=attributes.sort_values('Distance')    \n",
    "    topk = attributes.head(k)\n",
    "    return topk\n",
    "\n",
    "def majority(topkclasses):\n",
    "    \"\"\"1 if the majority of the \"Class\" column is 1's, and 0 otherwise.\"\"\"\n",
    "    ones = topkclasses[topkclasses.Class==1].shape[0]\n",
    "    zeros = topkclasses[topkclasses.Class==0].shape[0]\n",
    "    if ones > zeros:\n",
    "        return 1\n",
    "    if zeros > ones:\n",
    "        return 0\n",
    "    if zeros == ones:\n",
    "        talk = random.randint(0, 1)\n",
    "        if talk == 0:\n",
    "            return 0\n",
    "        if talk == 1:\n",
    "            return 1"
   ]
  },
  {
   "cell_type": "code",
   "execution_count": 10,
   "metadata": {},
   "outputs": [],
   "source": [
    "def classify(X_train,Y_train, X_test, k):\n",
    "    #training = X_train\n",
    "    n=X_test.shape[0] # the number of test cases\n",
    "    \n",
    "    pred_class = np.array([])\n",
    "    for i in np.arange(n):\n",
    "        topkclasses = closest(X_train,Y_train, X_test.iloc[i], k)\n",
    "        pred_class = np.append(pred_class,majority(topkclasses))\n",
    "    \n",
    "    report_df=X_test.copy()\n",
    "    report_df['Class']=pred_class\n",
    "    \n",
    "    return report_df"
   ]
  },
  {
   "cell_type": "code",
   "execution_count": 11,
   "metadata": {},
   "outputs": [],
   "source": [
    "res_df=classify(xtrain,ytrain, xtest, 5)"
   ]
  },
  {
   "cell_type": "code",
   "execution_count": 12,
   "metadata": {},
   "outputs": [
    {
     "data": {
      "text/html": [
       "<div>\n",
       "<style scoped>\n",
       "    .dataframe tbody tr th:only-of-type {\n",
       "        vertical-align: middle;\n",
       "    }\n",
       "\n",
       "    .dataframe tbody tr th {\n",
       "        vertical-align: top;\n",
       "    }\n",
       "\n",
       "    .dataframe thead th {\n",
       "        text-align: right;\n",
       "    }\n",
       "</style>\n",
       "<table border=\"1\" class=\"dataframe\">\n",
       "  <thead>\n",
       "    <tr style=\"text-align: right;\">\n",
       "      <th></th>\n",
       "      <th>Disp</th>\n",
       "      <th>Weight</th>\n",
       "      <th>Class</th>\n",
       "    </tr>\n",
       "  </thead>\n",
       "  <tbody>\n",
       "    <tr>\n",
       "      <th>0</th>\n",
       "      <td>1.851224</td>\n",
       "      <td>2.134891</td>\n",
       "      <td>0.0</td>\n",
       "    </tr>\n",
       "    <tr>\n",
       "      <th>1</th>\n",
       "      <td>0.130207</td>\n",
       "      <td>-0.025380</td>\n",
       "      <td>0.0</td>\n",
       "    </tr>\n",
       "    <tr>\n",
       "      <th>2</th>\n",
       "      <td>-0.479524</td>\n",
       "      <td>0.307412</td>\n",
       "      <td>1.0</td>\n",
       "    </tr>\n",
       "    <tr>\n",
       "      <th>3</th>\n",
       "      <td>0.130207</td>\n",
       "      <td>0.330443</td>\n",
       "      <td>0.0</td>\n",
       "    </tr>\n",
       "    <tr>\n",
       "      <th>4</th>\n",
       "      <td>-0.705715</td>\n",
       "      <td>-0.314414</td>\n",
       "      <td>1.0</td>\n",
       "    </tr>\n",
       "    <tr>\n",
       "      <th>5</th>\n",
       "      <td>-1.118759</td>\n",
       "      <td>-1.160788</td>\n",
       "      <td>1.0</td>\n",
       "    </tr>\n",
       "    <tr>\n",
       "      <th>6</th>\n",
       "      <td>0.376067</td>\n",
       "      <td>-0.140533</td>\n",
       "      <td>0.0</td>\n",
       "    </tr>\n",
       "    <tr>\n",
       "      <th>7</th>\n",
       "      <td>-1.128593</td>\n",
       "      <td>-1.241396</td>\n",
       "      <td>1.0</td>\n",
       "    </tr>\n",
       "    <tr>\n",
       "      <th>8</th>\n",
       "      <td>1.359505</td>\n",
       "      <td>1.791735</td>\n",
       "      <td>0.0</td>\n",
       "    </tr>\n",
       "    <tr>\n",
       "      <th>9</th>\n",
       "      <td>-1.295778</td>\n",
       "      <td>-0.487143</td>\n",
       "      <td>1.0</td>\n",
       "    </tr>\n",
       "  </tbody>\n",
       "</table>\n",
       "</div>"
      ],
      "text/plain": [
       "       Disp    Weight  Class\n",
       "0  1.851224  2.134891    0.0\n",
       "1  0.130207 -0.025380    0.0\n",
       "2 -0.479524  0.307412    1.0\n",
       "3  0.130207  0.330443    0.0\n",
       "4 -0.705715 -0.314414    1.0\n",
       "5 -1.118759 -1.160788    1.0\n",
       "6  0.376067 -0.140533    0.0\n",
       "7 -1.128593 -1.241396    1.0\n",
       "8  1.359505  1.791735    0.0\n",
       "9 -1.295778 -0.487143    1.0"
      ]
     },
     "execution_count": 12,
     "metadata": {},
     "output_type": "execute_result"
    }
   ],
   "source": [
    "res_df.head(10)"
   ]
  },
  {
   "cell_type": "code",
   "execution_count": 13,
   "metadata": {},
   "outputs": [
    {
     "data": {
      "text/plain": [
       "0.82"
      ]
     },
     "execution_count": 13,
     "metadata": {},
     "output_type": "execute_result"
    }
   ],
   "source": [
    "np.mean(ytest==res_df.Class)"
   ]
  },
  {
   "cell_type": "code",
   "execution_count": 14,
   "metadata": {},
   "outputs": [
    {
     "data": {
      "text/plain": [
       "0.82"
      ]
     },
     "execution_count": 14,
     "metadata": {},
     "output_type": "execute_result"
    }
   ],
   "source": [
    "trial1=classify(xtrain,ytrain, xtest, 4)\n",
    "np.mean(ytest==trial1.Class)"
   ]
  },
  {
   "cell_type": "code",
   "execution_count": 15,
   "metadata": {},
   "outputs": [
    {
     "data": {
      "text/plain": [
       "0.82"
      ]
     },
     "execution_count": 15,
     "metadata": {},
     "output_type": "execute_result"
    }
   ],
   "source": [
    "trial2=classify(xtrain,ytrain, xtest, 8)\n",
    "np.mean(ytest==trial1.Class)"
   ]
  },
  {
   "cell_type": "code",
   "execution_count": 16,
   "metadata": {},
   "outputs": [
    {
     "data": {
      "text/plain": [
       "0.84"
      ]
     },
     "execution_count": 16,
     "metadata": {},
     "output_type": "execute_result"
    }
   ],
   "source": [
    "trial3=classify(xtrain,ytrain, xtest, 13)\n",
    "np.mean(ytest==trial3.Class)"
   ]
  },
  {
   "cell_type": "code",
   "execution_count": 17,
   "metadata": {},
   "outputs": [
    {
     "data": {
      "text/plain": [
       "0.84"
      ]
     },
     "execution_count": 17,
     "metadata": {},
     "output_type": "execute_result"
    }
   ],
   "source": [
    "trial4=classify(xtrain,ytrain, xtest, 10)\n",
    "np.mean(ytest==trial4.Class)"
   ]
  },
  {
   "cell_type": "code",
   "execution_count": 20,
   "metadata": {},
   "outputs": [
    {
     "name": "stdout",
     "output_type": "stream",
     "text": [
      "0.82\n",
      "0.84\n",
      "0.82\n",
      "0.8\n",
      "0.84\n",
      "0.82\n",
      "0.84\n",
      "0.84\n",
      "0.84\n",
      "0.84\n",
      "0.84\n",
      "0.84\n",
      "0.84\n",
      "0.84\n",
      "0.82\n",
      "0.8\n",
      "0.8\n",
      "0.8\n",
      "0.82\n",
      "0.82\n",
      "0.8\n",
      "0.82\n"
     ]
    }
   ],
   "source": [
    "k=list(range(3,25))\n",
    "for i in k:\n",
    "    print(np.mean(ytest==classify(xtrain,ytrain, xtest, i).Class))"
   ]
  },
  {
   "cell_type": "code",
   "execution_count": 19,
   "metadata": {},
   "outputs": [
    {
     "data": {
      "text/plain": [
       "397"
      ]
     },
     "execution_count": 19,
     "metadata": {},
     "output_type": "execute_result"
    }
   ],
   "source": [
    "len(auto_df)"
   ]
  },
  {
   "cell_type": "code",
   "execution_count": 23,
   "metadata": {},
   "outputs": [
    {
     "name": "stdout",
     "output_type": "stream",
     "text": [
      "By what we see above, the best values of k for getting the most accurate prediction are k=4, 7, 9, 10, 11, 12, 13, 14, 15, 16\n",
      "I am interested by the fact that many of the k values where we get the most accuracy are very close to each other, which may mean that our ideal k is between 9 and 16\n"
     ]
    }
   ],
   "source": [
    "print(\"By what we see above, the best values of k for getting the most accurate prediction are k=4, 7, 9, 10, 11, 12, 13, 14, 15, 16\")\n",
    "print(\"I am interested by the fact that many of the k values where we get the most accuracy are very close to each other, which may mean that our ideal k is between 9 and 16\")"
   ]
  },
  {
   "cell_type": "markdown",
   "metadata": {},
   "source": [
    "*Write your answer here, replacing this text.*"
   ]
  },
  {
   "cell_type": "markdown",
   "metadata": {},
   "source": [
    "#### Question 2.5 (kNN for country of origin, 14 points)\n",
    "\n",
    "The goal here is to construct a kNN algorithm for classfication of country of origin. Instructions are similar to those in Q2.4 - the main difference is that `origin` has 3 labels so you need to modify your code to account for that. This is an example of **multiclass classification**.\n",
    "\n",
    "Issues to consider:\n",
    "- as before, you need training and testing data\n",
    "- try several values of k \n",
    "- feature selection, scaling, distance are important\n",
    "- are the three groups balanced?\n",
    "- how do you break ties?\n",
    "\n",
    "**Hints (on tie breaking)**: (i) random selection between tied labels; (ii) use the distances when tied (closer neighbors are more relevant)."
   ]
  },
  {
   "cell_type": "code",
   "execution_count": 25,
   "metadata": {},
   "outputs": [
    {
     "data": {
      "text/plain": [
       "1    248\n",
       "3     79\n",
       "2     70\n",
       "Name: origin, dtype: int64"
      ]
     },
     "execution_count": 25,
     "metadata": {},
     "output_type": "execute_result"
    }
   ],
   "source": [
    "# code here and in additional cells if needed\n",
    "auto_df.origin.value_counts()"
   ]
  },
  {
   "cell_type": "code",
   "execution_count": 49,
   "metadata": {},
   "outputs": [
    {
     "data": {
      "text/plain": [
       "Text(0.5, 1.0, 'origin vs origin')"
      ]
     },
     "execution_count": 49,
     "metadata": {},
     "output_type": "execute_result"
    },
    {
     "data": {
      "image/png": "[encoded data removed]",
      "text/plain": [
       "<Figure size 2160x2160 with 8 Axes>"
      ]
     },
     "metadata": {},
     "output_type": "display_data"
    }
   ],
   "source": [
    "from matplotlib.pyplot import figure\n",
    "fig, axs = plt.subplots(4,2,figsize=(30,30))\n",
    "\n",
    "axs[0,0].hist(uno.mpg, alpha=0.5)\n",
    "axs[0,0].hist(dos.mpg, alpha=0.5)\n",
    "axs[0,0].hist(tres.mpg, alpha=0.5)\n",
    "axs[0,0].set_title(\"origin vs mpg\")\n",
    "\n",
    "axs[0,1].hist(uno.cylinders, alpha=0.5)\n",
    "axs[0,1].hist(dos.cylinders, alpha=0.5)\n",
    "axs[0,1].hist(tres.cylinders, alpha=0.5)\n",
    "axs[0,1].set_title(\"origins vs cylinders\")\n",
    "\n",
    "axs[1,0].hist(uno.displacement, alpha=0.5, bins=50)\n",
    "axs[1,0].hist(dos.displacement, alpha=0.5, bins=50)\n",
    "axs[1,0].hist(tres.displacement, alpha=0.5, bins=50)\n",
    "axs[1,0].set_title(\"origin vs displacement\")\n",
    "\n",
    "axs[1,1].hist(uno.horsepower, alpha=0.5, bins=50)\n",
    "axs[1,1].hist(dos.horsepower, alpha=0.5, bins=50)\n",
    "axs[1,1].hist(tres.horsepower, alpha=0.5, bins=50)\n",
    "axs[1,1].set_title(\"origin vs horsepower\")\n",
    "\n",
    "axs[2,0].hist(uno.weight, bins=50, alpha=0.5)\n",
    "axs[2,0].hist(dos.weight, bins=50, alpha=0.5)\n",
    "axs[2,0].hist(tres.weight, bins=50, alpha=0.5)\n",
    "axs[2,0].set_title(\"origin vs weight\")\n",
    "\n",
    "axs[2,1].hist(uno.acceleration, alpha=0.5, bins=36)\n",
    "axs[2,1].hist(dos.acceleration, alpha=0.5, bins=36)\n",
    "axs[2,1].hist(tres.acceleration, alpha=0.5, bins=36)\n",
    "axs[2,1].set_title(\"origin vs acceleration\")\n",
    "\n",
    "axs[3,0].hist(uno.year, bins=13, alpha=0.5)\n",
    "axs[3,0].hist(dos.year, bins=13, alpha=0.5)\n",
    "axs[3,0].hist(tres.year, bins=13, alpha=0.5)\n",
    "axs[3,0].set_title(\"origin vs year\")\n",
    "\n",
    "axs[3,1].hist(uno.origin, alpha=0.5)\n",
    "axs[3,1].hist(dos.origin, alpha=0.5)\n",
    "axs[3,1].hist(tres.origin, alpha=0.5)\n",
    "axs[3,1].set_title(\"origin vs origin\")"
   ]
  },
  {
   "cell_type": "code",
   "execution_count": 44,
   "metadata": {},
   "outputs": [],
   "source": [
    "uno = auto_df[auto_df[\"origin\"]==1]\n",
    "dos = auto_df[auto_df[\"origin\"]==2]\n",
    "tres = auto_df[auto_df[\"origin\"]==3]"
   ]
  },
  {
   "cell_type": "code",
   "execution_count": 50,
   "metadata": {},
   "outputs": [
    {
     "name": "stdout",
     "output_type": "stream",
     "text": [
      "As we did with 2.4, we want to select features where is the least intersection of histograms for each origin value.  For this problem, let us once again select weight and displacement as the test features\n"
     ]
    }
   ],
   "source": [
    "print(\"As we did with 2.4, we want to select features where is the least intersection of histograms for each origin value.  For this problem, let us once again select weight and displacement as the test features\")"
   ]
  },
  {
   "cell_type": "code",
   "execution_count": 27,
   "metadata": {},
   "outputs": [
    {
     "data": {
      "text/html": [
       "<div>\n",
       "<style scoped>\n",
       "    .dataframe tbody tr th:only-of-type {\n",
       "        vertical-align: middle;\n",
       "    }\n",
       "\n",
       "    .dataframe tbody tr th {\n",
       "        vertical-align: top;\n",
       "    }\n",
       "\n",
       "    .dataframe thead th {\n",
       "        text-align: right;\n",
       "    }\n",
       "</style>\n",
       "<table border=\"1\" class=\"dataframe\">\n",
       "  <thead>\n",
       "    <tr style=\"text-align: right;\">\n",
       "      <th></th>\n",
       "      <th>Disp</th>\n",
       "      <th>Weight</th>\n",
       "    </tr>\n",
       "  </thead>\n",
       "  <tbody>\n",
       "    <tr>\n",
       "      <th>0</th>\n",
       "      <td>1.109418</td>\n",
       "      <td>0.662464</td>\n",
       "    </tr>\n",
       "    <tr>\n",
       "      <th>1</th>\n",
       "      <td>1.520336</td>\n",
       "      <td>0.886592</td>\n",
       "    </tr>\n",
       "    <tr>\n",
       "      <th>4</th>\n",
       "      <td>1.061637</td>\n",
       "      <td>0.597241</td>\n",
       "    </tr>\n",
       "    <tr>\n",
       "      <th>5</th>\n",
       "      <td>2.275278</td>\n",
       "      <td>1.655032</td>\n",
       "    </tr>\n",
       "    <tr>\n",
       "      <th>6</th>\n",
       "      <td>2.514184</td>\n",
       "      <td>1.670448</td>\n",
       "    </tr>\n",
       "  </tbody>\n",
       "</table>\n",
       "</div>"
      ],
      "text/plain": [
       "       Disp    Weight\n",
       "0  1.109418  0.662464\n",
       "1  1.520336  0.886592\n",
       "4  1.061637  0.597241\n",
       "5  2.275278  1.655032\n",
       "6  2.514184  1.670448"
      ]
     },
     "execution_count": 27,
     "metadata": {},
     "output_type": "execute_result"
    }
   ],
   "source": [
    "def standard_units(x):\n",
    "    \"Convert any array of numbers to standard units.\"\n",
    "    return (x - np.average(x))/np.std(x,ddof=1)\n",
    "\n",
    "xtrain=pd.DataFrame(\n",
    "        {\"Disp\": standard_units(training.displacement),\n",
    "         \"Weight\": standard_units(training.weight)})\n",
    "\n",
    "ytrain = training[\"origin\"]\n",
    "\n",
    "xtest=pd.DataFrame(\n",
    "        {\"Disp\": standard_units(test.displacement),\n",
    "         \"Weight\": standard_units(test.weight)})\n",
    "\n",
    "ytest = test[\"origin\"]\n",
    "\n",
    "xtrain.head()"
   ]
  },
  {
   "cell_type": "code",
   "execution_count": 28,
   "metadata": {},
   "outputs": [],
   "source": [
    "def distance(pt1, pt2):\n",
    "    return np.sqrt(sum((pt1 - pt2)**2))\n",
    "\n",
    "def all_distances(training, point):\n",
    "    attributes = training[[\"Disp\",\"Weight\"]]\n",
    "    def distance_from_point(row):\n",
    "        return distance(point, np.array(row))\n",
    "    return attributes.apply(distance_from_point,axis=1)\n",
    "\n",
    "def closest(X_train, Y_train, point, k):\n",
    "    \"\"\"A df containing the k closest rows in the training df to \n",
    "    array 'point' \"\"\"\n",
    "    attributes=X_train.copy()\n",
    "    attributes['Distance']=all_distances(attributes, point)\n",
    "    attributes['Class']=Y_train\n",
    "    attributes=attributes.sort_values('Distance')    \n",
    "    topk = attributes.head(k)\n",
    "    return topk"
   ]
  },
  {
   "cell_type": "markdown",
   "metadata": {},
   "source": [
    "*Write your answer here, replacing this text.*"
   ]
  },
  {
   "cell_type": "code",
   "execution_count": 29,
   "metadata": {},
   "outputs": [],
   "source": [
    "import random\n",
    "\n",
    "def majority(topkclasses):\n",
    "    ones = topkclasses[topkclasses.Class==1].shape[0]\n",
    "    twos = topkclasses[topkclasses.Class==2].shape[0]\n",
    "    threes = topkclasses[topkclasses.Class==3].shape[0]\n",
    "    if (ones > twos) & (ones > threes):\n",
    "        return 1\n",
    "    if (twos > ones) & (twos > threes):\n",
    "        return 2\n",
    "    if (threes > ones) & (threes > twos):\n",
    "        return 3\n",
    "    if (ones > threes) & (ones == twos):\n",
    "        if random.randint(0, 1) == 0:\n",
    "            return 1\n",
    "        else:\n",
    "            return 2\n",
    "    if (ones > twos) & (ones == threes):\n",
    "        if random.randint(0, 1) == 0:\n",
    "            return 1\n",
    "        else:\n",
    "            return 3\n",
    "    if (twos > ones) & (threes == twos):\n",
    "        if random.randint(0, 1) == 0:\n",
    "            return 2\n",
    "        else:\n",
    "            return 3\n",
    "    if (ones == twos == threes):\n",
    "        dunk = random.randint(0, 2)\n",
    "        if dunk == 0:\n",
    "            return 1\n",
    "        if dunk == 1:\n",
    "            return 2\n",
    "        if dunk == 2:\n",
    "            return 3\n",
    "    else:\n",
    "        print(ones,twos,threes)"
   ]
  },
  {
   "cell_type": "code",
   "execution_count": 34,
   "metadata": {},
   "outputs": [],
   "source": [
    "def classify(X_train,Y_train, X_test, k):\n",
    "    #training = X_train\n",
    "    n=X_test.shape[0] # the number of test cases\n",
    "    \n",
    "    pred_class = np.array([])\n",
    "    for i in np.arange(n):\n",
    "        topkclasses = closest(X_train,Y_train, X_test.iloc[i], k)\n",
    "        pred_class = np.append(pred_class,majority(topkclasses))\n",
    "    \n",
    "    report_df=X_test.copy()\n",
    "    report_df['Class']=pred_class\n",
    "    \n",
    "    return report_df"
   ]
  },
  {
   "cell_type": "code",
   "execution_count": 31,
   "metadata": {},
   "outputs": [],
   "source": [
    "res_df=classify(xtrain,ytrain, xtest, 5)"
   ]
  },
  {
   "cell_type": "code",
   "execution_count": 32,
   "metadata": {},
   "outputs": [
    {
     "data": {
      "text/html": [
       "<div>\n",
       "<style scoped>\n",
       "    .dataframe tbody tr th:only-of-type {\n",
       "        vertical-align: middle;\n",
       "    }\n",
       "\n",
       "    .dataframe tbody tr th {\n",
       "        vertical-align: top;\n",
       "    }\n",
       "\n",
       "    .dataframe thead th {\n",
       "        text-align: right;\n",
       "    }\n",
       "</style>\n",
       "<table border=\"1\" class=\"dataframe\">\n",
       "  <thead>\n",
       "    <tr style=\"text-align: right;\">\n",
       "      <th></th>\n",
       "      <th>Disp</th>\n",
       "      <th>Weight</th>\n",
       "      <th>Class</th>\n",
       "    </tr>\n",
       "  </thead>\n",
       "  <tbody>\n",
       "    <tr>\n",
       "      <th>0</th>\n",
       "      <td>1.851224</td>\n",
       "      <td>2.134891</td>\n",
       "      <td>1.0</td>\n",
       "    </tr>\n",
       "    <tr>\n",
       "      <th>1</th>\n",
       "      <td>0.130207</td>\n",
       "      <td>-0.025380</td>\n",
       "      <td>1.0</td>\n",
       "    </tr>\n",
       "    <tr>\n",
       "      <th>2</th>\n",
       "      <td>-0.479524</td>\n",
       "      <td>0.307412</td>\n",
       "      <td>2.0</td>\n",
       "    </tr>\n",
       "    <tr>\n",
       "      <th>3</th>\n",
       "      <td>0.130207</td>\n",
       "      <td>0.330443</td>\n",
       "      <td>1.0</td>\n",
       "    </tr>\n",
       "    <tr>\n",
       "      <th>4</th>\n",
       "      <td>-0.705715</td>\n",
       "      <td>-0.314414</td>\n",
       "      <td>1.0</td>\n",
       "    </tr>\n",
       "    <tr>\n",
       "      <th>5</th>\n",
       "      <td>-1.118759</td>\n",
       "      <td>-1.160788</td>\n",
       "      <td>3.0</td>\n",
       "    </tr>\n",
       "    <tr>\n",
       "      <th>6</th>\n",
       "      <td>0.376067</td>\n",
       "      <td>-0.140533</td>\n",
       "      <td>1.0</td>\n",
       "    </tr>\n",
       "    <tr>\n",
       "      <th>7</th>\n",
       "      <td>-1.128593</td>\n",
       "      <td>-1.241396</td>\n",
       "      <td>2.0</td>\n",
       "    </tr>\n",
       "    <tr>\n",
       "      <th>8</th>\n",
       "      <td>1.359505</td>\n",
       "      <td>1.791735</td>\n",
       "      <td>1.0</td>\n",
       "    </tr>\n",
       "    <tr>\n",
       "      <th>9</th>\n",
       "      <td>-1.295778</td>\n",
       "      <td>-0.487143</td>\n",
       "      <td>3.0</td>\n",
       "    </tr>\n",
       "  </tbody>\n",
       "</table>\n",
       "</div>"
      ],
      "text/plain": [
       "       Disp    Weight  Class\n",
       "0  1.851224  2.134891    1.0\n",
       "1  0.130207 -0.025380    1.0\n",
       "2 -0.479524  0.307412    2.0\n",
       "3  0.130207  0.330443    1.0\n",
       "4 -0.705715 -0.314414    1.0\n",
       "5 -1.118759 -1.160788    3.0\n",
       "6  0.376067 -0.140533    1.0\n",
       "7 -1.128593 -1.241396    2.0\n",
       "8  1.359505  1.791735    1.0\n",
       "9 -1.295778 -0.487143    3.0"
      ]
     },
     "execution_count": 32,
     "metadata": {},
     "output_type": "execute_result"
    }
   ],
   "source": [
    "res_df.head(10)"
   ]
  },
  {
   "cell_type": "code",
   "execution_count": 33,
   "metadata": {},
   "outputs": [],
   "source": [
    "def classify(X_train,Y_train, X_test, k):\n",
    "    #training = X_train\n",
    "    n=X_test.shape[0] # the number of test cases\n",
    "    \n",
    "    pred_class = np.array([])\n",
    "    for i in np.arange(n):\n",
    "        topkclasses = closest(X_train,Y_train, X_test.iloc[i], k)\n",
    "        pred_class = np.append(pred_class,majority(topkclasses))\n",
    "    \n",
    "    report_df=X_test.copy()\n",
    "    report_df['Class']=pred_class\n",
    "    \n",
    "    return report_df"
   ]
  },
  {
   "cell_type": "code",
   "execution_count": 35,
   "metadata": {},
   "outputs": [],
   "source": [
    "res_df=classify(xtrain,ytrain, xtest, 5)"
   ]
  },
  {
   "cell_type": "code",
   "execution_count": 36,
   "metadata": {},
   "outputs": [
    {
     "data": {
      "text/html": [
       "<div>\n",
       "<style scoped>\n",
       "    .dataframe tbody tr th:only-of-type {\n",
       "        vertical-align: middle;\n",
       "    }\n",
       "\n",
       "    .dataframe tbody tr th {\n",
       "        vertical-align: top;\n",
       "    }\n",
       "\n",
       "    .dataframe thead th {\n",
       "        text-align: right;\n",
       "    }\n",
       "</style>\n",
       "<table border=\"1\" class=\"dataframe\">\n",
       "  <thead>\n",
       "    <tr style=\"text-align: right;\">\n",
       "      <th></th>\n",
       "      <th>Disp</th>\n",
       "      <th>Weight</th>\n",
       "      <th>Class</th>\n",
       "    </tr>\n",
       "  </thead>\n",
       "  <tbody>\n",
       "    <tr>\n",
       "      <th>0</th>\n",
       "      <td>1.851224</td>\n",
       "      <td>2.134891</td>\n",
       "      <td>1.0</td>\n",
       "    </tr>\n",
       "    <tr>\n",
       "      <th>1</th>\n",
       "      <td>0.130207</td>\n",
       "      <td>-0.025380</td>\n",
       "      <td>1.0</td>\n",
       "    </tr>\n",
       "    <tr>\n",
       "      <th>2</th>\n",
       "      <td>-0.479524</td>\n",
       "      <td>0.307412</td>\n",
       "      <td>2.0</td>\n",
       "    </tr>\n",
       "    <tr>\n",
       "      <th>3</th>\n",
       "      <td>0.130207</td>\n",
       "      <td>0.330443</td>\n",
       "      <td>1.0</td>\n",
       "    </tr>\n",
       "    <tr>\n",
       "      <th>4</th>\n",
       "      <td>-0.705715</td>\n",
       "      <td>-0.314414</td>\n",
       "      <td>1.0</td>\n",
       "    </tr>\n",
       "    <tr>\n",
       "      <th>5</th>\n",
       "      <td>-1.118759</td>\n",
       "      <td>-1.160788</td>\n",
       "      <td>3.0</td>\n",
       "    </tr>\n",
       "    <tr>\n",
       "      <th>6</th>\n",
       "      <td>0.376067</td>\n",
       "      <td>-0.140533</td>\n",
       "      <td>1.0</td>\n",
       "    </tr>\n",
       "    <tr>\n",
       "      <th>7</th>\n",
       "      <td>-1.128593</td>\n",
       "      <td>-1.241396</td>\n",
       "      <td>2.0</td>\n",
       "    </tr>\n",
       "    <tr>\n",
       "      <th>8</th>\n",
       "      <td>1.359505</td>\n",
       "      <td>1.791735</td>\n",
       "      <td>1.0</td>\n",
       "    </tr>\n",
       "    <tr>\n",
       "      <th>9</th>\n",
       "      <td>-1.295778</td>\n",
       "      <td>-0.487143</td>\n",
       "      <td>2.0</td>\n",
       "    </tr>\n",
       "    <tr>\n",
       "      <th>10</th>\n",
       "      <td>-1.128593</td>\n",
       "      <td>-1.517763</td>\n",
       "      <td>3.0</td>\n",
       "    </tr>\n",
       "    <tr>\n",
       "      <th>11</th>\n",
       "      <td>1.359505</td>\n",
       "      <td>0.670144</td>\n",
       "      <td>1.0</td>\n",
       "    </tr>\n",
       "    <tr>\n",
       "      <th>12</th>\n",
       "      <td>0.376067</td>\n",
       "      <td>0.222199</td>\n",
       "      <td>1.0</td>\n",
       "    </tr>\n",
       "    <tr>\n",
       "      <th>13</th>\n",
       "      <td>-0.558199</td>\n",
       "      <td>-0.772723</td>\n",
       "      <td>1.0</td>\n",
       "    </tr>\n",
       "    <tr>\n",
       "      <th>14</th>\n",
       "      <td>1.044804</td>\n",
       "      <td>1.148030</td>\n",
       "      <td>1.0</td>\n",
       "    </tr>\n",
       "    <tr>\n",
       "      <th>15</th>\n",
       "      <td>0.887454</td>\n",
       "      <td>0.491657</td>\n",
       "      <td>1.0</td>\n",
       "    </tr>\n",
       "    <tr>\n",
       "      <th>16</th>\n",
       "      <td>-0.302506</td>\n",
       "      <td>-0.228049</td>\n",
       "      <td>1.0</td>\n",
       "    </tr>\n",
       "    <tr>\n",
       "      <th>17</th>\n",
       "      <td>-1.246606</td>\n",
       "      <td>-1.275941</td>\n",
       "      <td>2.0</td>\n",
       "    </tr>\n",
       "    <tr>\n",
       "      <th>18</th>\n",
       "      <td>1.044804</td>\n",
       "      <td>0.337352</td>\n",
       "      <td>1.0</td>\n",
       "    </tr>\n",
       "    <tr>\n",
       "      <th>19</th>\n",
       "      <td>1.851224</td>\n",
       "      <td>1.472761</td>\n",
       "      <td>1.0</td>\n",
       "    </tr>\n",
       "    <tr>\n",
       "      <th>20</th>\n",
       "      <td>1.851224</td>\n",
       "      <td>2.030102</td>\n",
       "      <td>1.0</td>\n",
       "    </tr>\n",
       "    <tr>\n",
       "      <th>21</th>\n",
       "      <td>-1.305612</td>\n",
       "      <td>-1.373822</td>\n",
       "      <td>3.0</td>\n",
       "    </tr>\n",
       "    <tr>\n",
       "      <th>22</th>\n",
       "      <td>0.130207</td>\n",
       "      <td>0.584931</td>\n",
       "      <td>1.0</td>\n",
       "    </tr>\n",
       "    <tr>\n",
       "      <th>23</th>\n",
       "      <td>0.907123</td>\n",
       "      <td>1.829735</td>\n",
       "      <td>1.0</td>\n",
       "    </tr>\n",
       "    <tr>\n",
       "      <th>24</th>\n",
       "      <td>-0.951575</td>\n",
       "      <td>-0.517083</td>\n",
       "      <td>2.0</td>\n",
       "    </tr>\n",
       "    <tr>\n",
       "      <th>25</th>\n",
       "      <td>0.130207</td>\n",
       "      <td>0.249836</td>\n",
       "      <td>1.0</td>\n",
       "    </tr>\n",
       "    <tr>\n",
       "      <th>26</th>\n",
       "      <td>0.907123</td>\n",
       "      <td>0.333898</td>\n",
       "      <td>1.0</td>\n",
       "    </tr>\n",
       "    <tr>\n",
       "      <th>27</th>\n",
       "      <td>-0.941740</td>\n",
       "      <td>-1.062908</td>\n",
       "      <td>3.0</td>\n",
       "    </tr>\n",
       "    <tr>\n",
       "      <th>28</th>\n",
       "      <td>1.044804</td>\n",
       "      <td>1.259728</td>\n",
       "      <td>1.0</td>\n",
       "    </tr>\n",
       "    <tr>\n",
       "      <th>29</th>\n",
       "      <td>-0.430352</td>\n",
       "      <td>-0.279868</td>\n",
       "      <td>1.0</td>\n",
       "    </tr>\n",
       "    <tr>\n",
       "      <th>30</th>\n",
       "      <td>-0.902403</td>\n",
       "      <td>0.146198</td>\n",
       "      <td>2.0</td>\n",
       "    </tr>\n",
       "    <tr>\n",
       "      <th>31</th>\n",
       "      <td>-0.794224</td>\n",
       "      <td>-0.360475</td>\n",
       "      <td>1.0</td>\n",
       "    </tr>\n",
       "    <tr>\n",
       "      <th>32</th>\n",
       "      <td>-0.764721</td>\n",
       "      <td>-0.671388</td>\n",
       "      <td>3.0</td>\n",
       "    </tr>\n",
       "    <tr>\n",
       "      <th>33</th>\n",
       "      <td>-0.430352</td>\n",
       "      <td>-0.268353</td>\n",
       "      <td>1.0</td>\n",
       "    </tr>\n",
       "    <tr>\n",
       "      <th>34</th>\n",
       "      <td>2.244599</td>\n",
       "      <td>1.833190</td>\n",
       "      <td>1.0</td>\n",
       "    </tr>\n",
       "    <tr>\n",
       "      <th>35</th>\n",
       "      <td>0.887454</td>\n",
       "      <td>1.035180</td>\n",
       "      <td>1.0</td>\n",
       "    </tr>\n",
       "    <tr>\n",
       "      <th>36</th>\n",
       "      <td>0.199048</td>\n",
       "      <td>-0.586175</td>\n",
       "      <td>1.0</td>\n",
       "    </tr>\n",
       "    <tr>\n",
       "      <th>37</th>\n",
       "      <td>0.907123</td>\n",
       "      <td>0.609113</td>\n",
       "      <td>1.0</td>\n",
       "    </tr>\n",
       "    <tr>\n",
       "      <th>38</th>\n",
       "      <td>-0.705715</td>\n",
       "      <td>-0.846421</td>\n",
       "      <td>3.0</td>\n",
       "    </tr>\n",
       "    <tr>\n",
       "      <th>39</th>\n",
       "      <td>0.199048</td>\n",
       "      <td>-0.066835</td>\n",
       "      <td>1.0</td>\n",
       "    </tr>\n",
       "    <tr>\n",
       "      <th>40</th>\n",
       "      <td>1.044804</td>\n",
       "      <td>0.730024</td>\n",
       "      <td>1.0</td>\n",
       "    </tr>\n",
       "    <tr>\n",
       "      <th>41</th>\n",
       "      <td>0.130207</td>\n",
       "      <td>0.274018</td>\n",
       "      <td>1.0</td>\n",
       "    </tr>\n",
       "    <tr>\n",
       "      <th>42</th>\n",
       "      <td>-1.187600</td>\n",
       "      <td>-1.552309</td>\n",
       "      <td>3.0</td>\n",
       "    </tr>\n",
       "    <tr>\n",
       "      <th>43</th>\n",
       "      <td>0.376067</td>\n",
       "      <td>0.332746</td>\n",
       "      <td>1.0</td>\n",
       "    </tr>\n",
       "    <tr>\n",
       "      <th>44</th>\n",
       "      <td>-1.246606</td>\n",
       "      <td>-1.506248</td>\n",
       "      <td>3.0</td>\n",
       "    </tr>\n",
       "    <tr>\n",
       "      <th>45</th>\n",
       "      <td>-0.115652</td>\n",
       "      <td>-0.176230</td>\n",
       "      <td>1.0</td>\n",
       "    </tr>\n",
       "    <tr>\n",
       "      <th>46</th>\n",
       "      <td>-1.118759</td>\n",
       "      <td>-1.414125</td>\n",
       "      <td>3.0</td>\n",
       "    </tr>\n",
       "    <tr>\n",
       "      <th>47</th>\n",
       "      <td>-0.882734</td>\n",
       "      <td>-1.062908</td>\n",
       "      <td>1.0</td>\n",
       "    </tr>\n",
       "    <tr>\n",
       "      <th>48</th>\n",
       "      <td>-0.597537</td>\n",
       "      <td>-0.464113</td>\n",
       "      <td>3.0</td>\n",
       "    </tr>\n",
       "    <tr>\n",
       "      <th>49</th>\n",
       "      <td>-1.030250</td>\n",
       "      <td>-0.781935</td>\n",
       "      <td>2.0</td>\n",
       "    </tr>\n",
       "  </tbody>\n",
       "</table>\n",
       "</div>"
      ],
      "text/plain": [
       "        Disp    Weight  Class\n",
       "0   1.851224  2.134891    1.0\n",
       "1   0.130207 -0.025380    1.0\n",
       "2  -0.479524  0.307412    2.0\n",
       "3   0.130207  0.330443    1.0\n",
       "4  -0.705715 -0.314414    1.0\n",
       "5  -1.118759 -1.160788    3.0\n",
       "6   0.376067 -0.140533    1.0\n",
       "7  -1.128593 -1.241396    2.0\n",
       "8   1.359505  1.791735    1.0\n",
       "9  -1.295778 -0.487143    2.0\n",
       "10 -1.128593 -1.517763    3.0\n",
       "11  1.359505  0.670144    1.0\n",
       "12  0.376067  0.222199    1.0\n",
       "13 -0.558199 -0.772723    1.0\n",
       "14  1.044804  1.148030    1.0\n",
       "15  0.887454  0.491657    1.0\n",
       "16 -0.302506 -0.228049    1.0\n",
       "17 -1.246606 -1.275941    2.0\n",
       "18  1.044804  0.337352    1.0\n",
       "19  1.851224  1.472761    1.0\n",
       "20  1.851224  2.030102    1.0\n",
       "21 -1.305612 -1.373822    3.0\n",
       "22  0.130207  0.584931    1.0\n",
       "23  0.907123  1.829735    1.0\n",
       "24 -0.951575 -0.517083    2.0\n",
       "25  0.130207  0.249836    1.0\n",
       "26  0.907123  0.333898    1.0\n",
       "27 -0.941740 -1.062908    3.0\n",
       "28  1.044804  1.259728    1.0\n",
       "29 -0.430352 -0.279868    1.0\n",
       "30 -0.902403  0.146198    2.0\n",
       "31 -0.794224 -0.360475    1.0\n",
       "32 -0.764721 -0.671388    3.0\n",
       "33 -0.430352 -0.268353    1.0\n",
       "34  2.244599  1.833190    1.0\n",
       "35  0.887454  1.035180    1.0\n",
       "36  0.199048 -0.586175    1.0\n",
       "37  0.907123  0.609113    1.0\n",
       "38 -0.705715 -0.846421    3.0\n",
       "39  0.199048 -0.066835    1.0\n",
       "40  1.044804  0.730024    1.0\n",
       "41  0.130207  0.274018    1.0\n",
       "42 -1.187600 -1.552309    3.0\n",
       "43  0.376067  0.332746    1.0\n",
       "44 -1.246606 -1.506248    3.0\n",
       "45 -0.115652 -0.176230    1.0\n",
       "46 -1.118759 -1.414125    3.0\n",
       "47 -0.882734 -1.062908    1.0\n",
       "48 -0.597537 -0.464113    3.0\n",
       "49 -1.030250 -0.781935    2.0"
      ]
     },
     "execution_count": 36,
     "metadata": {},
     "output_type": "execute_result"
    }
   ],
   "source": [
    "res_df"
   ]
  },
  {
   "cell_type": "code",
   "execution_count": 37,
   "metadata": {},
   "outputs": [
    {
     "data": {
      "text/plain": [
       "0.76"
      ]
     },
     "execution_count": 37,
     "metadata": {},
     "output_type": "execute_result"
    }
   ],
   "source": [
    "np.mean(ytest==res_df.Class)"
   ]
  },
  {
   "cell_type": "code",
   "execution_count": 38,
   "metadata": {},
   "outputs": [
    {
     "data": {
      "text/plain": [
       "0.78"
      ]
     },
     "execution_count": 38,
     "metadata": {},
     "output_type": "execute_result"
    }
   ],
   "source": [
    "trial4=classify(xtrain,ytrain, xtest, 10)\n",
    "np.mean(ytest==trial4.Class)"
   ]
  },
  {
   "cell_type": "code",
   "execution_count": 41,
   "metadata": {},
   "outputs": [
    {
     "name": "stdout",
     "output_type": "stream",
     "text": [
      "The 3 groups are not balanced, because there is far more of origin 1 than there is of origin 2 or 3 (which are quite close in terms of quantity)\n",
      "As opposed to 2.4, we find that there is only one k value that gets us the best accuracy (k=5).  Furthermore, given that the accuracy is lower than it was for 2.4, this indicates that weight and displacement may not be the optimal factors to use to predict origin\n"
     ]
    }
   ],
   "source": [
    "print(\"The 3 groups are not balanced, because there is far more of origin 1 than there is of origin 2 or 3 (which are quite close in terms of quantity)\")\n",
    "print(\"As opposed to 2.4, we find that there is only one k value that gets us the best accuracy (k=5).  Furthermore, given that the accuracy is lower than it was for 2.4, this indicates that weight and displacement may not be the optimal factors to use to predict origin\")"
   ]
  },
  {
   "cell_type": "code",
   "execution_count": 39,
   "metadata": {},
   "outputs": [
    {
     "name": "stdout",
     "output_type": "stream",
     "text": [
      "0.74\n",
      "0.76\n",
      "0.8\n",
      "0.78\n",
      "0.74\n",
      "0.72\n",
      "0.76\n",
      "0.78\n",
      "0.78\n",
      "0.76\n",
      "0.78\n",
      "0.74\n",
      "0.76\n",
      "0.76\n",
      "0.78\n",
      "0.78\n",
      "0.78\n",
      "0.76\n",
      "0.76\n",
      "0.78\n",
      "0.76\n",
      "0.76\n"
     ]
    }
   ],
   "source": [
    "k=list(range(3,25))\n",
    "for i in k:\n",
    "    print(np.mean(ytest==classify(xtrain,ytrain, xtest, i).Class))"
   ]
  },
  {
   "cell_type": "code",
   "execution_count": null,
   "metadata": {},
   "outputs": [],
   "source": []
  }
 ],
 "metadata": {
  "kernelspec": {
   "display_name": "Python 3 (ipykernel)",
   "language": "python",
   "name": "python3"
  },
  "language_info": {
   "codemirror_mode": {
    "name": "ipython",
    "version": 3
   },
   "file_extension": ".py",
   "mimetype": "text/x-python",
   "name": "python",
   "nbconvert_exporter": "python",
   "pygments_lexer": "ipython3",
   "version": "3.9.7"
  }
 },
 "nbformat": 4,
 "nbformat_minor": 4
}
