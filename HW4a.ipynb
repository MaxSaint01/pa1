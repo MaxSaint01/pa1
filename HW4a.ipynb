{
 "cells": [
  {
   "cell_type": "code",
   "execution_count": 1,
   "id": "726b5e6b",
   "metadata": {},
   "outputs": [],
   "source": [
    "import matplotlib.pyplot as plt\n",
    "import numpy as np\n",
    "import pandas as pd\n",
    "import scipy.stats"
   ]
  },
  {
   "cell_type": "code",
   "execution_count": 2,
   "id": "76d42db2",
   "metadata": {},
   "outputs": [],
   "source": [
    "means_1 = scipy.stats.multivariate_normal.rvs(mean=[0,1], cov=np.array([[1, 0], [0, 1]]), size=10)\n",
    "means_2 = scipy.stats.multivariate_normal.rvs(mean=[1,0], cov=np.array([[1, 0], [0, 1]]), size=10)"
   ]
  },
  {
   "cell_type": "code",
   "execution_count": 40,
   "id": "8c6112cb",
   "metadata": {},
   "outputs": [
    {
     "data": {
      "text/plain": [
       "array([[-2.43868253,  1.00889142],\n",
       "       [ 1.72994461,  1.42334329],\n",
       "       [-0.65649612,  1.13572881],\n",
       "       [ 0.76420973,  1.99549579],\n",
       "       [-1.51422703, -1.41988877],\n",
       "       [-2.14127523,  0.12079594],\n",
       "       [ 0.63885243,  2.01407069],\n",
       "       [-0.10768086,  2.28282122],\n",
       "       [-0.21918063,  2.18381204],\n",
       "       [-1.812337  ,  1.51168499]])"
      ]
     },
     "execution_count": 40,
     "metadata": {},
     "output_type": "execute_result"
    }
   ],
   "source": [
    "means_1"
   ]
  },
  {
   "cell_type": "code",
   "execution_count": 3,
   "id": "1f343b83",
   "metadata": {},
   "outputs": [],
   "source": [
    "def generate_some_data(means):\n",
    "    points = []\n",
    "    for m in means:        \n",
    "        for i in range(10):\n",
    "            z = scipy.stats.multivariate_normal.rvs(mean=[m[0],m[1]], cov=np.array([[1/3, 0], [0, 1/3]]), size=1)\n",
    "            points.append(z)\n",
    "    return(points)\n",
    "a = generate_some_data(means_1)\n",
    "points1 = np.array(a)\n",
    "points2 = np.array(generate_some_data(means_2))"
   ]
  },
  {
   "cell_type": "code",
   "execution_count": 4,
   "id": "4b20ea42",
   "metadata": {},
   "outputs": [],
   "source": [
    "points=np.concatenate((points1, points2))"
   ]
  },
  {
   "cell_type": "code",
   "execution_count": 5,
   "id": "537afce9",
   "metadata": {},
   "outputs": [],
   "source": [
    "labels=[]\n",
    "for i in range(100):\n",
    "    labels.append(0)\n",
    "for j in range(100):\n",
    "    labels.append(1)"
   ]
  },
  {
   "cell_type": "code",
   "execution_count": 44,
   "id": "9b4efd9a",
   "metadata": {},
   "outputs": [
    {
     "data": {
      "text/plain": [
       "array([[-2.51196090e+00,  1.38702850e+00],\n",
       "       [-3.21523242e+00,  1.52872602e+00],\n",
       "       [-1.33841039e+00,  6.59796288e-01],\n",
       "       [-2.80804916e+00,  7.70018409e-01],\n",
       "       [-3.16074984e+00,  1.77563497e+00],\n",
       "       [-2.97088735e+00,  1.96069274e+00],\n",
       "       [-1.99557814e+00,  1.12252012e+00],\n",
       "       [-2.61188169e+00,  1.40656191e+00],\n",
       "       [-8.99256788e-01,  7.81444666e-01],\n",
       "       [-2.51744722e+00, -3.22974436e-01],\n",
       "       [ 1.98659450e+00,  1.80822424e+00],\n",
       "       [ 8.49126668e-01,  1.99784781e+00],\n",
       "       [ 1.76709178e+00,  8.11875007e-01],\n",
       "       [ 2.38714395e+00,  1.01249969e+00],\n",
       "       [ 2.07310813e+00,  9.30544870e-01],\n",
       "       [ 2.01471442e+00,  1.08770469e+00],\n",
       "       [ 1.28146302e+00,  1.61146279e+00],\n",
       "       [ 1.98248425e+00,  1.06103202e+00],\n",
       "       [ 1.77450601e+00,  1.89092216e+00],\n",
       "       [ 2.20783330e+00,  5.89131899e-01],\n",
       "       [ 3.29293601e-01,  1.60353838e+00],\n",
       "       [ 5.20612690e-01,  1.17467812e+00],\n",
       "       [-9.67734102e-01,  1.55539459e+00],\n",
       "       [-9.41334592e-01,  1.15247969e+00],\n",
       "       [-5.76082852e-01,  7.28906504e-01],\n",
       "       [-3.52015067e-01,  1.74436468e+00],\n",
       "       [ 5.74924163e-01,  1.95604393e-01],\n",
       "       [-7.76298065e-01,  2.56134343e-01],\n",
       "       [-5.10586645e-01,  1.86690838e+00],\n",
       "       [-1.49433057e+00,  3.90756051e-01],\n",
       "       [ 2.01535425e+00,  1.42033659e+00],\n",
       "       [ 5.74077875e-01,  2.53412007e+00],\n",
       "       [ 6.07263956e-01,  1.96672194e+00],\n",
       "       [ 1.09175269e+00,  1.43316528e+00],\n",
       "       [ 6.44610591e-01,  2.14862325e+00],\n",
       "       [-5.01255462e-02,  1.43312945e+00],\n",
       "       [ 9.59094233e-01,  2.33504192e+00],\n",
       "       [ 9.43402267e-01,  1.69225100e+00],\n",
       "       [ 3.86306456e-01,  2.60757721e+00],\n",
       "       [ 5.09017809e-01,  1.69862965e+00],\n",
       "       [-1.30394224e+00, -1.75742519e+00],\n",
       "       [-1.56573781e+00, -2.23248943e+00],\n",
       "       [-1.82349396e+00, -1.37976006e+00],\n",
       "       [-1.10939230e+00, -1.37644657e+00],\n",
       "       [-1.40675881e+00, -2.20100580e+00],\n",
       "       [-1.08313567e+00, -8.99977849e-01],\n",
       "       [-1.13800558e+00, -9.97733023e-01],\n",
       "       [-1.93628646e+00, -1.70735414e+00],\n",
       "       [-1.09780428e+00, -6.46366208e-01],\n",
       "       [-1.26094932e+00, -5.93218884e-01],\n",
       "       [-2.31018952e+00, -3.86018108e-01],\n",
       "       [-2.14999501e+00, -8.29275771e-01],\n",
       "       [-2.18051765e+00,  3.57163183e-01],\n",
       "       [-2.49630606e+00, -7.97202028e-01],\n",
       "       [-1.32531064e+00, -3.21564822e-02],\n",
       "       [-2.66582120e+00, -6.10827728e-01],\n",
       "       [-1.96421198e+00,  2.53265982e-01],\n",
       "       [-1.88507033e+00, -8.46322870e-01],\n",
       "       [-1.82382937e+00,  4.04436584e-01],\n",
       "       [-2.32304765e+00, -4.95441606e-01],\n",
       "       [ 5.60892415e-02,  1.93518410e+00],\n",
       "       [ 3.08279899e-01,  1.73328730e+00],\n",
       "       [ 1.20408519e+00,  3.35296053e+00],\n",
       "       [ 3.13162700e-01,  1.22833103e+00],\n",
       "       [ 3.67024868e-01,  1.61983176e+00],\n",
       "       [-1.40412886e-03,  1.64125954e+00],\n",
       "       [ 1.30891916e+00,  1.54652510e+00],\n",
       "       [ 3.74446506e-01,  2.29357395e+00],\n",
       "       [ 4.32259774e-01,  1.01912900e+00],\n",
       "       [ 3.00465673e-01,  2.44762399e+00],\n",
       "       [-5.92410303e-02,  2.92296580e+00],\n",
       "       [ 6.94190371e-02,  2.61141642e+00],\n",
       "       [-6.28024694e-01,  1.92136051e+00],\n",
       "       [-5.90757608e-02,  1.41827088e+00],\n",
       "       [ 7.43603719e-02,  2.59145301e+00],\n",
       "       [ 5.13054604e-01,  3.14795076e+00],\n",
       "       [ 1.12777231e+00,  2.64933248e+00],\n",
       "       [ 8.10766140e-01,  2.34130647e+00],\n",
       "       [ 1.81174158e+00,  1.67261263e+00],\n",
       "       [ 1.74867847e-01,  1.72997248e+00],\n",
       "       [ 7.88101571e-01,  2.00984089e+00],\n",
       "       [-2.88646127e-01,  1.80938368e+00],\n",
       "       [-8.23613764e-02,  2.50208864e+00],\n",
       "       [-6.90784185e-01,  1.31196697e+00],\n",
       "       [-7.66874590e-01,  2.75292142e+00],\n",
       "       [-6.56190072e-01,  1.01153238e+00],\n",
       "       [-1.01189289e+00,  2.07950846e+00],\n",
       "       [-1.34253197e-01,  2.00483802e+00],\n",
       "       [-1.27497681e-01,  2.12016513e+00],\n",
       "       [-7.16752133e-01,  2.24075459e+00],\n",
       "       [-1.23386045e+00,  1.28024578e+00],\n",
       "       [-1.76070127e+00,  1.32968017e+00],\n",
       "       [-2.60095210e+00,  1.71467172e+00],\n",
       "       [-1.30936902e+00,  1.02418550e+00],\n",
       "       [-1.45786516e+00,  1.86849702e+00],\n",
       "       [-2.75557039e+00,  2.38809508e+00],\n",
       "       [-2.66418517e+00,  1.25139983e+00],\n",
       "       [-1.45280669e+00,  1.64747993e+00],\n",
       "       [-2.59371806e+00,  1.29424502e+00],\n",
       "       [-1.18572475e+00,  1.82627617e+00],\n",
       "       [ 3.53172067e-01,  5.16083547e-01],\n",
       "       [ 7.61611272e-02,  2.24896577e-01],\n",
       "       [ 1.08940066e+00,  5.95117712e-01],\n",
       "       [ 3.91134570e-01,  5.27203940e-01],\n",
       "       [-2.65403673e-01,  5.28034238e-01],\n",
       "       [ 8.10763142e-01,  6.60999588e-01],\n",
       "       [ 3.05914269e-01,  8.49927243e-01],\n",
       "       [ 9.80519112e-01,  1.27416983e+00],\n",
       "       [ 3.72297667e-01,  9.66251375e-01],\n",
       "       [ 1.57321028e+00,  6.87140840e-01],\n",
       "       [ 1.32839441e+00, -4.54393309e-01],\n",
       "       [ 1.37132739e+00,  1.34593444e-01],\n",
       "       [ 1.07814707e+00, -1.32941353e-01],\n",
       "       [ 1.01470866e+00, -5.91890738e-01],\n",
       "       [ 6.01557349e-01, -1.73439100e-02],\n",
       "       [ 3.25717155e-01, -5.18904686e-01],\n",
       "       [ 8.00558320e-01, -4.01488161e-02],\n",
       "       [ 1.78793664e+00, -6.28225569e-01],\n",
       "       [-3.27290104e-01, -1.88919419e+00],\n",
       "       [ 1.55629249e+00,  3.25678254e-01],\n",
       "       [ 1.65888618e+00,  9.90187091e-01],\n",
       "       [ 2.96109499e+00,  1.05457348e+00],\n",
       "       [ 3.40316786e+00,  1.79504813e+00],\n",
       "       [ 2.72522944e+00,  1.52130460e+00],\n",
       "       [ 2.77861211e+00,  3.07718454e-01],\n",
       "       [ 1.91591668e+00,  7.32918298e-02],\n",
       "       [ 1.87858051e+00,  7.96746624e-02],\n",
       "       [ 2.12609507e+00,  8.82967768e-01],\n",
       "       [ 2.83327977e+00, -2.03749072e-01],\n",
       "       [ 2.17224200e+00,  8.84320236e-01],\n",
       "       [-5.40852441e-01, -5.41843546e-01],\n",
       "       [-9.20453329e-01, -5.62404644e-01],\n",
       "       [-2.01740036e-01, -1.36117727e+00],\n",
       "       [-9.71142199e-01, -1.12229742e+00],\n",
       "       [-1.77084850e+00,  7.67270211e-01],\n",
       "       [-2.26285937e+00, -6.64866266e-01],\n",
       "       [-1.94466399e+00, -5.12895682e-01],\n",
       "       [-1.37185631e+00, -1.24040577e-01],\n",
       "       [-4.23460831e-01, -9.28115295e-01],\n",
       "       [-2.04537883e+00, -8.41080984e-01],\n",
       "       [ 3.21327408e-01, -3.66854727e-01],\n",
       "       [ 2.64981991e-01, -9.92069418e-01],\n",
       "       [ 1.36758673e+00,  1.11673445e+00],\n",
       "       [ 1.39031337e+00,  4.98130945e-01],\n",
       "       [ 1.58924907e+00, -1.12613409e-01],\n",
       "       [ 1.08299788e+00, -1.94364713e-01],\n",
       "       [ 1.39815341e+00, -4.23011996e-01],\n",
       "       [-3.36483425e-01, -1.24853023e+00],\n",
       "       [ 1.32230890e+00, -1.65505544e-01],\n",
       "       [-2.85844686e-01,  6.87314990e-02],\n",
       "       [ 1.58631562e+00, -2.13598690e-01],\n",
       "       [ 2.30614578e+00, -1.40998595e-01],\n",
       "       [ 2.64180453e+00,  1.54778563e-01],\n",
       "       [ 1.94975056e+00,  5.44564939e-02],\n",
       "       [ 2.07634619e+00,  1.71020616e-01],\n",
       "       [ 1.75882636e+00, -4.81189739e-01],\n",
       "       [ 2.45964028e+00, -9.63828620e-01],\n",
       "       [ 1.89418968e+00, -4.83511349e-01],\n",
       "       [ 1.45420289e+00, -7.20696959e-01],\n",
       "       [ 2.60464625e+00, -9.30614520e-01],\n",
       "       [ 2.20180916e+00,  3.87738041e-01],\n",
       "       [ 4.20351316e-01,  6.81945228e-01],\n",
       "       [ 1.29026945e+00,  2.07776256e-01],\n",
       "       [ 1.39585167e+00,  9.14556578e-01],\n",
       "       [ 1.96551020e+00,  9.94784398e-01],\n",
       "       [ 1.24332930e+00,  1.22053092e+00],\n",
       "       [ 1.19836920e+00, -3.78599496e-01],\n",
       "       [ 1.69636701e+00,  1.34000112e-01],\n",
       "       [ 9.91786709e-01,  6.58576990e-01],\n",
       "       [ 1.72635404e+00,  3.03638672e-01],\n",
       "       [-3.80634886e-01, -1.19783658e+00],\n",
       "       [-3.82539866e-02, -1.82688368e+00],\n",
       "       [-1.23056394e+00, -1.72491389e+00],\n",
       "       [-1.68470646e+00,  3.43455249e-01],\n",
       "       [-1.23783154e+00, -1.51728587e+00],\n",
       "       [-1.90339969e+00, -1.90692712e+00],\n",
       "       [-8.71203599e-01, -8.82782039e-01],\n",
       "       [-1.38650797e+00, -1.37772997e+00],\n",
       "       [-1.30479810e+00, -1.64605174e+00],\n",
       "       [-8.29302756e-01, -2.69057771e+00],\n",
       "       [ 8.16630048e-01, -5.56362827e-01],\n",
       "       [ 8.79241807e-01, -9.03534285e-01],\n",
       "       [ 8.77579819e-01,  2.08844956e-02],\n",
       "       [ 4.81828276e-01,  5.51162662e-01],\n",
       "       [-1.11764836e-01, -1.16417606e-02],\n",
       "       [ 3.03149851e-01, -2.90411837e-01],\n",
       "       [ 7.18729497e-01, -2.70795932e-01],\n",
       "       [ 7.56404127e-02,  1.70895620e-01],\n",
       "       [-9.94654453e-01, -6.11478764e-01],\n",
       "       [ 6.94519625e-01,  1.25538301e-01],\n",
       "       [ 3.91260686e-01,  7.18977937e-01],\n",
       "       [ 1.35569275e+00,  5.98544660e-01],\n",
       "       [ 6.13637086e-01, -3.32007387e-01],\n",
       "       [ 6.70689215e-01,  9.33810933e-01],\n",
       "       [ 7.78241890e-01,  1.11234351e+00],\n",
       "       [-5.59059221e-01, -1.76152346e-01],\n",
       "       [ 8.96816409e-02,  4.88355041e-01],\n",
       "       [ 7.32762676e-01,  3.20734222e-01],\n",
       "       [ 3.44097594e-01,  1.50853936e-02],\n",
       "       [ 1.06466760e+00,  6.34974007e-01]])"
      ]
     },
     "execution_count": 44,
     "metadata": {},
     "output_type": "execute_result"
    }
   ],
   "source": [
    "points"
   ]
  },
  {
   "cell_type": "code",
   "execution_count": 6,
   "id": "0efdd43f",
   "metadata": {},
   "outputs": [],
   "source": [
    "X = points[:,0]\n",
    "Y = points[:,1]\n",
    "vals = {\"X\": X, \"Y\": Y}\n",
    "df = pd.DataFrame(vals)"
   ]
  },
  {
   "cell_type": "code",
   "execution_count": 7,
   "id": "660a2bab",
   "metadata": {},
   "outputs": [
    {
     "data": {
      "text/html": [
       "<div>\n",
       "<style scoped>\n",
       "    .dataframe tbody tr th:only-of-type {\n",
       "        vertical-align: middle;\n",
       "    }\n",
       "\n",
       "    .dataframe tbody tr th {\n",
       "        vertical-align: top;\n",
       "    }\n",
       "\n",
       "    .dataframe thead th {\n",
       "        text-align: right;\n",
       "    }\n",
       "</style>\n",
       "<table border=\"1\" class=\"dataframe\">\n",
       "  <thead>\n",
       "    <tr style=\"text-align: right;\">\n",
       "      <th></th>\n",
       "      <th>X</th>\n",
       "      <th>Y</th>\n",
       "    </tr>\n",
       "  </thead>\n",
       "  <tbody>\n",
       "    <tr>\n",
       "      <th>0</th>\n",
       "      <td>1.181812</td>\n",
       "      <td>1.132078</td>\n",
       "    </tr>\n",
       "    <tr>\n",
       "      <th>1</th>\n",
       "      <td>1.414561</td>\n",
       "      <td>1.643157</td>\n",
       "    </tr>\n",
       "    <tr>\n",
       "      <th>2</th>\n",
       "      <td>1.478904</td>\n",
       "      <td>0.590013</td>\n",
       "    </tr>\n",
       "    <tr>\n",
       "      <th>3</th>\n",
       "      <td>0.249123</td>\n",
       "      <td>2.210431</td>\n",
       "    </tr>\n",
       "    <tr>\n",
       "      <th>4</th>\n",
       "      <td>1.464929</td>\n",
       "      <td>0.970014</td>\n",
       "    </tr>\n",
       "    <tr>\n",
       "      <th>...</th>\n",
       "      <td>...</td>\n",
       "      <td>...</td>\n",
       "    </tr>\n",
       "    <tr>\n",
       "      <th>195</th>\n",
       "      <td>3.333973</td>\n",
       "      <td>0.823913</td>\n",
       "    </tr>\n",
       "    <tr>\n",
       "      <th>196</th>\n",
       "      <td>3.526847</td>\n",
       "      <td>1.181629</td>\n",
       "    </tr>\n",
       "    <tr>\n",
       "      <th>197</th>\n",
       "      <td>3.349655</td>\n",
       "      <td>-0.562267</td>\n",
       "    </tr>\n",
       "    <tr>\n",
       "      <th>198</th>\n",
       "      <td>1.974482</td>\n",
       "      <td>0.896237</td>\n",
       "    </tr>\n",
       "    <tr>\n",
       "      <th>199</th>\n",
       "      <td>2.547533</td>\n",
       "      <td>0.686738</td>\n",
       "    </tr>\n",
       "  </tbody>\n",
       "</table>\n",
       "<p>200 rows × 2 columns</p>\n",
       "</div>"
      ],
      "text/plain": [
       "            X         Y\n",
       "0    1.181812  1.132078\n",
       "1    1.414561  1.643157\n",
       "2    1.478904  0.590013\n",
       "3    0.249123  2.210431\n",
       "4    1.464929  0.970014\n",
       "..        ...       ...\n",
       "195  3.333973  0.823913\n",
       "196  3.526847  1.181629\n",
       "197  3.349655 -0.562267\n",
       "198  1.974482  0.896237\n",
       "199  2.547533  0.686738\n",
       "\n",
       "[200 rows x 2 columns]"
      ]
     },
     "execution_count": 7,
     "metadata": {},
     "output_type": "execute_result"
    }
   ],
   "source": [
    "df"
   ]
  },
  {
   "cell_type": "code",
   "execution_count": 8,
   "id": "bc17c6bb",
   "metadata": {},
   "outputs": [],
   "source": [
    "Z = df[[\"X\",\"Y\"]].values"
   ]
  },
  {
   "cell_type": "code",
   "execution_count": null,
   "id": "f18c566f",
   "metadata": {},
   "outputs": [],
   "source": []
  },
  {
   "cell_type": "code",
   "execution_count": 9,
   "id": "6a1f5742",
   "metadata": {},
   "outputs": [],
   "source": [
    "from sklearn.neighbors import KNeighborsClassifier\n",
    "fit5 = KNeighborsClassifier().fit(Z, labels)"
   ]
  },
  {
   "cell_type": "code",
   "execution_count": 11,
   "id": "567e18c9",
   "metadata": {},
   "outputs": [],
   "source": [
    "from sklearn import metrics"
   ]
  },
  {
   "cell_type": "code",
   "execution_count": 50,
   "id": "45955195",
   "metadata": {},
   "outputs": [
    {
     "name": "stderr",
     "output_type": "stream",
     "text": [
      "/Users/maxsaint/opt/anaconda3/lib/python3.9/site-packages/sklearn/base.py:402: UserWarning: X has feature names, but KNeighborsClassifier was fitted without feature names\n",
      "  warnings.warn(\n"
     ]
    }
   ],
   "source": [
    "g = fit5.predict(df[[\"X\",\"Y\"]])"
   ]
  },
  {
   "cell_type": "code",
   "execution_count": 51,
   "id": "1c74bdbc",
   "metadata": {},
   "outputs": [
    {
     "data": {
      "text/plain": [
       "array([[93,  7],\n",
       "       [ 7, 93]])"
      ]
     },
     "execution_count": 51,
     "metadata": {},
     "output_type": "execute_result"
    }
   ],
   "source": [
    "x5 = metrics.confusion_matrix(labels, g)\n",
    "x5"
   ]
  },
  {
   "cell_type": "code",
   "execution_count": 52,
   "id": "1bd46dbe",
   "metadata": {},
   "outputs": [
    {
     "data": {
      "text/plain": [
       "0.93"
      ]
     },
     "execution_count": 52,
     "metadata": {},
     "output_type": "execute_result"
    }
   ],
   "source": [
    "(x5[0][0]+x5[1][1])/200"
   ]
  },
  {
   "cell_type": "code",
   "execution_count": 12,
   "id": "980d6a71",
   "metadata": {},
   "outputs": [
    {
     "name": "stderr",
     "output_type": "stream",
     "text": [
      "/Users/maxsaint/opt/anaconda3/lib/python3.9/site-packages/sklearn/base.py:402: UserWarning: X has feature names, but KNeighborsClassifier was fitted without feature names\n",
      "  warnings.warn(\n",
      "/Users/maxsaint/opt/anaconda3/lib/python3.9/site-packages/sklearn/base.py:402: UserWarning: X has feature names, but KNeighborsClassifier was fitted without feature names\n",
      "  warnings.warn(\n",
      "/Users/maxsaint/opt/anaconda3/lib/python3.9/site-packages/sklearn/base.py:402: UserWarning: X has feature names, but KNeighborsClassifier was fitted without feature names\n",
      "  warnings.warn(\n",
      "/Users/maxsaint/opt/anaconda3/lib/python3.9/site-packages/sklearn/base.py:402: UserWarning: X has feature names, but KNeighborsClassifier was fitted without feature names\n",
      "  warnings.warn(\n",
      "/Users/maxsaint/opt/anaconda3/lib/python3.9/site-packages/sklearn/base.py:402: UserWarning: X has feature names, but KNeighborsClassifier was fitted without feature names\n",
      "  warnings.warn(\n",
      "/Users/maxsaint/opt/anaconda3/lib/python3.9/site-packages/sklearn/base.py:402: UserWarning: X has feature names, but KNeighborsClassifier was fitted without feature names\n",
      "  warnings.warn(\n",
      "/Users/maxsaint/opt/anaconda3/lib/python3.9/site-packages/sklearn/base.py:402: UserWarning: X has feature names, but KNeighborsClassifier was fitted without feature names\n",
      "  warnings.warn(\n",
      "/Users/maxsaint/opt/anaconda3/lib/python3.9/site-packages/sklearn/base.py:402: UserWarning: X has feature names, but KNeighborsClassifier was fitted without feature names\n",
      "  warnings.warn(\n",
      "/Users/maxsaint/opt/anaconda3/lib/python3.9/site-packages/sklearn/base.py:402: UserWarning: X has feature names, but KNeighborsClassifier was fitted without feature names\n",
      "  warnings.warn(\n",
      "/Users/maxsaint/opt/anaconda3/lib/python3.9/site-packages/sklearn/base.py:402: UserWarning: X has feature names, but KNeighborsClassifier was fitted without feature names\n",
      "  warnings.warn(\n",
      "/Users/maxsaint/opt/anaconda3/lib/python3.9/site-packages/sklearn/base.py:402: UserWarning: X has feature names, but KNeighborsClassifier was fitted without feature names\n",
      "  warnings.warn(\n",
      "/Users/maxsaint/opt/anaconda3/lib/python3.9/site-packages/sklearn/base.py:402: UserWarning: X has feature names, but KNeighborsClassifier was fitted without feature names\n",
      "  warnings.warn(\n",
      "/Users/maxsaint/opt/anaconda3/lib/python3.9/site-packages/sklearn/base.py:402: UserWarning: X has feature names, but KNeighborsClassifier was fitted without feature names\n",
      "  warnings.warn(\n",
      "/Users/maxsaint/opt/anaconda3/lib/python3.9/site-packages/sklearn/base.py:402: UserWarning: X has feature names, but KNeighborsClassifier was fitted without feature names\n",
      "  warnings.warn(\n",
      "/Users/maxsaint/opt/anaconda3/lib/python3.9/site-packages/sklearn/base.py:402: UserWarning: X has feature names, but KNeighborsClassifier was fitted without feature names\n",
      "  warnings.warn(\n",
      "/Users/maxsaint/opt/anaconda3/lib/python3.9/site-packages/sklearn/base.py:402: UserWarning: X has feature names, but KNeighborsClassifier was fitted without feature names\n",
      "  warnings.warn(\n",
      "/Users/maxsaint/opt/anaconda3/lib/python3.9/site-packages/sklearn/base.py:402: UserWarning: X has feature names, but KNeighborsClassifier was fitted without feature names\n",
      "  warnings.warn(\n",
      "/Users/maxsaint/opt/anaconda3/lib/python3.9/site-packages/sklearn/base.py:402: UserWarning: X has feature names, but KNeighborsClassifier was fitted without feature names\n",
      "  warnings.warn(\n",
      "/Users/maxsaint/opt/anaconda3/lib/python3.9/site-packages/sklearn/base.py:402: UserWarning: X has feature names, but KNeighborsClassifier was fitted without feature names\n",
      "  warnings.warn(\n",
      "/Users/maxsaint/opt/anaconda3/lib/python3.9/site-packages/sklearn/base.py:402: UserWarning: X has feature names, but KNeighborsClassifier was fitted without feature names\n",
      "  warnings.warn(\n",
      "/Users/maxsaint/opt/anaconda3/lib/python3.9/site-packages/sklearn/base.py:402: UserWarning: X has feature names, but KNeighborsClassifier was fitted without feature names\n",
      "  warnings.warn(\n",
      "/Users/maxsaint/opt/anaconda3/lib/python3.9/site-packages/sklearn/base.py:402: UserWarning: X has feature names, but KNeighborsClassifier was fitted without feature names\n",
      "  warnings.warn(\n",
      "/Users/maxsaint/opt/anaconda3/lib/python3.9/site-packages/sklearn/base.py:402: UserWarning: X has feature names, but KNeighborsClassifier was fitted without feature names\n",
      "  warnings.warn(\n",
      "/Users/maxsaint/opt/anaconda3/lib/python3.9/site-packages/sklearn/base.py:402: UserWarning: X has feature names, but KNeighborsClassifier was fitted without feature names\n",
      "  warnings.warn(\n",
      "/Users/maxsaint/opt/anaconda3/lib/python3.9/site-packages/sklearn/base.py:402: UserWarning: X has feature names, but KNeighborsClassifier was fitted without feature names\n",
      "  warnings.warn(\n",
      "/Users/maxsaint/opt/anaconda3/lib/python3.9/site-packages/sklearn/base.py:402: UserWarning: X has feature names, but KNeighborsClassifier was fitted without feature names\n",
      "  warnings.warn(\n",
      "/Users/maxsaint/opt/anaconda3/lib/python3.9/site-packages/sklearn/base.py:402: UserWarning: X has feature names, but KNeighborsClassifier was fitted without feature names\n",
      "  warnings.warn(\n",
      "/Users/maxsaint/opt/anaconda3/lib/python3.9/site-packages/sklearn/base.py:402: UserWarning: X has feature names, but KNeighborsClassifier was fitted without feature names\n",
      "  warnings.warn(\n",
      "/Users/maxsaint/opt/anaconda3/lib/python3.9/site-packages/sklearn/base.py:402: UserWarning: X has feature names, but KNeighborsClassifier was fitted without feature names\n",
      "  warnings.warn(\n",
      "/Users/maxsaint/opt/anaconda3/lib/python3.9/site-packages/sklearn/base.py:402: UserWarning: X has feature names, but KNeighborsClassifier was fitted without feature names\n",
      "  warnings.warn(\n",
      "/Users/maxsaint/opt/anaconda3/lib/python3.9/site-packages/sklearn/base.py:402: UserWarning: X has feature names, but KNeighborsClassifier was fitted without feature names\n",
      "  warnings.warn(\n",
      "/Users/maxsaint/opt/anaconda3/lib/python3.9/site-packages/sklearn/base.py:402: UserWarning: X has feature names, but KNeighborsClassifier was fitted without feature names\n",
      "  warnings.warn(\n",
      "/Users/maxsaint/opt/anaconda3/lib/python3.9/site-packages/sklearn/base.py:402: UserWarning: X has feature names, but KNeighborsClassifier was fitted without feature names\n",
      "  warnings.warn(\n",
      "/Users/maxsaint/opt/anaconda3/lib/python3.9/site-packages/sklearn/base.py:402: UserWarning: X has feature names, but KNeighborsClassifier was fitted without feature names\n",
      "  warnings.warn(\n",
      "/Users/maxsaint/opt/anaconda3/lib/python3.9/site-packages/sklearn/base.py:402: UserWarning: X has feature names, but KNeighborsClassifier was fitted without feature names\n",
      "  warnings.warn(\n",
      "/Users/maxsaint/opt/anaconda3/lib/python3.9/site-packages/sklearn/base.py:402: UserWarning: X has feature names, but KNeighborsClassifier was fitted without feature names\n",
      "  warnings.warn(\n",
      "/Users/maxsaint/opt/anaconda3/lib/python3.9/site-packages/sklearn/base.py:402: UserWarning: X has feature names, but KNeighborsClassifier was fitted without feature names\n",
      "  warnings.warn(\n",
      "/Users/maxsaint/opt/anaconda3/lib/python3.9/site-packages/sklearn/base.py:402: UserWarning: X has feature names, but KNeighborsClassifier was fitted without feature names\n",
      "  warnings.warn(\n",
      "/Users/maxsaint/opt/anaconda3/lib/python3.9/site-packages/sklearn/base.py:402: UserWarning: X has feature names, but KNeighborsClassifier was fitted without feature names\n",
      "  warnings.warn(\n",
      "/Users/maxsaint/opt/anaconda3/lib/python3.9/site-packages/sklearn/base.py:402: UserWarning: X has feature names, but KNeighborsClassifier was fitted without feature names\n",
      "  warnings.warn(\n",
      "/Users/maxsaint/opt/anaconda3/lib/python3.9/site-packages/sklearn/base.py:402: UserWarning: X has feature names, but KNeighborsClassifier was fitted without feature names\n",
      "  warnings.warn(\n",
      "/Users/maxsaint/opt/anaconda3/lib/python3.9/site-packages/sklearn/base.py:402: UserWarning: X has feature names, but KNeighborsClassifier was fitted without feature names\n",
      "  warnings.warn(\n",
      "/Users/maxsaint/opt/anaconda3/lib/python3.9/site-packages/sklearn/base.py:402: UserWarning: X has feature names, but KNeighborsClassifier was fitted without feature names\n",
      "  warnings.warn(\n",
      "/Users/maxsaint/opt/anaconda3/lib/python3.9/site-packages/sklearn/base.py:402: UserWarning: X has feature names, but KNeighborsClassifier was fitted without feature names\n",
      "  warnings.warn(\n",
      "/Users/maxsaint/opt/anaconda3/lib/python3.9/site-packages/sklearn/base.py:402: UserWarning: X has feature names, but KNeighborsClassifier was fitted without feature names\n",
      "  warnings.warn(\n",
      "/Users/maxsaint/opt/anaconda3/lib/python3.9/site-packages/sklearn/base.py:402: UserWarning: X has feature names, but KNeighborsClassifier was fitted without feature names\n",
      "  warnings.warn(\n",
      "/Users/maxsaint/opt/anaconda3/lib/python3.9/site-packages/sklearn/base.py:402: UserWarning: X has feature names, but KNeighborsClassifier was fitted without feature names\n",
      "  warnings.warn(\n",
      "/Users/maxsaint/opt/anaconda3/lib/python3.9/site-packages/sklearn/base.py:402: UserWarning: X has feature names, but KNeighborsClassifier was fitted without feature names\n",
      "  warnings.warn(\n"
     ]
    },
    {
     "name": "stderr",
     "output_type": "stream",
     "text": [
      "/Users/maxsaint/opt/anaconda3/lib/python3.9/site-packages/sklearn/base.py:402: UserWarning: X has feature names, but KNeighborsClassifier was fitted without feature names\n",
      "  warnings.warn(\n",
      "/Users/maxsaint/opt/anaconda3/lib/python3.9/site-packages/sklearn/base.py:402: UserWarning: X has feature names, but KNeighborsClassifier was fitted without feature names\n",
      "  warnings.warn(\n",
      "/Users/maxsaint/opt/anaconda3/lib/python3.9/site-packages/sklearn/base.py:402: UserWarning: X has feature names, but KNeighborsClassifier was fitted without feature names\n",
      "  warnings.warn(\n",
      "/Users/maxsaint/opt/anaconda3/lib/python3.9/site-packages/sklearn/base.py:402: UserWarning: X has feature names, but KNeighborsClassifier was fitted without feature names\n",
      "  warnings.warn(\n",
      "/Users/maxsaint/opt/anaconda3/lib/python3.9/site-packages/sklearn/base.py:402: UserWarning: X has feature names, but KNeighborsClassifier was fitted without feature names\n",
      "  warnings.warn(\n",
      "/Users/maxsaint/opt/anaconda3/lib/python3.9/site-packages/sklearn/base.py:402: UserWarning: X has feature names, but KNeighborsClassifier was fitted without feature names\n",
      "  warnings.warn(\n",
      "/Users/maxsaint/opt/anaconda3/lib/python3.9/site-packages/sklearn/base.py:402: UserWarning: X has feature names, but KNeighborsClassifier was fitted without feature names\n",
      "  warnings.warn(\n",
      "/Users/maxsaint/opt/anaconda3/lib/python3.9/site-packages/sklearn/base.py:402: UserWarning: X has feature names, but KNeighborsClassifier was fitted without feature names\n",
      "  warnings.warn(\n",
      "/Users/maxsaint/opt/anaconda3/lib/python3.9/site-packages/sklearn/base.py:402: UserWarning: X has feature names, but KNeighborsClassifier was fitted without feature names\n",
      "  warnings.warn(\n",
      "/Users/maxsaint/opt/anaconda3/lib/python3.9/site-packages/sklearn/base.py:402: UserWarning: X has feature names, but KNeighborsClassifier was fitted without feature names\n",
      "  warnings.warn(\n",
      "/Users/maxsaint/opt/anaconda3/lib/python3.9/site-packages/sklearn/base.py:402: UserWarning: X has feature names, but KNeighborsClassifier was fitted without feature names\n",
      "  warnings.warn(\n",
      "/Users/maxsaint/opt/anaconda3/lib/python3.9/site-packages/sklearn/base.py:402: UserWarning: X has feature names, but KNeighborsClassifier was fitted without feature names\n",
      "  warnings.warn(\n",
      "/Users/maxsaint/opt/anaconda3/lib/python3.9/site-packages/sklearn/base.py:402: UserWarning: X has feature names, but KNeighborsClassifier was fitted without feature names\n",
      "  warnings.warn(\n",
      "/Users/maxsaint/opt/anaconda3/lib/python3.9/site-packages/sklearn/base.py:402: UserWarning: X has feature names, but KNeighborsClassifier was fitted without feature names\n",
      "  warnings.warn(\n",
      "/Users/maxsaint/opt/anaconda3/lib/python3.9/site-packages/sklearn/base.py:402: UserWarning: X has feature names, but KNeighborsClassifier was fitted without feature names\n",
      "  warnings.warn(\n",
      "/Users/maxsaint/opt/anaconda3/lib/python3.9/site-packages/sklearn/base.py:402: UserWarning: X has feature names, but KNeighborsClassifier was fitted without feature names\n",
      "  warnings.warn(\n",
      "/Users/maxsaint/opt/anaconda3/lib/python3.9/site-packages/sklearn/base.py:402: UserWarning: X has feature names, but KNeighborsClassifier was fitted without feature names\n",
      "  warnings.warn(\n",
      "/Users/maxsaint/opt/anaconda3/lib/python3.9/site-packages/sklearn/base.py:402: UserWarning: X has feature names, but KNeighborsClassifier was fitted without feature names\n",
      "  warnings.warn(\n",
      "/Users/maxsaint/opt/anaconda3/lib/python3.9/site-packages/sklearn/base.py:402: UserWarning: X has feature names, but KNeighborsClassifier was fitted without feature names\n",
      "  warnings.warn(\n",
      "/Users/maxsaint/opt/anaconda3/lib/python3.9/site-packages/sklearn/base.py:402: UserWarning: X has feature names, but KNeighborsClassifier was fitted without feature names\n",
      "  warnings.warn(\n",
      "/Users/maxsaint/opt/anaconda3/lib/python3.9/site-packages/sklearn/base.py:402: UserWarning: X has feature names, but KNeighborsClassifier was fitted without feature names\n",
      "  warnings.warn(\n",
      "/Users/maxsaint/opt/anaconda3/lib/python3.9/site-packages/sklearn/base.py:402: UserWarning: X has feature names, but KNeighborsClassifier was fitted without feature names\n",
      "  warnings.warn(\n",
      "/Users/maxsaint/opt/anaconda3/lib/python3.9/site-packages/sklearn/base.py:402: UserWarning: X has feature names, but KNeighborsClassifier was fitted without feature names\n",
      "  warnings.warn(\n",
      "/Users/maxsaint/opt/anaconda3/lib/python3.9/site-packages/sklearn/base.py:402: UserWarning: X has feature names, but KNeighborsClassifier was fitted without feature names\n",
      "  warnings.warn(\n",
      "/Users/maxsaint/opt/anaconda3/lib/python3.9/site-packages/sklearn/base.py:402: UserWarning: X has feature names, but KNeighborsClassifier was fitted without feature names\n",
      "  warnings.warn(\n",
      "/Users/maxsaint/opt/anaconda3/lib/python3.9/site-packages/sklearn/base.py:402: UserWarning: X has feature names, but KNeighborsClassifier was fitted without feature names\n",
      "  warnings.warn(\n",
      "/Users/maxsaint/opt/anaconda3/lib/python3.9/site-packages/sklearn/base.py:402: UserWarning: X has feature names, but KNeighborsClassifier was fitted without feature names\n",
      "  warnings.warn(\n",
      "/Users/maxsaint/opt/anaconda3/lib/python3.9/site-packages/sklearn/base.py:402: UserWarning: X has feature names, but KNeighborsClassifier was fitted without feature names\n",
      "  warnings.warn(\n",
      "/Users/maxsaint/opt/anaconda3/lib/python3.9/site-packages/sklearn/base.py:402: UserWarning: X has feature names, but KNeighborsClassifier was fitted without feature names\n",
      "  warnings.warn(\n",
      "/Users/maxsaint/opt/anaconda3/lib/python3.9/site-packages/sklearn/base.py:402: UserWarning: X has feature names, but KNeighborsClassifier was fitted without feature names\n",
      "  warnings.warn(\n",
      "/Users/maxsaint/opt/anaconda3/lib/python3.9/site-packages/sklearn/base.py:402: UserWarning: X has feature names, but KNeighborsClassifier was fitted without feature names\n",
      "  warnings.warn(\n",
      "/Users/maxsaint/opt/anaconda3/lib/python3.9/site-packages/sklearn/base.py:402: UserWarning: X has feature names, but KNeighborsClassifier was fitted without feature names\n",
      "  warnings.warn(\n",
      "/Users/maxsaint/opt/anaconda3/lib/python3.9/site-packages/sklearn/base.py:402: UserWarning: X has feature names, but KNeighborsClassifier was fitted without feature names\n",
      "  warnings.warn(\n",
      "/Users/maxsaint/opt/anaconda3/lib/python3.9/site-packages/sklearn/base.py:402: UserWarning: X has feature names, but KNeighborsClassifier was fitted without feature names\n",
      "  warnings.warn(\n",
      "/Users/maxsaint/opt/anaconda3/lib/python3.9/site-packages/sklearn/base.py:402: UserWarning: X has feature names, but KNeighborsClassifier was fitted without feature names\n",
      "  warnings.warn(\n",
      "/Users/maxsaint/opt/anaconda3/lib/python3.9/site-packages/sklearn/base.py:402: UserWarning: X has feature names, but KNeighborsClassifier was fitted without feature names\n",
      "  warnings.warn(\n",
      "/Users/maxsaint/opt/anaconda3/lib/python3.9/site-packages/sklearn/base.py:402: UserWarning: X has feature names, but KNeighborsClassifier was fitted without feature names\n",
      "  warnings.warn(\n",
      "/Users/maxsaint/opt/anaconda3/lib/python3.9/site-packages/sklearn/base.py:402: UserWarning: X has feature names, but KNeighborsClassifier was fitted without feature names\n",
      "  warnings.warn(\n",
      "/Users/maxsaint/opt/anaconda3/lib/python3.9/site-packages/sklearn/base.py:402: UserWarning: X has feature names, but KNeighborsClassifier was fitted without feature names\n",
      "  warnings.warn(\n",
      "/Users/maxsaint/opt/anaconda3/lib/python3.9/site-packages/sklearn/base.py:402: UserWarning: X has feature names, but KNeighborsClassifier was fitted without feature names\n",
      "  warnings.warn(\n",
      "/Users/maxsaint/opt/anaconda3/lib/python3.9/site-packages/sklearn/base.py:402: UserWarning: X has feature names, but KNeighborsClassifier was fitted without feature names\n",
      "  warnings.warn(\n",
      "/Users/maxsaint/opt/anaconda3/lib/python3.9/site-packages/sklearn/base.py:402: UserWarning: X has feature names, but KNeighborsClassifier was fitted without feature names\n",
      "  warnings.warn(\n",
      "/Users/maxsaint/opt/anaconda3/lib/python3.9/site-packages/sklearn/base.py:402: UserWarning: X has feature names, but KNeighborsClassifier was fitted without feature names\n",
      "  warnings.warn(\n",
      "/Users/maxsaint/opt/anaconda3/lib/python3.9/site-packages/sklearn/base.py:402: UserWarning: X has feature names, but KNeighborsClassifier was fitted without feature names\n",
      "  warnings.warn(\n",
      "/Users/maxsaint/opt/anaconda3/lib/python3.9/site-packages/sklearn/base.py:402: UserWarning: X has feature names, but KNeighborsClassifier was fitted without feature names\n",
      "  warnings.warn(\n",
      "/Users/maxsaint/opt/anaconda3/lib/python3.9/site-packages/sklearn/base.py:402: UserWarning: X has feature names, but KNeighborsClassifier was fitted without feature names\n",
      "  warnings.warn(\n",
      "/Users/maxsaint/opt/anaconda3/lib/python3.9/site-packages/sklearn/base.py:402: UserWarning: X has feature names, but KNeighborsClassifier was fitted without feature names\n",
      "  warnings.warn(\n",
      "/Users/maxsaint/opt/anaconda3/lib/python3.9/site-packages/sklearn/base.py:402: UserWarning: X has feature names, but KNeighborsClassifier was fitted without feature names\n",
      "  warnings.warn(\n",
      "/Users/maxsaint/opt/anaconda3/lib/python3.9/site-packages/sklearn/base.py:402: UserWarning: X has feature names, but KNeighborsClassifier was fitted without feature names\n",
      "  warnings.warn(\n",
      "/Users/maxsaint/opt/anaconda3/lib/python3.9/site-packages/sklearn/base.py:402: UserWarning: X has feature names, but KNeighborsClassifier was fitted without feature names\n",
      "  warnings.warn(\n",
      "/Users/maxsaint/opt/anaconda3/lib/python3.9/site-packages/sklearn/base.py:402: UserWarning: X has feature names, but KNeighborsClassifier was fitted without feature names\n",
      "  warnings.warn(\n",
      "/Users/maxsaint/opt/anaconda3/lib/python3.9/site-packages/sklearn/base.py:402: UserWarning: X has feature names, but KNeighborsClassifier was fitted without feature names\n",
      "  warnings.warn(\n"
     ]
    }
   ],
   "source": [
    "cogs = []\n",
    "for i in range(1,101):\n",
    "    fit = KNeighborsClassifier(n_neighbors=i).fit(Z, labels)\n",
    "    g = fit.predict(df[[\"X\",\"Y\"]])\n",
    "    x5 = metrics.confusion_matrix(labels, g)\n",
    "    z = (x5[0][0]+x5[1][1])/200\n",
    "    cogs.append(z)"
   ]
  },
  {
   "cell_type": "code",
   "execution_count": 13,
   "id": "272886b7",
   "metadata": {},
   "outputs": [],
   "source": [
    "a = np.arange(1,101)"
   ]
  },
  {
   "cell_type": "code",
   "execution_count": 14,
   "id": "0f30f419",
   "metadata": {},
   "outputs": [
    {
     "data": {
      "text/plain": [
       "Text(0, 0.5, 'Accuracy')"
      ]
     },
     "execution_count": 14,
     "metadata": {},
     "output_type": "execute_result"
    },
    {
     "data": {
      "image/png": "[encoded data removed]",
      "text/plain": [
       "<Figure size 640x480 with 1 Axes>"
      ]
     },
     "metadata": {},
     "output_type": "display_data"
    }
   ],
   "source": [
    "plt.scatter(a,cogs,s=0.6)\n",
    "plt.xlabel(\"K\")\n",
    "plt.ylabel(\"Accuracy\")"
   ]
  },
  {
   "cell_type": "code",
   "execution_count": 15,
   "id": "cca4e257",
   "metadata": {},
   "outputs": [],
   "source": [
    "def generate_test(means):\n",
    "    points = []\n",
    "    for m in means:        \n",
    "        for i in range(1000):\n",
    "            z = scipy.stats.multivariate_normal.rvs(mean=[m[0],m[1]], cov=np.array([[1/3, 0], [0, 1/3]]), size=1)\n",
    "            points.append(z)\n",
    "    return(points)"
   ]
  },
  {
   "cell_type": "code",
   "execution_count": 16,
   "id": "bbb0014c",
   "metadata": {},
   "outputs": [],
   "source": [
    "t1 = np.array(generate_test(means_1))\n",
    "t2 = np.array(generate_test(means_2))"
   ]
  },
  {
   "cell_type": "code",
   "execution_count": 17,
   "id": "b0b62e8e",
   "metadata": {},
   "outputs": [],
   "source": [
    "test=np.concatenate((t1, t2))"
   ]
  },
  {
   "cell_type": "code",
   "execution_count": 18,
   "id": "715c2f85",
   "metadata": {},
   "outputs": [
    {
     "data": {
      "text/plain": [
       "20000"
      ]
     },
     "execution_count": 18,
     "metadata": {},
     "output_type": "execute_result"
    }
   ],
   "source": [
    "len(test)"
   ]
  },
  {
   "cell_type": "code",
   "execution_count": 19,
   "id": "7316b9de",
   "metadata": {},
   "outputs": [],
   "source": [
    "label=[]\n",
    "for i in range(10000):\n",
    "    label.append(0)\n",
    "for j in range(10000):\n",
    "    label.append(1)"
   ]
  },
  {
   "cell_type": "code",
   "execution_count": 20,
   "id": "bbc0df4a",
   "metadata": {},
   "outputs": [],
   "source": [
    "x = test[:,0]\n",
    "y = test[:,1]\n",
    "value = {\"X\": x, \"Y\": y}\n",
    "test_df = pd.DataFrame(value)"
   ]
  },
  {
   "cell_type": "code",
   "execution_count": 21,
   "id": "6dce835e",
   "metadata": {},
   "outputs": [],
   "source": [
    "zed = test_df[[\"X\",\"Y\"]].values"
   ]
  },
  {
   "cell_type": "code",
   "execution_count": 25,
   "id": "8e400602",
   "metadata": {},
   "outputs": [
    {
     "name": "stderr",
     "output_type": "stream",
     "text": [
      "/Users/maxsaint/opt/anaconda3/lib/python3.9/site-packages/sklearn/base.py:402: UserWarning: X has feature names, but KNeighborsClassifier was fitted without feature names\n",
      "  warnings.warn(\n",
      "/Users/maxsaint/opt/anaconda3/lib/python3.9/site-packages/sklearn/base.py:402: UserWarning: X has feature names, but KNeighborsClassifier was fitted without feature names\n",
      "  warnings.warn(\n",
      "/Users/maxsaint/opt/anaconda3/lib/python3.9/site-packages/sklearn/base.py:402: UserWarning: X has feature names, but KNeighborsClassifier was fitted without feature names\n",
      "  warnings.warn(\n",
      "/Users/maxsaint/opt/anaconda3/lib/python3.9/site-packages/sklearn/base.py:402: UserWarning: X has feature names, but KNeighborsClassifier was fitted without feature names\n",
      "  warnings.warn(\n",
      "/Users/maxsaint/opt/anaconda3/lib/python3.9/site-packages/sklearn/base.py:402: UserWarning: X has feature names, but KNeighborsClassifier was fitted without feature names\n",
      "  warnings.warn(\n",
      "/Users/maxsaint/opt/anaconda3/lib/python3.9/site-packages/sklearn/base.py:402: UserWarning: X has feature names, but KNeighborsClassifier was fitted without feature names\n",
      "  warnings.warn(\n",
      "/Users/maxsaint/opt/anaconda3/lib/python3.9/site-packages/sklearn/base.py:402: UserWarning: X has feature names, but KNeighborsClassifier was fitted without feature names\n",
      "  warnings.warn(\n",
      "/Users/maxsaint/opt/anaconda3/lib/python3.9/site-packages/sklearn/base.py:402: UserWarning: X has feature names, but KNeighborsClassifier was fitted without feature names\n",
      "  warnings.warn(\n",
      "/Users/maxsaint/opt/anaconda3/lib/python3.9/site-packages/sklearn/base.py:402: UserWarning: X has feature names, but KNeighborsClassifier was fitted without feature names\n",
      "  warnings.warn(\n",
      "/Users/maxsaint/opt/anaconda3/lib/python3.9/site-packages/sklearn/base.py:402: UserWarning: X has feature names, but KNeighborsClassifier was fitted without feature names\n",
      "  warnings.warn(\n",
      "/Users/maxsaint/opt/anaconda3/lib/python3.9/site-packages/sklearn/base.py:402: UserWarning: X has feature names, but KNeighborsClassifier was fitted without feature names\n",
      "  warnings.warn(\n",
      "/Users/maxsaint/opt/anaconda3/lib/python3.9/site-packages/sklearn/base.py:402: UserWarning: X has feature names, but KNeighborsClassifier was fitted without feature names\n",
      "  warnings.warn(\n",
      "/Users/maxsaint/opt/anaconda3/lib/python3.9/site-packages/sklearn/base.py:402: UserWarning: X has feature names, but KNeighborsClassifier was fitted without feature names\n",
      "  warnings.warn(\n",
      "/Users/maxsaint/opt/anaconda3/lib/python3.9/site-packages/sklearn/base.py:402: UserWarning: X has feature names, but KNeighborsClassifier was fitted without feature names\n",
      "  warnings.warn(\n",
      "/Users/maxsaint/opt/anaconda3/lib/python3.9/site-packages/sklearn/base.py:402: UserWarning: X has feature names, but KNeighborsClassifier was fitted without feature names\n",
      "  warnings.warn(\n",
      "/Users/maxsaint/opt/anaconda3/lib/python3.9/site-packages/sklearn/base.py:402: UserWarning: X has feature names, but KNeighborsClassifier was fitted without feature names\n",
      "  warnings.warn(\n",
      "/Users/maxsaint/opt/anaconda3/lib/python3.9/site-packages/sklearn/base.py:402: UserWarning: X has feature names, but KNeighborsClassifier was fitted without feature names\n",
      "  warnings.warn(\n",
      "/Users/maxsaint/opt/anaconda3/lib/python3.9/site-packages/sklearn/base.py:402: UserWarning: X has feature names, but KNeighborsClassifier was fitted without feature names\n",
      "  warnings.warn(\n",
      "/Users/maxsaint/opt/anaconda3/lib/python3.9/site-packages/sklearn/base.py:402: UserWarning: X has feature names, but KNeighborsClassifier was fitted without feature names\n",
      "  warnings.warn(\n",
      "/Users/maxsaint/opt/anaconda3/lib/python3.9/site-packages/sklearn/base.py:402: UserWarning: X has feature names, but KNeighborsClassifier was fitted without feature names\n",
      "  warnings.warn(\n",
      "/Users/maxsaint/opt/anaconda3/lib/python3.9/site-packages/sklearn/base.py:402: UserWarning: X has feature names, but KNeighborsClassifier was fitted without feature names\n",
      "  warnings.warn(\n",
      "/Users/maxsaint/opt/anaconda3/lib/python3.9/site-packages/sklearn/base.py:402: UserWarning: X has feature names, but KNeighborsClassifier was fitted without feature names\n",
      "  warnings.warn(\n",
      "/Users/maxsaint/opt/anaconda3/lib/python3.9/site-packages/sklearn/base.py:402: UserWarning: X has feature names, but KNeighborsClassifier was fitted without feature names\n",
      "  warnings.warn(\n",
      "/Users/maxsaint/opt/anaconda3/lib/python3.9/site-packages/sklearn/base.py:402: UserWarning: X has feature names, but KNeighborsClassifier was fitted without feature names\n",
      "  warnings.warn(\n",
      "/Users/maxsaint/opt/anaconda3/lib/python3.9/site-packages/sklearn/base.py:402: UserWarning: X has feature names, but KNeighborsClassifier was fitted without feature names\n",
      "  warnings.warn(\n",
      "/Users/maxsaint/opt/anaconda3/lib/python3.9/site-packages/sklearn/base.py:402: UserWarning: X has feature names, but KNeighborsClassifier was fitted without feature names\n",
      "  warnings.warn(\n",
      "/Users/maxsaint/opt/anaconda3/lib/python3.9/site-packages/sklearn/base.py:402: UserWarning: X has feature names, but KNeighborsClassifier was fitted without feature names\n",
      "  warnings.warn(\n",
      "/Users/maxsaint/opt/anaconda3/lib/python3.9/site-packages/sklearn/base.py:402: UserWarning: X has feature names, but KNeighborsClassifier was fitted without feature names\n",
      "  warnings.warn(\n",
      "/Users/maxsaint/opt/anaconda3/lib/python3.9/site-packages/sklearn/base.py:402: UserWarning: X has feature names, but KNeighborsClassifier was fitted without feature names\n",
      "  warnings.warn(\n",
      "/Users/maxsaint/opt/anaconda3/lib/python3.9/site-packages/sklearn/base.py:402: UserWarning: X has feature names, but KNeighborsClassifier was fitted without feature names\n",
      "  warnings.warn(\n",
      "/Users/maxsaint/opt/anaconda3/lib/python3.9/site-packages/sklearn/base.py:402: UserWarning: X has feature names, but KNeighborsClassifier was fitted without feature names\n",
      "  warnings.warn(\n",
      "/Users/maxsaint/opt/anaconda3/lib/python3.9/site-packages/sklearn/base.py:402: UserWarning: X has feature names, but KNeighborsClassifier was fitted without feature names\n",
      "  warnings.warn(\n",
      "/Users/maxsaint/opt/anaconda3/lib/python3.9/site-packages/sklearn/base.py:402: UserWarning: X has feature names, but KNeighborsClassifier was fitted without feature names\n",
      "  warnings.warn(\n",
      "/Users/maxsaint/opt/anaconda3/lib/python3.9/site-packages/sklearn/base.py:402: UserWarning: X has feature names, but KNeighborsClassifier was fitted without feature names\n",
      "  warnings.warn(\n",
      "/Users/maxsaint/opt/anaconda3/lib/python3.9/site-packages/sklearn/base.py:402: UserWarning: X has feature names, but KNeighborsClassifier was fitted without feature names\n",
      "  warnings.warn(\n",
      "/Users/maxsaint/opt/anaconda3/lib/python3.9/site-packages/sklearn/base.py:402: UserWarning: X has feature names, but KNeighborsClassifier was fitted without feature names\n",
      "  warnings.warn(\n",
      "/Users/maxsaint/opt/anaconda3/lib/python3.9/site-packages/sklearn/base.py:402: UserWarning: X has feature names, but KNeighborsClassifier was fitted without feature names\n",
      "  warnings.warn(\n",
      "/Users/maxsaint/opt/anaconda3/lib/python3.9/site-packages/sklearn/base.py:402: UserWarning: X has feature names, but KNeighborsClassifier was fitted without feature names\n",
      "  warnings.warn(\n",
      "/Users/maxsaint/opt/anaconda3/lib/python3.9/site-packages/sklearn/base.py:402: UserWarning: X has feature names, but KNeighborsClassifier was fitted without feature names\n",
      "  warnings.warn(\n",
      "/Users/maxsaint/opt/anaconda3/lib/python3.9/site-packages/sklearn/base.py:402: UserWarning: X has feature names, but KNeighborsClassifier was fitted without feature names\n",
      "  warnings.warn(\n",
      "/Users/maxsaint/opt/anaconda3/lib/python3.9/site-packages/sklearn/base.py:402: UserWarning: X has feature names, but KNeighborsClassifier was fitted without feature names\n",
      "  warnings.warn(\n",
      "/Users/maxsaint/opt/anaconda3/lib/python3.9/site-packages/sklearn/base.py:402: UserWarning: X has feature names, but KNeighborsClassifier was fitted without feature names\n",
      "  warnings.warn(\n",
      "/Users/maxsaint/opt/anaconda3/lib/python3.9/site-packages/sklearn/base.py:402: UserWarning: X has feature names, but KNeighborsClassifier was fitted without feature names\n",
      "  warnings.warn(\n",
      "/Users/maxsaint/opt/anaconda3/lib/python3.9/site-packages/sklearn/base.py:402: UserWarning: X has feature names, but KNeighborsClassifier was fitted without feature names\n",
      "  warnings.warn(\n"
     ]
    },
    {
     "name": "stderr",
     "output_type": "stream",
     "text": [
      "/Users/maxsaint/opt/anaconda3/lib/python3.9/site-packages/sklearn/base.py:402: UserWarning: X has feature names, but KNeighborsClassifier was fitted without feature names\n",
      "  warnings.warn(\n",
      "/Users/maxsaint/opt/anaconda3/lib/python3.9/site-packages/sklearn/base.py:402: UserWarning: X has feature names, but KNeighborsClassifier was fitted without feature names\n",
      "  warnings.warn(\n",
      "/Users/maxsaint/opt/anaconda3/lib/python3.9/site-packages/sklearn/base.py:402: UserWarning: X has feature names, but KNeighborsClassifier was fitted without feature names\n",
      "  warnings.warn(\n",
      "/Users/maxsaint/opt/anaconda3/lib/python3.9/site-packages/sklearn/base.py:402: UserWarning: X has feature names, but KNeighborsClassifier was fitted without feature names\n",
      "  warnings.warn(\n",
      "/Users/maxsaint/opt/anaconda3/lib/python3.9/site-packages/sklearn/base.py:402: UserWarning: X has feature names, but KNeighborsClassifier was fitted without feature names\n",
      "  warnings.warn(\n",
      "/Users/maxsaint/opt/anaconda3/lib/python3.9/site-packages/sklearn/base.py:402: UserWarning: X has feature names, but KNeighborsClassifier was fitted without feature names\n",
      "  warnings.warn(\n",
      "/Users/maxsaint/opt/anaconda3/lib/python3.9/site-packages/sklearn/base.py:402: UserWarning: X has feature names, but KNeighborsClassifier was fitted without feature names\n",
      "  warnings.warn(\n",
      "/Users/maxsaint/opt/anaconda3/lib/python3.9/site-packages/sklearn/base.py:402: UserWarning: X has feature names, but KNeighborsClassifier was fitted without feature names\n",
      "  warnings.warn(\n",
      "/Users/maxsaint/opt/anaconda3/lib/python3.9/site-packages/sklearn/base.py:402: UserWarning: X has feature names, but KNeighborsClassifier was fitted without feature names\n",
      "  warnings.warn(\n",
      "/Users/maxsaint/opt/anaconda3/lib/python3.9/site-packages/sklearn/base.py:402: UserWarning: X has feature names, but KNeighborsClassifier was fitted without feature names\n",
      "  warnings.warn(\n",
      "/Users/maxsaint/opt/anaconda3/lib/python3.9/site-packages/sklearn/base.py:402: UserWarning: X has feature names, but KNeighborsClassifier was fitted without feature names\n",
      "  warnings.warn(\n",
      "/Users/maxsaint/opt/anaconda3/lib/python3.9/site-packages/sklearn/base.py:402: UserWarning: X has feature names, but KNeighborsClassifier was fitted without feature names\n",
      "  warnings.warn(\n",
      "/Users/maxsaint/opt/anaconda3/lib/python3.9/site-packages/sklearn/base.py:402: UserWarning: X has feature names, but KNeighborsClassifier was fitted without feature names\n",
      "  warnings.warn(\n",
      "/Users/maxsaint/opt/anaconda3/lib/python3.9/site-packages/sklearn/base.py:402: UserWarning: X has feature names, but KNeighborsClassifier was fitted without feature names\n",
      "  warnings.warn(\n",
      "/Users/maxsaint/opt/anaconda3/lib/python3.9/site-packages/sklearn/base.py:402: UserWarning: X has feature names, but KNeighborsClassifier was fitted without feature names\n",
      "  warnings.warn(\n",
      "/Users/maxsaint/opt/anaconda3/lib/python3.9/site-packages/sklearn/base.py:402: UserWarning: X has feature names, but KNeighborsClassifier was fitted without feature names\n",
      "  warnings.warn(\n",
      "/Users/maxsaint/opt/anaconda3/lib/python3.9/site-packages/sklearn/base.py:402: UserWarning: X has feature names, but KNeighborsClassifier was fitted without feature names\n",
      "  warnings.warn(\n",
      "/Users/maxsaint/opt/anaconda3/lib/python3.9/site-packages/sklearn/base.py:402: UserWarning: X has feature names, but KNeighborsClassifier was fitted without feature names\n",
      "  warnings.warn(\n",
      "/Users/maxsaint/opt/anaconda3/lib/python3.9/site-packages/sklearn/base.py:402: UserWarning: X has feature names, but KNeighborsClassifier was fitted without feature names\n",
      "  warnings.warn(\n",
      "/Users/maxsaint/opt/anaconda3/lib/python3.9/site-packages/sklearn/base.py:402: UserWarning: X has feature names, but KNeighborsClassifier was fitted without feature names\n",
      "  warnings.warn(\n",
      "/Users/maxsaint/opt/anaconda3/lib/python3.9/site-packages/sklearn/base.py:402: UserWarning: X has feature names, but KNeighborsClassifier was fitted without feature names\n",
      "  warnings.warn(\n",
      "/Users/maxsaint/opt/anaconda3/lib/python3.9/site-packages/sklearn/base.py:402: UserWarning: X has feature names, but KNeighborsClassifier was fitted without feature names\n",
      "  warnings.warn(\n",
      "/Users/maxsaint/opt/anaconda3/lib/python3.9/site-packages/sklearn/base.py:402: UserWarning: X has feature names, but KNeighborsClassifier was fitted without feature names\n",
      "  warnings.warn(\n",
      "/Users/maxsaint/opt/anaconda3/lib/python3.9/site-packages/sklearn/base.py:402: UserWarning: X has feature names, but KNeighborsClassifier was fitted without feature names\n",
      "  warnings.warn(\n",
      "/Users/maxsaint/opt/anaconda3/lib/python3.9/site-packages/sklearn/base.py:402: UserWarning: X has feature names, but KNeighborsClassifier was fitted without feature names\n",
      "  warnings.warn(\n",
      "/Users/maxsaint/opt/anaconda3/lib/python3.9/site-packages/sklearn/base.py:402: UserWarning: X has feature names, but KNeighborsClassifier was fitted without feature names\n",
      "  warnings.warn(\n",
      "/Users/maxsaint/opt/anaconda3/lib/python3.9/site-packages/sklearn/base.py:402: UserWarning: X has feature names, but KNeighborsClassifier was fitted without feature names\n",
      "  warnings.warn(\n",
      "/Users/maxsaint/opt/anaconda3/lib/python3.9/site-packages/sklearn/base.py:402: UserWarning: X has feature names, but KNeighborsClassifier was fitted without feature names\n",
      "  warnings.warn(\n",
      "/Users/maxsaint/opt/anaconda3/lib/python3.9/site-packages/sklearn/base.py:402: UserWarning: X has feature names, but KNeighborsClassifier was fitted without feature names\n",
      "  warnings.warn(\n",
      "/Users/maxsaint/opt/anaconda3/lib/python3.9/site-packages/sklearn/base.py:402: UserWarning: X has feature names, but KNeighborsClassifier was fitted without feature names\n",
      "  warnings.warn(\n",
      "/Users/maxsaint/opt/anaconda3/lib/python3.9/site-packages/sklearn/base.py:402: UserWarning: X has feature names, but KNeighborsClassifier was fitted without feature names\n",
      "  warnings.warn(\n",
      "/Users/maxsaint/opt/anaconda3/lib/python3.9/site-packages/sklearn/base.py:402: UserWarning: X has feature names, but KNeighborsClassifier was fitted without feature names\n",
      "  warnings.warn(\n",
      "/Users/maxsaint/opt/anaconda3/lib/python3.9/site-packages/sklearn/base.py:402: UserWarning: X has feature names, but KNeighborsClassifier was fitted without feature names\n",
      "  warnings.warn(\n",
      "/Users/maxsaint/opt/anaconda3/lib/python3.9/site-packages/sklearn/base.py:402: UserWarning: X has feature names, but KNeighborsClassifier was fitted without feature names\n",
      "  warnings.warn(\n",
      "/Users/maxsaint/opt/anaconda3/lib/python3.9/site-packages/sklearn/base.py:402: UserWarning: X has feature names, but KNeighborsClassifier was fitted without feature names\n",
      "  warnings.warn(\n",
      "/Users/maxsaint/opt/anaconda3/lib/python3.9/site-packages/sklearn/base.py:402: UserWarning: X has feature names, but KNeighborsClassifier was fitted without feature names\n",
      "  warnings.warn(\n",
      "/Users/maxsaint/opt/anaconda3/lib/python3.9/site-packages/sklearn/base.py:402: UserWarning: X has feature names, but KNeighborsClassifier was fitted without feature names\n",
      "  warnings.warn(\n",
      "/Users/maxsaint/opt/anaconda3/lib/python3.9/site-packages/sklearn/base.py:402: UserWarning: X has feature names, but KNeighborsClassifier was fitted without feature names\n",
      "  warnings.warn(\n",
      "/Users/maxsaint/opt/anaconda3/lib/python3.9/site-packages/sklearn/base.py:402: UserWarning: X has feature names, but KNeighborsClassifier was fitted without feature names\n",
      "  warnings.warn(\n",
      "/Users/maxsaint/opt/anaconda3/lib/python3.9/site-packages/sklearn/base.py:402: UserWarning: X has feature names, but KNeighborsClassifier was fitted without feature names\n",
      "  warnings.warn(\n",
      "/Users/maxsaint/opt/anaconda3/lib/python3.9/site-packages/sklearn/base.py:402: UserWarning: X has feature names, but KNeighborsClassifier was fitted without feature names\n",
      "  warnings.warn(\n",
      "/Users/maxsaint/opt/anaconda3/lib/python3.9/site-packages/sklearn/base.py:402: UserWarning: X has feature names, but KNeighborsClassifier was fitted without feature names\n",
      "  warnings.warn(\n",
      "/Users/maxsaint/opt/anaconda3/lib/python3.9/site-packages/sklearn/base.py:402: UserWarning: X has feature names, but KNeighborsClassifier was fitted without feature names\n",
      "  warnings.warn(\n",
      "/Users/maxsaint/opt/anaconda3/lib/python3.9/site-packages/sklearn/base.py:402: UserWarning: X has feature names, but KNeighborsClassifier was fitted without feature names\n",
      "  warnings.warn(\n"
     ]
    },
    {
     "name": "stderr",
     "output_type": "stream",
     "text": [
      "/Users/maxsaint/opt/anaconda3/lib/python3.9/site-packages/sklearn/base.py:402: UserWarning: X has feature names, but KNeighborsClassifier was fitted without feature names\n",
      "  warnings.warn(\n",
      "/Users/maxsaint/opt/anaconda3/lib/python3.9/site-packages/sklearn/base.py:402: UserWarning: X has feature names, but KNeighborsClassifier was fitted without feature names\n",
      "  warnings.warn(\n",
      "/Users/maxsaint/opt/anaconda3/lib/python3.9/site-packages/sklearn/base.py:402: UserWarning: X has feature names, but KNeighborsClassifier was fitted without feature names\n",
      "  warnings.warn(\n",
      "/Users/maxsaint/opt/anaconda3/lib/python3.9/site-packages/sklearn/base.py:402: UserWarning: X has feature names, but KNeighborsClassifier was fitted without feature names\n",
      "  warnings.warn(\n",
      "/Users/maxsaint/opt/anaconda3/lib/python3.9/site-packages/sklearn/base.py:402: UserWarning: X has feature names, but KNeighborsClassifier was fitted without feature names\n",
      "  warnings.warn(\n",
      "/Users/maxsaint/opt/anaconda3/lib/python3.9/site-packages/sklearn/base.py:402: UserWarning: X has feature names, but KNeighborsClassifier was fitted without feature names\n",
      "  warnings.warn(\n",
      "/Users/maxsaint/opt/anaconda3/lib/python3.9/site-packages/sklearn/base.py:402: UserWarning: X has feature names, but KNeighborsClassifier was fitted without feature names\n",
      "  warnings.warn(\n",
      "/Users/maxsaint/opt/anaconda3/lib/python3.9/site-packages/sklearn/base.py:402: UserWarning: X has feature names, but KNeighborsClassifier was fitted without feature names\n",
      "  warnings.warn(\n",
      "/Users/maxsaint/opt/anaconda3/lib/python3.9/site-packages/sklearn/base.py:402: UserWarning: X has feature names, but KNeighborsClassifier was fitted without feature names\n",
      "  warnings.warn(\n",
      "/Users/maxsaint/opt/anaconda3/lib/python3.9/site-packages/sklearn/base.py:402: UserWarning: X has feature names, but KNeighborsClassifier was fitted without feature names\n",
      "  warnings.warn(\n",
      "/Users/maxsaint/opt/anaconda3/lib/python3.9/site-packages/sklearn/base.py:402: UserWarning: X has feature names, but KNeighborsClassifier was fitted without feature names\n",
      "  warnings.warn(\n",
      "/Users/maxsaint/opt/anaconda3/lib/python3.9/site-packages/sklearn/base.py:402: UserWarning: X has feature names, but KNeighborsClassifier was fitted without feature names\n",
      "  warnings.warn(\n"
     ]
    }
   ],
   "source": [
    "dogs = []\n",
    "for i in range(1,101):\n",
    "    fit = KNeighborsClassifier(n_neighbors=i).fit(Z, labels)\n",
    "    g = fit.predict(test_df[[\"X\",\"Y\"]])\n",
    "    x5 = metrics.confusion_matrix(label, g)\n",
    "    z = (x5[0][0]+x5[1][1])/20000\n",
    "    dogs.append(z)"
   ]
  },
  {
   "cell_type": "code",
   "execution_count": 32,
   "id": "658a37b4",
   "metadata": {},
   "outputs": [
    {
     "data": {
      "text/plain": [
       "<matplotlib.legend.Legend at 0x7f9036ccb9a0>"
      ]
     },
     "execution_count": 32,
     "metadata": {},
     "output_type": "execute_result"
    },
    {
     "data": {
      "image/png": "[encoded data removed]",
      "text/plain": [
       "<Figure size 800x480 with 1 Axes>"
      ]
     },
     "metadata": {},
     "output_type": "display_data"
    }
   ],
   "source": [
    "from matplotlib.pyplot import figure\n",
    "\n",
    "figure(figsize=(10, 6), dpi=80)\n",
    "plt.scatter(a,cogs,s=0.6, c=\"blue\", label=\"training\")\n",
    "plt.plot(a,cogs, c=\"blue\", alpha=0.5)\n",
    "plt.scatter(a,dogs,s=0.6, c=\"orange\", label=\"test\")\n",
    "plt.plot(a,dogs, c=\"orange\", alpha=0.5)\n",
    "plt.xlabel(\"K\")\n",
    "plt.ylabel(\"Accuracy\")\n",
    "plt.legend()"
   ]
  },
  {
   "cell_type": "code",
   "execution_count": 33,
   "id": "6d690cd3",
   "metadata": {},
   "outputs": [
    {
     "name": "stdout",
     "output_type": "stream",
     "text": [
      "Requirement already satisfied: python-mnist in /Users/maxsaint/opt/anaconda3/lib/python3.9/site-packages (0.7)\r\n"
     ]
    }
   ],
   "source": [
    "!pip install python-mnist"
   ]
  },
  {
   "cell_type": "code",
   "execution_count": 2,
   "id": "4380b639",
   "metadata": {},
   "outputs": [
    {
     "name": "stdout",
     "output_type": "stream",
     "text": [
      "Requirement already satisfied: python-mnist in /Users/maxsaint/opt/anaconda3/lib/python3.9/site-packages (0.7)\r\n"
     ]
    }
   ],
   "source": [
    "import pandas as pd\n",
    "import numpy as np\n",
    "import matplotlib.pyplot as plt\n",
    "\n",
    "!pip install python-mnist\n",
    "\n",
    "from mnist.loader import MNIST\n",
    "mndata = MNIST('./GZIP')\n",
    "images, labels = mndata.load_training()\n",
    "testX, testY = mndata.load_testing()\n",
    "\n",
    "images = np.array(images)\n",
    "labels = np.array(labels)\n",
    "testX = np.array(testX)\n",
    "testY= np.array(testY)"
   ]
  },
  {
   "cell_type": "code",
   "execution_count": 3,
   "id": "7cf277c2",
   "metadata": {},
   "outputs": [
    {
     "data": {
      "text/plain": [
       "((60000, 784), (60000,), (10000, 784), (10000,))"
      ]
     },
     "execution_count": 3,
     "metadata": {},
     "output_type": "execute_result"
    }
   ],
   "source": [
    "images.shape, labels.shape, testX.shape, testY.shape"
   ]
  },
  {
   "cell_type": "code",
   "execution_count": 19,
   "id": "7a717540",
   "metadata": {},
   "outputs": [],
   "source": [
    "digit = labels"
   ]
  },
  {
   "cell_type": "code",
   "execution_count": 20,
   "id": "6aa82297",
   "metadata": {},
   "outputs": [
    {
     "data": {
      "text/plain": [
       "array([5, 0, 4, 1, 9, 2, 1, 3, 1, 4, 3, 5, 3, 6, 1, 7, 2, 8, 6, 9],\n",
       "      dtype=uint8)"
      ]
     },
     "execution_count": 20,
     "metadata": {},
     "output_type": "execute_result"
    }
   ],
   "source": [
    "digit[0:20]"
   ]
  },
  {
   "cell_type": "code",
   "execution_count": 21,
   "id": "a81d4f16",
   "metadata": {},
   "outputs": [],
   "source": [
    "digits = np.array(images)"
   ]
  },
  {
   "cell_type": "code",
   "execution_count": 22,
   "id": "42b46ac3",
   "metadata": {},
   "outputs": [
    {
     "data": {
      "text/plain": [
       "(60000, 784)"
      ]
     },
     "execution_count": 22,
     "metadata": {},
     "output_type": "execute_result"
    }
   ],
   "source": [
    "digits.shape"
   ]
  },
  {
   "cell_type": "code",
   "execution_count": 8,
   "id": "3480468d",
   "metadata": {},
   "outputs": [],
   "source": [
    "p = np.reshape(digits, newshape=( 60000, 28,28))"
   ]
  },
  {
   "cell_type": "code",
   "execution_count": 9,
   "id": "0fad14ff",
   "metadata": {},
   "outputs": [
    {
     "data": {
      "text/plain": [
       "(60000, 28, 28)"
      ]
     },
     "execution_count": 9,
     "metadata": {},
     "output_type": "execute_result"
    }
   ],
   "source": [
    "p.shape"
   ]
  },
  {
   "cell_type": "code",
   "execution_count": 93,
   "id": "c8a1108c",
   "metadata": {},
   "outputs": [
    {
     "data": {
      "text/plain": [
       "60000"
      ]
     },
     "execution_count": 93,
     "metadata": {},
     "output_type": "execute_result"
    }
   ],
   "source": [
    "len(digit)"
   ]
  },
  {
   "cell_type": "code",
   "execution_count": 12,
   "id": "b91ede4d",
   "metadata": {},
   "outputs": [
    {
     "data": {
      "text/plain": [
       "<matplotlib.image.AxesImage at 0x7fb014b3c4f0>"
      ]
     },
     "execution_count": 12,
     "metadata": {},
     "output_type": "execute_result"
    },
    {
     "data": {
      "image/png": "[encoded data removed]",
      "text/plain": [
       "<Figure size 640x480 with 1 Axes>"
      ]
     },
     "metadata": {},
     "output_type": "display_data"
    }
   ],
   "source": [
    "plt.imshow(p[0,::], cmap=\"gray\")"
   ]
  },
  {
   "cell_type": "code",
   "execution_count": null,
   "id": "455b9e4f",
   "metadata": {},
   "outputs": [],
   "source": [
    "for i in range(0,10):\n",
    "    for q in range(len(digit)):\n",
    "        j=0\n",
    "        while j<4\n",
    "            if digit[q] == i:\n",
    "                plt.imshow(p[q,::], cmap=\"gray\")\n",
    "                j+=1"
   ]
  },
  {
   "cell_type": "code",
   "execution_count": 50,
   "id": "08f08c87",
   "metadata": {},
   "outputs": [],
   "source": [
    "def first_four(x):\n",
    "    agg = []\n",
    "    while len(agg)<4:\n",
    "        for q in range(len(digit)):\n",
    "            if digit[q] == x:\n",
    "                agg.append(q)\n",
    "                if len(agg)==4:\n",
    "                    break\n",
    "    return(agg)"
   ]
  },
  {
   "cell_type": "code",
   "execution_count": 86,
   "id": "ebd15376",
   "metadata": {},
   "outputs": [],
   "source": [
    "def display(x):\n",
    "    agg=first_four(x)\n",
    "    plt.subplot(10,4,1+4*x)\n",
    "    plt.imshow(p[agg[0],::])\n",
    "    plt.axis('off')\n",
    "    plt.subplot(10,4,2+4*x)\n",
    "    plt.imshow(p[agg[1],::])\n",
    "    plt.axis('off')\n",
    "    plt.subplot(10,4,3+4*x)\n",
    "    plt.imshow(p[agg[2],::])\n",
    "    plt.axis('off')\n",
    "    plt.subplot(10,4,4+4*x)\n",
    "    plt.imshow(p[agg[3],::])\n",
    "    plt.axis('off')"
   ]
  },
  {
   "cell_type": "code",
   "execution_count": 87,
   "id": "5feb2e41",
   "metadata": {},
   "outputs": [
    {
     "data": {
      "image/png": "[encoded data removed]",
      "text/plain": [
       "<Figure size 640x480 with 4 Axes>"
      ]
     },
     "metadata": {},
     "output_type": "display_data"
    }
   ],
   "source": [
    "display(1)"
   ]
  },
  {
   "cell_type": "code",
   "execution_count": 88,
   "id": "0aa3aee1",
   "metadata": {},
   "outputs": [
    {
     "data": {
      "image/png": "[encoded data removed]",
      "text/plain": [
       "<Figure size 640x480 with 40 Axes>"
      ]
     },
     "metadata": {},
     "output_type": "display_data"
    }
   ],
   "source": [
    "for i in range(10):\n",
    "    display(i)"
   ]
  },
  {
   "cell_type": "code",
   "execution_count": 34,
   "id": "f18889dd",
   "metadata": {},
   "outputs": [
    {
     "data": {
      "text/plain": [
       "Counter({5: 5421,\n",
       "         0: 5923,\n",
       "         4: 5842,\n",
       "         1: 6742,\n",
       "         9: 5949,\n",
       "         2: 5958,\n",
       "         3: 6131,\n",
       "         6: 5918,\n",
       "         7: 6265,\n",
       "         8: 5851})"
      ]
     },
     "execution_count": 34,
     "metadata": {},
     "output_type": "execute_result"
    }
   ],
   "source": [
    "from collections import Counter\n",
    "Counter(digit)"
   ]
  },
  {
   "cell_type": "code",
   "execution_count": 99,
   "id": "6f027062",
   "metadata": {},
   "outputs": [
    {
     "ename": "ValueError",
     "evalue": "Found array with dim 3. None expected <= 2.",
     "output_type": "error",
     "traceback": [
      "\u001b[0;31m---------------------------------------------------------------------------\u001b[0m",
      "\u001b[0;31mValueError\u001b[0m                                Traceback (most recent call last)",
      "\u001b[0;32m/var/folders/zb/cqngm18x18v4wmpfr61z84jc0000gn/T/ipykernel_18908/2619309333.py\u001b[0m in \u001b[0;36m<module>\u001b[0;34m\u001b[0m\n\u001b[0;32m----> 1\u001b[0;31m \u001b[0mencoder_df\u001b[0m \u001b[0;34m=\u001b[0m \u001b[0mpd\u001b[0m\u001b[0;34m.\u001b[0m\u001b[0mDataFrame\u001b[0m\u001b[0;34m(\u001b[0m\u001b[0mencoder\u001b[0m\u001b[0;34m.\u001b[0m\u001b[0mfit_transform\u001b[0m\u001b[0;34m(\u001b[0m\u001b[0mp\u001b[0m\u001b[0;34m)\u001b[0m\u001b[0;34m.\u001b[0m\u001b[0mtoarray\u001b[0m\u001b[0;34m(\u001b[0m\u001b[0;34m)\u001b[0m\u001b[0;34m)\u001b[0m\u001b[0;34m\u001b[0m\u001b[0;34m\u001b[0m\u001b[0m\n\u001b[0m",
      "\u001b[0;32m~/opt/anaconda3/lib/python3.9/site-packages/sklearn/utils/_set_output.py\u001b[0m in \u001b[0;36mwrapped\u001b[0;34m(self, X, *args, **kwargs)\u001b[0m\n\u001b[1;32m    140\u001b[0m     \u001b[0;34m@\u001b[0m\u001b[0mwraps\u001b[0m\u001b[0;34m(\u001b[0m\u001b[0mf\u001b[0m\u001b[0;34m)\u001b[0m\u001b[0;34m\u001b[0m\u001b[0;34m\u001b[0m\u001b[0m\n\u001b[1;32m    141\u001b[0m     \u001b[0;32mdef\u001b[0m \u001b[0mwrapped\u001b[0m\u001b[0;34m(\u001b[0m\u001b[0mself\u001b[0m\u001b[0;34m,\u001b[0m \u001b[0mX\u001b[0m\u001b[0;34m,\u001b[0m \u001b[0;34m*\u001b[0m\u001b[0margs\u001b[0m\u001b[0;34m,\u001b[0m \u001b[0;34m**\u001b[0m\u001b[0mkwargs\u001b[0m\u001b[0;34m)\u001b[0m\u001b[0;34m:\u001b[0m\u001b[0;34m\u001b[0m\u001b[0;34m\u001b[0m\u001b[0m\n\u001b[0;32m--> 142\u001b[0;31m         \u001b[0mdata_to_wrap\u001b[0m \u001b[0;34m=\u001b[0m \u001b[0mf\u001b[0m\u001b[0;34m(\u001b[0m\u001b[0mself\u001b[0m\u001b[0;34m,\u001b[0m \u001b[0mX\u001b[0m\u001b[0;34m,\u001b[0m \u001b[0;34m*\u001b[0m\u001b[0margs\u001b[0m\u001b[0;34m,\u001b[0m \u001b[0;34m**\u001b[0m\u001b[0mkwargs\u001b[0m\u001b[0;34m)\u001b[0m\u001b[0;34m\u001b[0m\u001b[0;34m\u001b[0m\u001b[0m\n\u001b[0m\u001b[1;32m    143\u001b[0m         \u001b[0;32mif\u001b[0m \u001b[0misinstance\u001b[0m\u001b[0;34m(\u001b[0m\u001b[0mdata_to_wrap\u001b[0m\u001b[0;34m,\u001b[0m \u001b[0mtuple\u001b[0m\u001b[0;34m)\u001b[0m\u001b[0;34m:\u001b[0m\u001b[0;34m\u001b[0m\u001b[0;34m\u001b[0m\u001b[0m\n\u001b[1;32m    144\u001b[0m             \u001b[0;31m# only wrap the first output for cross decomposition\u001b[0m\u001b[0;34m\u001b[0m\u001b[0;34m\u001b[0m\u001b[0m\n",
      "\u001b[0;32m~/opt/anaconda3/lib/python3.9/site-packages/sklearn/utils/_set_output.py\u001b[0m in \u001b[0;36mwrapped\u001b[0;34m(self, X, *args, **kwargs)\u001b[0m\n\u001b[1;32m    140\u001b[0m     \u001b[0;34m@\u001b[0m\u001b[0mwraps\u001b[0m\u001b[0;34m(\u001b[0m\u001b[0mf\u001b[0m\u001b[0;34m)\u001b[0m\u001b[0;34m\u001b[0m\u001b[0;34m\u001b[0m\u001b[0m\n\u001b[1;32m    141\u001b[0m     \u001b[0;32mdef\u001b[0m \u001b[0mwrapped\u001b[0m\u001b[0;34m(\u001b[0m\u001b[0mself\u001b[0m\u001b[0;34m,\u001b[0m \u001b[0mX\u001b[0m\u001b[0;34m,\u001b[0m \u001b[0;34m*\u001b[0m\u001b[0margs\u001b[0m\u001b[0;34m,\u001b[0m \u001b[0;34m**\u001b[0m\u001b[0mkwargs\u001b[0m\u001b[0;34m)\u001b[0m\u001b[0;34m:\u001b[0m\u001b[0;34m\u001b[0m\u001b[0;34m\u001b[0m\u001b[0m\n\u001b[0;32m--> 142\u001b[0;31m         \u001b[0mdata_to_wrap\u001b[0m \u001b[0;34m=\u001b[0m \u001b[0mf\u001b[0m\u001b[0;34m(\u001b[0m\u001b[0mself\u001b[0m\u001b[0;34m,\u001b[0m \u001b[0mX\u001b[0m\u001b[0;34m,\u001b[0m \u001b[0;34m*\u001b[0m\u001b[0margs\u001b[0m\u001b[0;34m,\u001b[0m \u001b[0;34m**\u001b[0m\u001b[0mkwargs\u001b[0m\u001b[0;34m)\u001b[0m\u001b[0;34m\u001b[0m\u001b[0;34m\u001b[0m\u001b[0m\n\u001b[0m\u001b[1;32m    143\u001b[0m         \u001b[0;32mif\u001b[0m \u001b[0misinstance\u001b[0m\u001b[0;34m(\u001b[0m\u001b[0mdata_to_wrap\u001b[0m\u001b[0;34m,\u001b[0m \u001b[0mtuple\u001b[0m\u001b[0;34m)\u001b[0m\u001b[0;34m:\u001b[0m\u001b[0;34m\u001b[0m\u001b[0;34m\u001b[0m\u001b[0m\n\u001b[1;32m    144\u001b[0m             \u001b[0;31m# only wrap the first output for cross decomposition\u001b[0m\u001b[0;34m\u001b[0m\u001b[0;34m\u001b[0m\u001b[0m\n",
      "\u001b[0;32m~/opt/anaconda3/lib/python3.9/site-packages/sklearn/utils/_set_output.py\u001b[0m in \u001b[0;36mwrapped\u001b[0;34m(self, X, *args, **kwargs)\u001b[0m\n\u001b[1;32m    140\u001b[0m     \u001b[0;34m@\u001b[0m\u001b[0mwraps\u001b[0m\u001b[0;34m(\u001b[0m\u001b[0mf\u001b[0m\u001b[0;34m)\u001b[0m\u001b[0;34m\u001b[0m\u001b[0;34m\u001b[0m\u001b[0m\n\u001b[1;32m    141\u001b[0m     \u001b[0;32mdef\u001b[0m \u001b[0mwrapped\u001b[0m\u001b[0;34m(\u001b[0m\u001b[0mself\u001b[0m\u001b[0;34m,\u001b[0m \u001b[0mX\u001b[0m\u001b[0;34m,\u001b[0m \u001b[0;34m*\u001b[0m\u001b[0margs\u001b[0m\u001b[0;34m,\u001b[0m \u001b[0;34m**\u001b[0m\u001b[0mkwargs\u001b[0m\u001b[0;34m)\u001b[0m\u001b[0;34m:\u001b[0m\u001b[0;34m\u001b[0m\u001b[0;34m\u001b[0m\u001b[0m\n\u001b[0;32m--> 142\u001b[0;31m         \u001b[0mdata_to_wrap\u001b[0m \u001b[0;34m=\u001b[0m \u001b[0mf\u001b[0m\u001b[0;34m(\u001b[0m\u001b[0mself\u001b[0m\u001b[0;34m,\u001b[0m \u001b[0mX\u001b[0m\u001b[0;34m,\u001b[0m \u001b[0;34m*\u001b[0m\u001b[0margs\u001b[0m\u001b[0;34m,\u001b[0m \u001b[0;34m**\u001b[0m\u001b[0mkwargs\u001b[0m\u001b[0;34m)\u001b[0m\u001b[0;34m\u001b[0m\u001b[0;34m\u001b[0m\u001b[0m\n\u001b[0m\u001b[1;32m    143\u001b[0m         \u001b[0;32mif\u001b[0m \u001b[0misinstance\u001b[0m\u001b[0;34m(\u001b[0m\u001b[0mdata_to_wrap\u001b[0m\u001b[0;34m,\u001b[0m \u001b[0mtuple\u001b[0m\u001b[0;34m)\u001b[0m\u001b[0;34m:\u001b[0m\u001b[0;34m\u001b[0m\u001b[0;34m\u001b[0m\u001b[0m\n\u001b[1;32m    144\u001b[0m             \u001b[0;31m# only wrap the first output for cross decomposition\u001b[0m\u001b[0;34m\u001b[0m\u001b[0;34m\u001b[0m\u001b[0m\n",
      "\u001b[0;32m~/opt/anaconda3/lib/python3.9/site-packages/sklearn/base.py\u001b[0m in \u001b[0;36mfit_transform\u001b[0;34m(self, X, y, **fit_params)\u001b[0m\n\u001b[1;32m    846\u001b[0m         \u001b[0;32mif\u001b[0m \u001b[0my\u001b[0m \u001b[0;32mis\u001b[0m \u001b[0;32mNone\u001b[0m\u001b[0;34m:\u001b[0m\u001b[0;34m\u001b[0m\u001b[0;34m\u001b[0m\u001b[0m\n\u001b[1;32m    847\u001b[0m             \u001b[0;31m# fit method of arity 1 (unsupervised transformation)\u001b[0m\u001b[0;34m\u001b[0m\u001b[0;34m\u001b[0m\u001b[0m\n\u001b[0;32m--> 848\u001b[0;31m             \u001b[0;32mreturn\u001b[0m \u001b[0mself\u001b[0m\u001b[0;34m.\u001b[0m\u001b[0mfit\u001b[0m\u001b[0;34m(\u001b[0m\u001b[0mX\u001b[0m\u001b[0;34m,\u001b[0m \u001b[0;34m**\u001b[0m\u001b[0mfit_params\u001b[0m\u001b[0;34m)\u001b[0m\u001b[0;34m.\u001b[0m\u001b[0mtransform\u001b[0m\u001b[0;34m(\u001b[0m\u001b[0mX\u001b[0m\u001b[0;34m)\u001b[0m\u001b[0;34m\u001b[0m\u001b[0;34m\u001b[0m\u001b[0m\n\u001b[0m\u001b[1;32m    849\u001b[0m         \u001b[0;32melse\u001b[0m\u001b[0;34m:\u001b[0m\u001b[0;34m\u001b[0m\u001b[0;34m\u001b[0m\u001b[0m\n\u001b[1;32m    850\u001b[0m             \u001b[0;31m# fit method of arity 2 (supervised transformation)\u001b[0m\u001b[0;34m\u001b[0m\u001b[0;34m\u001b[0m\u001b[0m\n",
      "\u001b[0;32m~/opt/anaconda3/lib/python3.9/site-packages/sklearn/preprocessing/_encoders.py\u001b[0m in \u001b[0;36mfit\u001b[0;34m(self, X, y)\u001b[0m\n\u001b[1;32m    816\u001b[0m         \u001b[0mself\u001b[0m\u001b[0;34m.\u001b[0m\u001b[0m_check_infrequent_enabled\u001b[0m\u001b[0;34m(\u001b[0m\u001b[0;34m)\u001b[0m\u001b[0;34m\u001b[0m\u001b[0;34m\u001b[0m\u001b[0m\n\u001b[1;32m    817\u001b[0m \u001b[0;34m\u001b[0m\u001b[0m\n\u001b[0;32m--> 818\u001b[0;31m         fit_results = self._fit(\n\u001b[0m\u001b[1;32m    819\u001b[0m             \u001b[0mX\u001b[0m\u001b[0;34m,\u001b[0m\u001b[0;34m\u001b[0m\u001b[0;34m\u001b[0m\u001b[0m\n\u001b[1;32m    820\u001b[0m             \u001b[0mhandle_unknown\u001b[0m\u001b[0;34m=\u001b[0m\u001b[0mself\u001b[0m\u001b[0;34m.\u001b[0m\u001b[0mhandle_unknown\u001b[0m\u001b[0;34m,\u001b[0m\u001b[0;34m\u001b[0m\u001b[0;34m\u001b[0m\u001b[0m\n",
      "\u001b[0;32m~/opt/anaconda3/lib/python3.9/site-packages/sklearn/preprocessing/_encoders.py\u001b[0m in \u001b[0;36m_fit\u001b[0;34m(self, X, handle_unknown, force_all_finite, return_counts)\u001b[0m\n\u001b[1;32m     72\u001b[0m         \u001b[0mself\u001b[0m\u001b[0;34m.\u001b[0m\u001b[0m_check_n_features\u001b[0m\u001b[0;34m(\u001b[0m\u001b[0mX\u001b[0m\u001b[0;34m,\u001b[0m \u001b[0mreset\u001b[0m\u001b[0;34m=\u001b[0m\u001b[0;32mTrue\u001b[0m\u001b[0;34m)\u001b[0m\u001b[0;34m\u001b[0m\u001b[0;34m\u001b[0m\u001b[0m\n\u001b[1;32m     73\u001b[0m         \u001b[0mself\u001b[0m\u001b[0;34m.\u001b[0m\u001b[0m_check_feature_names\u001b[0m\u001b[0;34m(\u001b[0m\u001b[0mX\u001b[0m\u001b[0;34m,\u001b[0m \u001b[0mreset\u001b[0m\u001b[0;34m=\u001b[0m\u001b[0;32mTrue\u001b[0m\u001b[0;34m)\u001b[0m\u001b[0;34m\u001b[0m\u001b[0;34m\u001b[0m\u001b[0m\n\u001b[0;32m---> 74\u001b[0;31m         X_list, n_samples, n_features = self._check_X(\n\u001b[0m\u001b[1;32m     75\u001b[0m             \u001b[0mX\u001b[0m\u001b[0;34m,\u001b[0m \u001b[0mforce_all_finite\u001b[0m\u001b[0;34m=\u001b[0m\u001b[0mforce_all_finite\u001b[0m\u001b[0;34m\u001b[0m\u001b[0;34m\u001b[0m\u001b[0m\n\u001b[1;32m     76\u001b[0m         )\n",
      "\u001b[0;32m~/opt/anaconda3/lib/python3.9/site-packages/sklearn/preprocessing/_encoders.py\u001b[0m in \u001b[0;36m_check_X\u001b[0;34m(self, X, force_all_finite)\u001b[0m\n\u001b[1;32m     44\u001b[0m         \u001b[0;32mif\u001b[0m \u001b[0;32mnot\u001b[0m \u001b[0;34m(\u001b[0m\u001b[0mhasattr\u001b[0m\u001b[0;34m(\u001b[0m\u001b[0mX\u001b[0m\u001b[0;34m,\u001b[0m \u001b[0;34m\"iloc\"\u001b[0m\u001b[0;34m)\u001b[0m \u001b[0;32mand\u001b[0m \u001b[0mgetattr\u001b[0m\u001b[0;34m(\u001b[0m\u001b[0mX\u001b[0m\u001b[0;34m,\u001b[0m \u001b[0;34m\"ndim\"\u001b[0m\u001b[0;34m,\u001b[0m \u001b[0;36m0\u001b[0m\u001b[0;34m)\u001b[0m \u001b[0;34m==\u001b[0m \u001b[0;36m2\u001b[0m\u001b[0;34m)\u001b[0m\u001b[0;34m:\u001b[0m\u001b[0;34m\u001b[0m\u001b[0;34m\u001b[0m\u001b[0m\n\u001b[1;32m     45\u001b[0m             \u001b[0;31m# if not a dataframe, do normal check_array validation\u001b[0m\u001b[0;34m\u001b[0m\u001b[0;34m\u001b[0m\u001b[0m\n\u001b[0;32m---> 46\u001b[0;31m             \u001b[0mX_temp\u001b[0m \u001b[0;34m=\u001b[0m \u001b[0mcheck_array\u001b[0m\u001b[0;34m(\u001b[0m\u001b[0mX\u001b[0m\u001b[0;34m,\u001b[0m \u001b[0mdtype\u001b[0m\u001b[0;34m=\u001b[0m\u001b[0;32mNone\u001b[0m\u001b[0;34m,\u001b[0m \u001b[0mforce_all_finite\u001b[0m\u001b[0;34m=\u001b[0m\u001b[0mforce_all_finite\u001b[0m\u001b[0;34m)\u001b[0m\u001b[0;34m\u001b[0m\u001b[0;34m\u001b[0m\u001b[0m\n\u001b[0m\u001b[1;32m     47\u001b[0m             \u001b[0;32mif\u001b[0m \u001b[0;32mnot\u001b[0m \u001b[0mhasattr\u001b[0m\u001b[0;34m(\u001b[0m\u001b[0mX\u001b[0m\u001b[0;34m,\u001b[0m \u001b[0;34m\"dtype\"\u001b[0m\u001b[0;34m)\u001b[0m \u001b[0;32mand\u001b[0m \u001b[0mnp\u001b[0m\u001b[0;34m.\u001b[0m\u001b[0missubdtype\u001b[0m\u001b[0;34m(\u001b[0m\u001b[0mX_temp\u001b[0m\u001b[0;34m.\u001b[0m\u001b[0mdtype\u001b[0m\u001b[0;34m,\u001b[0m \u001b[0mnp\u001b[0m\u001b[0;34m.\u001b[0m\u001b[0mstr_\u001b[0m\u001b[0;34m)\u001b[0m\u001b[0;34m:\u001b[0m\u001b[0;34m\u001b[0m\u001b[0;34m\u001b[0m\u001b[0m\n\u001b[1;32m     48\u001b[0m                 \u001b[0mX\u001b[0m \u001b[0;34m=\u001b[0m \u001b[0mcheck_array\u001b[0m\u001b[0;34m(\u001b[0m\u001b[0mX\u001b[0m\u001b[0;34m,\u001b[0m \u001b[0mdtype\u001b[0m\u001b[0;34m=\u001b[0m\u001b[0mobject\u001b[0m\u001b[0;34m,\u001b[0m \u001b[0mforce_all_finite\u001b[0m\u001b[0;34m=\u001b[0m\u001b[0mforce_all_finite\u001b[0m\u001b[0;34m)\u001b[0m\u001b[0;34m\u001b[0m\u001b[0;34m\u001b[0m\u001b[0m\n",
      "\u001b[0;32m~/opt/anaconda3/lib/python3.9/site-packages/sklearn/utils/validation.py\u001b[0m in \u001b[0;36mcheck_array\u001b[0;34m(array, accept_sparse, accept_large_sparse, dtype, order, copy, force_all_finite, ensure_2d, allow_nd, ensure_min_samples, ensure_min_features, estimator, input_name)\u001b[0m\n\u001b[1;32m    911\u001b[0m             )\n\u001b[1;32m    912\u001b[0m         \u001b[0;32mif\u001b[0m \u001b[0;32mnot\u001b[0m \u001b[0mallow_nd\u001b[0m \u001b[0;32mand\u001b[0m \u001b[0marray\u001b[0m\u001b[0;34m.\u001b[0m\u001b[0mndim\u001b[0m \u001b[0;34m>=\u001b[0m \u001b[0;36m3\u001b[0m\u001b[0;34m:\u001b[0m\u001b[0;34m\u001b[0m\u001b[0;34m\u001b[0m\u001b[0m\n\u001b[0;32m--> 913\u001b[0;31m             raise ValueError(\n\u001b[0m\u001b[1;32m    914\u001b[0m                 \u001b[0;34m\"Found array with dim %d. %s expected <= 2.\"\u001b[0m\u001b[0;34m\u001b[0m\u001b[0;34m\u001b[0m\u001b[0m\n\u001b[1;32m    915\u001b[0m                 \u001b[0;34m%\u001b[0m \u001b[0;34m(\u001b[0m\u001b[0marray\u001b[0m\u001b[0;34m.\u001b[0m\u001b[0mndim\u001b[0m\u001b[0;34m,\u001b[0m \u001b[0mestimator_name\u001b[0m\u001b[0;34m)\u001b[0m\u001b[0;34m\u001b[0m\u001b[0;34m\u001b[0m\u001b[0m\n",
      "\u001b[0;31mValueError\u001b[0m: Found array with dim 3. None expected <= 2."
     ]
    }
   ],
   "source": [
    "encoder_df = pd.DataFrame(encoder.fit_transform(p).toarray())"
   ]
  },
  {
   "cell_type": "code",
   "execution_count": 123,
   "id": "77ff4cbb",
   "metadata": {},
   "outputs": [
    {
     "data": {
      "text/html": [
       "<div>\n",
       "<style scoped>\n",
       "    .dataframe tbody tr th:only-of-type {\n",
       "        vertical-align: middle;\n",
       "    }\n",
       "\n",
       "    .dataframe tbody tr th {\n",
       "        vertical-align: top;\n",
       "    }\n",
       "\n",
       "    .dataframe thead th {\n",
       "        text-align: right;\n",
       "    }\n",
       "</style>\n",
       "<table border=\"1\" class=\"dataframe\">\n",
       "  <thead>\n",
       "    <tr style=\"text-align: right;\">\n",
       "      <th></th>\n",
       "      <th>Digit</th>\n",
       "    </tr>\n",
       "  </thead>\n",
       "  <tbody>\n",
       "    <tr>\n",
       "      <th>0</th>\n",
       "      <td>5</td>\n",
       "    </tr>\n",
       "    <tr>\n",
       "      <th>1</th>\n",
       "      <td>0</td>\n",
       "    </tr>\n",
       "    <tr>\n",
       "      <th>2</th>\n",
       "      <td>4</td>\n",
       "    </tr>\n",
       "    <tr>\n",
       "      <th>3</th>\n",
       "      <td>1</td>\n",
       "    </tr>\n",
       "    <tr>\n",
       "      <th>4</th>\n",
       "      <td>9</td>\n",
       "    </tr>\n",
       "    <tr>\n",
       "      <th>...</th>\n",
       "      <td>...</td>\n",
       "    </tr>\n",
       "    <tr>\n",
       "      <th>59995</th>\n",
       "      <td>8</td>\n",
       "    </tr>\n",
       "    <tr>\n",
       "      <th>59996</th>\n",
       "      <td>3</td>\n",
       "    </tr>\n",
       "    <tr>\n",
       "      <th>59997</th>\n",
       "      <td>5</td>\n",
       "    </tr>\n",
       "    <tr>\n",
       "      <th>59998</th>\n",
       "      <td>6</td>\n",
       "    </tr>\n",
       "    <tr>\n",
       "      <th>59999</th>\n",
       "      <td>8</td>\n",
       "    </tr>\n",
       "  </tbody>\n",
       "</table>\n",
       "<p>60000 rows × 1 columns</p>\n",
       "</div>"
      ],
      "text/plain": [
       "       Digit\n",
       "0          5\n",
       "1          0\n",
       "2          4\n",
       "3          1\n",
       "4          9\n",
       "...      ...\n",
       "59995      8\n",
       "59996      3\n",
       "59997      5\n",
       "59998      6\n",
       "59999      8\n",
       "\n",
       "[60000 rows x 1 columns]"
      ]
     },
     "execution_count": 123,
     "metadata": {},
     "output_type": "execute_result"
    }
   ],
   "source": [
    "df = pd.DataFrame({'Digit': digit})\n",
    "df"
   ]
  },
  {
   "cell_type": "code",
   "execution_count": 89,
   "id": "747e970f",
   "metadata": {},
   "outputs": [],
   "source": [
    "from sklearn.preprocessing import OneHotEncoder"
   ]
  },
  {
   "cell_type": "code",
   "execution_count": 124,
   "id": "c45890b9",
   "metadata": {},
   "outputs": [],
   "source": [
    "encoder_df = pd.DataFrame(encoder.fit_transform(df[['Digit']]).toarray())"
   ]
  },
  {
   "cell_type": "code",
   "execution_count": 125,
   "id": "32635d38",
   "metadata": {},
   "outputs": [],
   "source": [
    "final_df = df.join(encoder_df)"
   ]
  },
  {
   "cell_type": "code",
   "execution_count": 126,
   "id": "375d2108",
   "metadata": {},
   "outputs": [
    {
     "data": {
      "text/html": [
       "<div>\n",
       "<style scoped>\n",
       "    .dataframe tbody tr th:only-of-type {\n",
       "        vertical-align: middle;\n",
       "    }\n",
       "\n",
       "    .dataframe tbody tr th {\n",
       "        vertical-align: top;\n",
       "    }\n",
       "\n",
       "    .dataframe thead th {\n",
       "        text-align: right;\n",
       "    }\n",
       "</style>\n",
       "<table border=\"1\" class=\"dataframe\">\n",
       "  <thead>\n",
       "    <tr style=\"text-align: right;\">\n",
       "      <th></th>\n",
       "      <th>Digit</th>\n",
       "      <th>0</th>\n",
       "      <th>1</th>\n",
       "      <th>2</th>\n",
       "      <th>3</th>\n",
       "      <th>4</th>\n",
       "      <th>5</th>\n",
       "      <th>6</th>\n",
       "      <th>7</th>\n",
       "      <th>8</th>\n",
       "      <th>9</th>\n",
       "    </tr>\n",
       "  </thead>\n",
       "  <tbody>\n",
       "    <tr>\n",
       "      <th>0</th>\n",
       "      <td>5</td>\n",
       "      <td>0.0</td>\n",
       "      <td>0.0</td>\n",
       "      <td>0.0</td>\n",
       "      <td>0.0</td>\n",
       "      <td>0.0</td>\n",
       "      <td>1.0</td>\n",
       "      <td>0.0</td>\n",
       "      <td>0.0</td>\n",
       "      <td>0.0</td>\n",
       "      <td>0.0</td>\n",
       "    </tr>\n",
       "    <tr>\n",
       "      <th>1</th>\n",
       "      <td>0</td>\n",
       "      <td>1.0</td>\n",
       "      <td>0.0</td>\n",
       "      <td>0.0</td>\n",
       "      <td>0.0</td>\n",
       "      <td>0.0</td>\n",
       "      <td>0.0</td>\n",
       "      <td>0.0</td>\n",
       "      <td>0.0</td>\n",
       "      <td>0.0</td>\n",
       "      <td>0.0</td>\n",
       "    </tr>\n",
       "    <tr>\n",
       "      <th>2</th>\n",
       "      <td>4</td>\n",
       "      <td>0.0</td>\n",
       "      <td>0.0</td>\n",
       "      <td>0.0</td>\n",
       "      <td>0.0</td>\n",
       "      <td>1.0</td>\n",
       "      <td>0.0</td>\n",
       "      <td>0.0</td>\n",
       "      <td>0.0</td>\n",
       "      <td>0.0</td>\n",
       "      <td>0.0</td>\n",
       "    </tr>\n",
       "    <tr>\n",
       "      <th>3</th>\n",
       "      <td>1</td>\n",
       "      <td>0.0</td>\n",
       "      <td>1.0</td>\n",
       "      <td>0.0</td>\n",
       "      <td>0.0</td>\n",
       "      <td>0.0</td>\n",
       "      <td>0.0</td>\n",
       "      <td>0.0</td>\n",
       "      <td>0.0</td>\n",
       "      <td>0.0</td>\n",
       "      <td>0.0</td>\n",
       "    </tr>\n",
       "    <tr>\n",
       "      <th>4</th>\n",
       "      <td>9</td>\n",
       "      <td>0.0</td>\n",
       "      <td>0.0</td>\n",
       "      <td>0.0</td>\n",
       "      <td>0.0</td>\n",
       "      <td>0.0</td>\n",
       "      <td>0.0</td>\n",
       "      <td>0.0</td>\n",
       "      <td>0.0</td>\n",
       "      <td>0.0</td>\n",
       "      <td>1.0</td>\n",
       "    </tr>\n",
       "    <tr>\n",
       "      <th>...</th>\n",
       "      <td>...</td>\n",
       "      <td>...</td>\n",
       "      <td>...</td>\n",
       "      <td>...</td>\n",
       "      <td>...</td>\n",
       "      <td>...</td>\n",
       "      <td>...</td>\n",
       "      <td>...</td>\n",
       "      <td>...</td>\n",
       "      <td>...</td>\n",
       "      <td>...</td>\n",
       "    </tr>\n",
       "    <tr>\n",
       "      <th>59995</th>\n",
       "      <td>8</td>\n",
       "      <td>0.0</td>\n",
       "      <td>0.0</td>\n",
       "      <td>0.0</td>\n",
       "      <td>0.0</td>\n",
       "      <td>0.0</td>\n",
       "      <td>0.0</td>\n",
       "      <td>0.0</td>\n",
       "      <td>0.0</td>\n",
       "      <td>1.0</td>\n",
       "      <td>0.0</td>\n",
       "    </tr>\n",
       "    <tr>\n",
       "      <th>59996</th>\n",
       "      <td>3</td>\n",
       "      <td>0.0</td>\n",
       "      <td>0.0</td>\n",
       "      <td>0.0</td>\n",
       "      <td>1.0</td>\n",
       "      <td>0.0</td>\n",
       "      <td>0.0</td>\n",
       "      <td>0.0</td>\n",
       "      <td>0.0</td>\n",
       "      <td>0.0</td>\n",
       "      <td>0.0</td>\n",
       "    </tr>\n",
       "    <tr>\n",
       "      <th>59997</th>\n",
       "      <td>5</td>\n",
       "      <td>0.0</td>\n",
       "      <td>0.0</td>\n",
       "      <td>0.0</td>\n",
       "      <td>0.0</td>\n",
       "      <td>0.0</td>\n",
       "      <td>1.0</td>\n",
       "      <td>0.0</td>\n",
       "      <td>0.0</td>\n",
       "      <td>0.0</td>\n",
       "      <td>0.0</td>\n",
       "    </tr>\n",
       "    <tr>\n",
       "      <th>59998</th>\n",
       "      <td>6</td>\n",
       "      <td>0.0</td>\n",
       "      <td>0.0</td>\n",
       "      <td>0.0</td>\n",
       "      <td>0.0</td>\n",
       "      <td>0.0</td>\n",
       "      <td>0.0</td>\n",
       "      <td>1.0</td>\n",
       "      <td>0.0</td>\n",
       "      <td>0.0</td>\n",
       "      <td>0.0</td>\n",
       "    </tr>\n",
       "    <tr>\n",
       "      <th>59999</th>\n",
       "      <td>8</td>\n",
       "      <td>0.0</td>\n",
       "      <td>0.0</td>\n",
       "      <td>0.0</td>\n",
       "      <td>0.0</td>\n",
       "      <td>0.0</td>\n",
       "      <td>0.0</td>\n",
       "      <td>0.0</td>\n",
       "      <td>0.0</td>\n",
       "      <td>1.0</td>\n",
       "      <td>0.0</td>\n",
       "    </tr>\n",
       "  </tbody>\n",
       "</table>\n",
       "<p>60000 rows × 11 columns</p>\n",
       "</div>"
      ],
      "text/plain": [
       "       Digit    0    1    2    3    4    5    6    7    8    9\n",
       "0          5  0.0  0.0  0.0  0.0  0.0  1.0  0.0  0.0  0.0  0.0\n",
       "1          0  1.0  0.0  0.0  0.0  0.0  0.0  0.0  0.0  0.0  0.0\n",
       "2          4  0.0  0.0  0.0  0.0  1.0  0.0  0.0  0.0  0.0  0.0\n",
       "3          1  0.0  1.0  0.0  0.0  0.0  0.0  0.0  0.0  0.0  0.0\n",
       "4          9  0.0  0.0  0.0  0.0  0.0  0.0  0.0  0.0  0.0  1.0\n",
       "...      ...  ...  ...  ...  ...  ...  ...  ...  ...  ...  ...\n",
       "59995      8  0.0  0.0  0.0  0.0  0.0  0.0  0.0  0.0  1.0  0.0\n",
       "59996      3  0.0  0.0  0.0  1.0  0.0  0.0  0.0  0.0  0.0  0.0\n",
       "59997      5  0.0  0.0  0.0  0.0  0.0  1.0  0.0  0.0  0.0  0.0\n",
       "59998      6  0.0  0.0  0.0  0.0  0.0  0.0  1.0  0.0  0.0  0.0\n",
       "59999      8  0.0  0.0  0.0  0.0  0.0  0.0  0.0  0.0  1.0  0.0\n",
       "\n",
       "[60000 rows x 11 columns]"
      ]
     },
     "execution_count": 126,
     "metadata": {},
     "output_type": "execute_result"
    }
   ],
   "source": [
    "final_df"
   ]
  },
  {
   "cell_type": "code",
   "execution_count": 90,
   "id": "ae652419",
   "metadata": {},
   "outputs": [],
   "source": [
    "encoder = OneHotEncoder(handle_unknown='ignore')"
   ]
  },
  {
   "cell_type": "code",
   "execution_count": 114,
   "id": "fca8a24b",
   "metadata": {},
   "outputs": [],
   "source": [
    "diglets = []\n",
    "for i in range(len(p)):\n",
    "    a = np.concatenate( p[i], axis=0 )\n",
    "    diglets.append(a)"
   ]
  },
  {
   "cell_type": "code",
   "execution_count": 116,
   "id": "9e6a1b36",
   "metadata": {},
   "outputs": [],
   "source": [
    "df[\"Dots\"] = diglets"
   ]
  },
  {
   "cell_type": "code",
   "execution_count": 117,
   "id": "c68ad936",
   "metadata": {},
   "outputs": [
    {
     "data": {
      "text/html": [
       "<div>\n",
       "<style scoped>\n",
       "    .dataframe tbody tr th:only-of-type {\n",
       "        vertical-align: middle;\n",
       "    }\n",
       "\n",
       "    .dataframe tbody tr th {\n",
       "        vertical-align: top;\n",
       "    }\n",
       "\n",
       "    .dataframe thead th {\n",
       "        text-align: right;\n",
       "    }\n",
       "</style>\n",
       "<table border=\"1\" class=\"dataframe\">\n",
       "  <thead>\n",
       "    <tr style=\"text-align: right;\">\n",
       "      <th></th>\n",
       "      <th>Digit</th>\n",
       "      <th>Dots</th>\n",
       "    </tr>\n",
       "  </thead>\n",
       "  <tbody>\n",
       "    <tr>\n",
       "      <th>0</th>\n",
       "      <td>5</td>\n",
       "      <td>[0, 0, 0, 0, 0, 0, 0, 0, 0, 0, 0, 0, 0, 0, 0, ...</td>\n",
       "    </tr>\n",
       "    <tr>\n",
       "      <th>1</th>\n",
       "      <td>0</td>\n",
       "      <td>[0, 0, 0, 0, 0, 0, 0, 0, 0, 0, 0, 0, 0, 0, 0, ...</td>\n",
       "    </tr>\n",
       "    <tr>\n",
       "      <th>2</th>\n",
       "      <td>4</td>\n",
       "      <td>[0, 0, 0, 0, 0, 0, 0, 0, 0, 0, 0, 0, 0, 0, 0, ...</td>\n",
       "    </tr>\n",
       "    <tr>\n",
       "      <th>3</th>\n",
       "      <td>1</td>\n",
       "      <td>[0, 0, 0, 0, 0, 0, 0, 0, 0, 0, 0, 0, 0, 0, 0, ...</td>\n",
       "    </tr>\n",
       "    <tr>\n",
       "      <th>4</th>\n",
       "      <td>9</td>\n",
       "      <td>[0, 0, 0, 0, 0, 0, 0, 0, 0, 0, 0, 0, 0, 0, 0, ...</td>\n",
       "    </tr>\n",
       "    <tr>\n",
       "      <th>...</th>\n",
       "      <td>...</td>\n",
       "      <td>...</td>\n",
       "    </tr>\n",
       "    <tr>\n",
       "      <th>59995</th>\n",
       "      <td>8</td>\n",
       "      <td>[0, 0, 0, 0, 0, 0, 0, 0, 0, 0, 0, 0, 0, 0, 0, ...</td>\n",
       "    </tr>\n",
       "    <tr>\n",
       "      <th>59996</th>\n",
       "      <td>3</td>\n",
       "      <td>[0, 0, 0, 0, 0, 0, 0, 0, 0, 0, 0, 0, 0, 0, 0, ...</td>\n",
       "    </tr>\n",
       "    <tr>\n",
       "      <th>59997</th>\n",
       "      <td>5</td>\n",
       "      <td>[0, 0, 0, 0, 0, 0, 0, 0, 0, 0, 0, 0, 0, 0, 0, ...</td>\n",
       "    </tr>\n",
       "    <tr>\n",
       "      <th>59998</th>\n",
       "      <td>6</td>\n",
       "      <td>[0, 0, 0, 0, 0, 0, 0, 0, 0, 0, 0, 0, 0, 0, 0, ...</td>\n",
       "    </tr>\n",
       "    <tr>\n",
       "      <th>59999</th>\n",
       "      <td>8</td>\n",
       "      <td>[0, 0, 0, 0, 0, 0, 0, 0, 0, 0, 0, 0, 0, 0, 0, ...</td>\n",
       "    </tr>\n",
       "  </tbody>\n",
       "</table>\n",
       "<p>60000 rows × 2 columns</p>\n",
       "</div>"
      ],
      "text/plain": [
       "       Digit                                               Dots\n",
       "0          5  [0, 0, 0, 0, 0, 0, 0, 0, 0, 0, 0, 0, 0, 0, 0, ...\n",
       "1          0  [0, 0, 0, 0, 0, 0, 0, 0, 0, 0, 0, 0, 0, 0, 0, ...\n",
       "2          4  [0, 0, 0, 0, 0, 0, 0, 0, 0, 0, 0, 0, 0, 0, 0, ...\n",
       "3          1  [0, 0, 0, 0, 0, 0, 0, 0, 0, 0, 0, 0, 0, 0, 0, ...\n",
       "4          9  [0, 0, 0, 0, 0, 0, 0, 0, 0, 0, 0, 0, 0, 0, 0, ...\n",
       "...      ...                                                ...\n",
       "59995      8  [0, 0, 0, 0, 0, 0, 0, 0, 0, 0, 0, 0, 0, 0, 0, ...\n",
       "59996      3  [0, 0, 0, 0, 0, 0, 0, 0, 0, 0, 0, 0, 0, 0, 0, ...\n",
       "59997      5  [0, 0, 0, 0, 0, 0, 0, 0, 0, 0, 0, 0, 0, 0, 0, ...\n",
       "59998      6  [0, 0, 0, 0, 0, 0, 0, 0, 0, 0, 0, 0, 0, 0, 0, ...\n",
       "59999      8  [0, 0, 0, 0, 0, 0, 0, 0, 0, 0, 0, 0, 0, 0, 0, ...\n",
       "\n",
       "[60000 rows x 2 columns]"
      ]
     },
     "execution_count": 117,
     "metadata": {},
     "output_type": "execute_result"
    }
   ],
   "source": [
    "df"
   ]
  },
  {
   "cell_type": "code",
   "execution_count": 118,
   "id": "c82b4884",
   "metadata": {},
   "outputs": [
    {
     "data": {
      "text/html": [
       "<div>\n",
       "<style scoped>\n",
       "    .dataframe tbody tr th:only-of-type {\n",
       "        vertical-align: middle;\n",
       "    }\n",
       "\n",
       "    .dataframe tbody tr th {\n",
       "        vertical-align: top;\n",
       "    }\n",
       "\n",
       "    .dataframe thead th {\n",
       "        text-align: right;\n",
       "    }\n",
       "</style>\n",
       "<table border=\"1\" class=\"dataframe\">\n",
       "  <thead>\n",
       "    <tr style=\"text-align: right;\">\n",
       "      <th></th>\n",
       "      <th>Digit</th>\n",
       "      <th>Dots</th>\n",
       "    </tr>\n",
       "  </thead>\n",
       "  <tbody>\n",
       "    <tr>\n",
       "      <th>1</th>\n",
       "      <td>0</td>\n",
       "      <td>[0, 0, 0, 0, 0, 0, 0, 0, 0, 0, 0, 0, 0, 0, 0, ...</td>\n",
       "    </tr>\n",
       "    <tr>\n",
       "      <th>21</th>\n",
       "      <td>0</td>\n",
       "      <td>[0, 0, 0, 0, 0, 0, 0, 0, 0, 0, 0, 0, 0, 0, 0, ...</td>\n",
       "    </tr>\n",
       "    <tr>\n",
       "      <th>34</th>\n",
       "      <td>0</td>\n",
       "      <td>[0, 0, 0, 0, 0, 0, 0, 0, 0, 0, 0, 0, 0, 0, 0, ...</td>\n",
       "    </tr>\n",
       "    <tr>\n",
       "      <th>37</th>\n",
       "      <td>0</td>\n",
       "      <td>[0, 0, 0, 0, 0, 0, 0, 0, 0, 0, 0, 0, 0, 0, 0, ...</td>\n",
       "    </tr>\n",
       "    <tr>\n",
       "      <th>51</th>\n",
       "      <td>0</td>\n",
       "      <td>[0, 0, 0, 0, 0, 0, 0, 0, 0, 0, 0, 0, 0, 0, 0, ...</td>\n",
       "    </tr>\n",
       "    <tr>\n",
       "      <th>...</th>\n",
       "      <td>...</td>\n",
       "      <td>...</td>\n",
       "    </tr>\n",
       "    <tr>\n",
       "      <th>59940</th>\n",
       "      <td>0</td>\n",
       "      <td>[0, 0, 0, 0, 0, 0, 0, 0, 0, 0, 0, 0, 0, 0, 0, ...</td>\n",
       "    </tr>\n",
       "    <tr>\n",
       "      <th>59944</th>\n",
       "      <td>0</td>\n",
       "      <td>[0, 0, 0, 0, 0, 0, 0, 0, 0, 0, 0, 0, 0, 0, 0, ...</td>\n",
       "    </tr>\n",
       "    <tr>\n",
       "      <th>59952</th>\n",
       "      <td>0</td>\n",
       "      <td>[0, 0, 0, 0, 0, 0, 0, 0, 0, 0, 0, 0, 0, 0, 0, ...</td>\n",
       "    </tr>\n",
       "    <tr>\n",
       "      <th>59972</th>\n",
       "      <td>0</td>\n",
       "      <td>[0, 0, 0, 0, 0, 0, 0, 0, 0, 0, 0, 0, 0, 0, 0, ...</td>\n",
       "    </tr>\n",
       "    <tr>\n",
       "      <th>59987</th>\n",
       "      <td>0</td>\n",
       "      <td>[0, 0, 0, 0, 0, 0, 0, 0, 0, 0, 0, 0, 0, 0, 0, ...</td>\n",
       "    </tr>\n",
       "  </tbody>\n",
       "</table>\n",
       "<p>5923 rows × 2 columns</p>\n",
       "</div>"
      ],
      "text/plain": [
       "       Digit                                               Dots\n",
       "1          0  [0, 0, 0, 0, 0, 0, 0, 0, 0, 0, 0, 0, 0, 0, 0, ...\n",
       "21         0  [0, 0, 0, 0, 0, 0, 0, 0, 0, 0, 0, 0, 0, 0, 0, ...\n",
       "34         0  [0, 0, 0, 0, 0, 0, 0, 0, 0, 0, 0, 0, 0, 0, 0, ...\n",
       "37         0  [0, 0, 0, 0, 0, 0, 0, 0, 0, 0, 0, 0, 0, 0, 0, ...\n",
       "51         0  [0, 0, 0, 0, 0, 0, 0, 0, 0, 0, 0, 0, 0, 0, 0, ...\n",
       "...      ...                                                ...\n",
       "59940      0  [0, 0, 0, 0, 0, 0, 0, 0, 0, 0, 0, 0, 0, 0, 0, ...\n",
       "59944      0  [0, 0, 0, 0, 0, 0, 0, 0, 0, 0, 0, 0, 0, 0, 0, ...\n",
       "59952      0  [0, 0, 0, 0, 0, 0, 0, 0, 0, 0, 0, 0, 0, 0, 0, ...\n",
       "59972      0  [0, 0, 0, 0, 0, 0, 0, 0, 0, 0, 0, 0, 0, 0, 0, ...\n",
       "59987      0  [0, 0, 0, 0, 0, 0, 0, 0, 0, 0, 0, 0, 0, 0, 0, ...\n",
       "\n",
       "[5923 rows x 2 columns]"
      ]
     },
     "execution_count": 118,
     "metadata": {},
     "output_type": "execute_result"
    }
   ],
   "source": [
    "zero=df[df[\"Digit\"]==0]\n",
    "zero"
   ]
  },
  {
   "cell_type": "code",
   "execution_count": 120,
   "id": "c26a50cd",
   "metadata": {},
   "outputs": [],
   "source": [
    "from sklearn.discriminant_analysis import LinearDiscriminantAnalysis "
   ]
  },
  {
   "cell_type": "code",
   "execution_count": 122,
   "id": "3a1c5e10",
   "metadata": {},
   "outputs": [
    {
     "ename": "AttributeError",
     "evalue": "'numpy.ndarray' object has no attribute 'loc'",
     "output_type": "error",
     "traceback": [
      "\u001b[0;31m---------------------------------------------------------------------------\u001b[0m",
      "\u001b[0;31mAttributeError\u001b[0m                            Traceback (most recent call last)",
      "\u001b[0;32m/var/folders/zb/cqngm18x18v4wmpfr61z84jc0000gn/T/ipykernel_18908/3977599190.py\u001b[0m in \u001b[0;36m<module>\u001b[0;34m\u001b[0m\n\u001b[0;32m----> 1\u001b[0;31m \u001b[0mzero\u001b[0m \u001b[0;34m=\u001b[0m \u001b[0mdigit\u001b[0m\u001b[0;34m.\u001b[0m\u001b[0mloc\u001b[0m\u001b[0;34m(\u001b[0m\u001b[0;36m0\u001b[0m\u001b[0;34m)\u001b[0m\u001b[0;34m\u001b[0m\u001b[0;34m\u001b[0m\u001b[0m\n\u001b[0m",
      "\u001b[0;31mAttributeError\u001b[0m: 'numpy.ndarray' object has no attribute 'loc'"
     ]
    }
   ],
   "source": [
    "zero = digit.loc(0)"
   ]
  },
  {
   "cell_type": "code",
   "execution_count": 129,
   "id": "a33cd679",
   "metadata": {},
   "outputs": [
    {
     "data": {
      "text/html": [
       "<style>#sk-container-id-3 {color: black;background-color: white;}#sk-container-id-3 pre{padding: 0;}#sk-container-id-3 div.sk-toggleable {background-color: white;}#sk-container-id-3 label.sk-toggleable__label {cursor: pointer;display: block;width: 100%;margin-bottom: 0;padding: 0.3em;box-sizing: border-box;text-align: center;}#sk-container-id-3 label.sk-toggleable__label-arrow:before {content: \"▸\";float: left;margin-right: 0.25em;color: #696969;}#sk-container-id-3 label.sk-toggleable__label-arrow:hover:before {color: black;}#sk-container-id-3 div.sk-estimator:hover label.sk-toggleable__label-arrow:before {color: black;}#sk-container-id-3 div.sk-toggleable__content {max-height: 0;max-width: 0;overflow: hidden;text-align: left;background-color: #f0f8ff;}#sk-container-id-3 div.sk-toggleable__content pre {margin: 0.2em;color: black;border-radius: 0.25em;background-color: #f0f8ff;}#sk-container-id-3 input.sk-toggleable__control:checked~div.sk-toggleable__content {max-height: 200px;max-width: 100%;overflow: auto;}#sk-container-id-3 input.sk-toggleable__control:checked~label.sk-toggleable__label-arrow:before {content: \"▾\";}#sk-container-id-3 div.sk-estimator input.sk-toggleable__control:checked~label.sk-toggleable__label {background-color: #d4ebff;}#sk-container-id-3 div.sk-label input.sk-toggleable__control:checked~label.sk-toggleable__label {background-color: #d4ebff;}#sk-container-id-3 input.sk-hidden--visually {border: 0;clip: rect(1px 1px 1px 1px);clip: rect(1px, 1px, 1px, 1px);height: 1px;margin: -1px;overflow: hidden;padding: 0;position: absolute;width: 1px;}#sk-container-id-3 div.sk-estimator {font-family: monospace;background-color: #f0f8ff;border: 1px dotted black;border-radius: 0.25em;box-sizing: border-box;margin-bottom: 0.5em;}#sk-container-id-3 div.sk-estimator:hover {background-color: #d4ebff;}#sk-container-id-3 div.sk-parallel-item::after {content: \"\";width: 100%;border-bottom: 1px solid gray;flex-grow: 1;}#sk-container-id-3 div.sk-label:hover label.sk-toggleable__label {background-color: #d4ebff;}#sk-container-id-3 div.sk-serial::before {content: \"\";position: absolute;border-left: 1px solid gray;box-sizing: border-box;top: 0;bottom: 0;left: 50%;z-index: 0;}#sk-container-id-3 div.sk-serial {display: flex;flex-direction: column;align-items: center;background-color: white;padding-right: 0.2em;padding-left: 0.2em;position: relative;}#sk-container-id-3 div.sk-item {position: relative;z-index: 1;}#sk-container-id-3 div.sk-parallel {display: flex;align-items: stretch;justify-content: center;background-color: white;position: relative;}#sk-container-id-3 div.sk-item::before, #sk-container-id-3 div.sk-parallel-item::before {content: \"\";position: absolute;border-left: 1px solid gray;box-sizing: border-box;top: 0;bottom: 0;left: 50%;z-index: -1;}#sk-container-id-3 div.sk-parallel-item {display: flex;flex-direction: column;z-index: 1;position: relative;background-color: white;}#sk-container-id-3 div.sk-parallel-item:first-child::after {align-self: flex-end;width: 50%;}#sk-container-id-3 div.sk-parallel-item:last-child::after {align-self: flex-start;width: 50%;}#sk-container-id-3 div.sk-parallel-item:only-child::after {width: 0;}#sk-container-id-3 div.sk-dashed-wrapped {border: 1px dashed gray;margin: 0 0.4em 0.5em 0.4em;box-sizing: border-box;padding-bottom: 0.4em;background-color: white;}#sk-container-id-3 div.sk-label label {font-family: monospace;font-weight: bold;display: inline-block;line-height: 1.2em;}#sk-container-id-3 div.sk-label-container {text-align: center;}#sk-container-id-3 div.sk-container {/* jupyter's `normalize.less` sets `[hidden] { display: none; }` but bootstrap.min.css set `[hidden] { display: none !important; }` so we also need the `!important` here to be able to override the default hidden behavior on the sphinx rendered scikit-learn.org. See: https://github.com/scikit-learn/scikit-learn/issues/21755 */display: inline-block !important;position: relative;}#sk-container-id-3 div.sk-text-repr-fallback {display: none;}</style><div id=\"sk-container-id-3\" class=\"sk-top-container\"><div class=\"sk-text-repr-fallback\"><pre>LinearDiscriminantAnalysis()</pre><b>In a Jupyter environment, please rerun this cell to show the HTML representation or trust the notebook. <br />On GitHub, the HTML representation is unable to render, please try loading this page with nbviewer.org.</b></div><div class=\"sk-container\" hidden><div class=\"sk-item\"><div class=\"sk-estimator sk-toggleable\"><input class=\"sk-toggleable__control sk-hidden--visually\" id=\"sk-estimator-id-3\" type=\"checkbox\" checked><label for=\"sk-estimator-id-3\" class=\"sk-toggleable__label sk-toggleable__label-arrow\">LinearDiscriminantAnalysis</label><div class=\"sk-toggleable__content\"><pre>LinearDiscriminantAnalysis()</pre></div></div></div></div></div>"
      ],
      "text/plain": [
       "LinearDiscriminantAnalysis()"
      ]
     },
     "execution_count": 129,
     "metadata": {},
     "output_type": "execute_result"
    }
   ],
   "source": [
    "man = LinearDiscriminantAnalysis()\n",
    "man.fit(diglets, final_df[0])\n",
    "dan = LinearDiscriminantAnalysis()\n",
    "dan.fit(diglets, final_df[1])\n",
    "jack = LinearDiscriminantAnalysis()\n",
    "jack.fit(diglets, final_df[2])\n",
    "ace = LinearDiscriminantAnalysis()\n",
    "ace.fit(diglets, final_df[3])\n",
    "taro = LinearDiscriminantAnalysis()\n",
    "taro.fit(diglets, final_df[4])\n",
    "leo = LinearDiscriminantAnalysis()\n",
    "leo.fit(diglets, final_df[5])\n",
    "eighty = LinearDiscriminantAnalysis()\n",
    "eighty.fit(diglets, final_df[6])\n",
    "tiga = LinearDiscriminantAnalysis()\n",
    "tiga.fit(diglets, final_df[7])\n",
    "dyna = LinearDiscriminantAnalysis()\n",
    "dyna.fit(diglets, final_df[8])\n",
    "gaia = LinearDiscriminantAnalysis()\n",
    "gaia.fit(diglets, final_df[9])"
   ]
  },
  {
   "cell_type": "code",
   "execution_count": 136,
   "id": "44e4da02",
   "metadata": {},
   "outputs": [],
   "source": [
    "worm = []\n",
    "for i in range(len(q)):\n",
    "    a = np.concatenate( q[i], axis=0 )\n",
    "    worm.append(a)"
   ]
  },
  {
   "cell_type": "code",
   "execution_count": 131,
   "id": "7a304fa9",
   "metadata": {},
   "outputs": [
    {
     "data": {
      "text/plain": [
       "array([-11.19410472])"
      ]
     },
     "execution_count": 131,
     "metadata": {},
     "output_type": "execute_result"
    }
   ],
   "source": [
    "man.intercept_"
   ]
  },
  {
   "cell_type": "code",
   "execution_count": null,
   "id": "d50e5f12",
   "metadata": {},
   "outputs": [],
   "source": [
    "testX = np.array(testX)\n",
    "testY= np.array(testY)"
   ]
  },
  {
   "cell_type": "code",
   "execution_count": 134,
   "id": "5ae4d0e1",
   "metadata": {},
   "outputs": [],
   "source": [
    "q = np.reshape(testX, newshape=( 10000, 28,28))"
   ]
  },
  {
   "cell_type": "code",
   "execution_count": 157,
   "id": "4d8c2296",
   "metadata": {},
   "outputs": [],
   "source": [
    "def calcs(x):\n",
    "    a=man.intercept_+np.dot(x,man.coef_[0])\n",
    "    b=dan.intercept_+np.dot(x,dan.coef_[0])\n",
    "    c=jack.intercept_+np.dot(x,jack.coef_[0])\n",
    "    d=ace.intercept_+np.dot(x,ace.coef_[0])\n",
    "    e=taro.intercept_+np.dot(x,taro.coef_[0])\n",
    "    f=leo.intercept_+np.dot(x,leo.coef_[0])\n",
    "    g=eighty.intercept_+np.dot(x,eighty.coef_[0])\n",
    "    h=tiga.intercept_+np.dot(x,tiga.coef_[0])\n",
    "    i=dyna.intercept_+np.dot(x,dyna.coef_[0])\n",
    "    j=gaia.intercept_+np.dot(x,gaia.coef_[0])\n",
    "    log=[a[0],b[0],c[0],d[0],e[0],f[0],g[0],h[0],i[0],j[0]]\n",
    "    return(log)"
   ]
  },
  {
   "cell_type": "code",
   "execution_count": 161,
   "id": "f8da002e",
   "metadata": {},
   "outputs": [],
   "source": [
    "def agul(x):\n",
    "    log = calcs(x)\n",
    "    g = np.argmax(log)\n",
    "    return(g)"
   ]
  },
  {
   "cell_type": "code",
   "execution_count": 158,
   "id": "de82df3a",
   "metadata": {},
   "outputs": [
    {
     "data": {
      "text/plain": [
       "[-16.3488238732197,\n",
       " -14.626686831807628,\n",
       " -8.443007344078573,\n",
       " -6.955321849338976,\n",
       " -13.138863162210388,\n",
       " -8.432853169938111,\n",
       " -17.362905039831052,\n",
       " 14.084155863864707,\n",
       " -9.695762468544748,\n",
       " -6.1466445195854735]"
      ]
     },
     "execution_count": 158,
     "metadata": {},
     "output_type": "execute_result"
    }
   ],
   "source": [
    "g = calcs(worm[0])\n",
    "g"
   ]
  },
  {
   "cell_type": "code",
   "execution_count": 156,
   "id": "59728868",
   "metadata": {},
   "outputs": [
    {
     "data": {
      "text/plain": [
       "-16.3488238732197"
      ]
     },
     "execution_count": 156,
     "metadata": {},
     "output_type": "execute_result"
    }
   ],
   "source": [
    "g[0][0]"
   ]
  },
  {
   "cell_type": "code",
   "execution_count": 163,
   "id": "6bd6ea2b",
   "metadata": {},
   "outputs": [
    {
     "data": {
      "text/plain": [
       "10000"
      ]
     },
     "execution_count": 163,
     "metadata": {},
     "output_type": "execute_result"
    }
   ],
   "source": [
    "len(worm)"
   ]
  },
  {
   "cell_type": "code",
   "execution_count": 164,
   "id": "a9877d35",
   "metadata": {},
   "outputs": [],
   "source": [
    "zoffy=[]\n",
    "for i in worm:\n",
    "    g=agul(i)\n",
    "    zoffy.append(g)"
   ]
  },
  {
   "cell_type": "code",
   "execution_count": 167,
   "id": "53d194ba",
   "metadata": {},
   "outputs": [],
   "source": [
    "from sklearn import metrics"
   ]
  },
  {
   "cell_type": "code",
   "execution_count": 169,
   "id": "97cf0399",
   "metadata": {},
   "outputs": [
    {
     "data": {
      "text/plain": [
       "array([[ 937,    0,    3,    3,    3,    9,   13,    2,    9,    1],\n",
       "       [   0, 1090,    2,    3,    2,    5,    5,    0,   27,    1],\n",
       "       [  16,   34,  804,   31,   19,    5,   40,   18,   55,   10],\n",
       "       [   4,    7,   22,  883,    5,   23,    5,   16,   29,   16],\n",
       "       [   0,   15,    8,    1,  881,    5,    7,    2,   15,   48],\n",
       "       [   9,   10,    3,   56,   20,  701,   17,   11,   45,   20],\n",
       "       [  16,    9,   10,    0,   29,   31,  848,    0,   15,    0],\n",
       "       [   4,   30,   11,    9,   25,    4,    0,  868,    7,   70],\n",
       "       [   7,   26,    8,   27,   22,   52,   12,    5,  787,   28],\n",
       "       [  10,    8,    1,   14,   66,    5,    0,   58,   13,  834]])"
      ]
     },
     "execution_count": 169,
     "metadata": {},
     "output_type": "execute_result"
    }
   ],
   "source": [
    "dad = metrics.confusion_matrix(testY, zoffy)\n",
    "dad"
   ]
  },
  {
   "cell_type": "code",
   "execution_count": 173,
   "id": "8df4f8e4",
   "metadata": {},
   "outputs": [
    {
     "name": "stdout",
     "output_type": "stream",
     "text": [
      "The crude accuracy of the unregularized linear regression in predicting test data is 0.8633000000000001\n"
     ]
    }
   ],
   "source": [
    "a=0\n",
    "for i in range(10):\n",
    "    b=dad[i][i]\n",
    "    a+=b/10000\n",
    "print(\"The crude accuracy of the unregularized linear regression in predicting test data is\", a)"
   ]
  },
  {
   "cell_type": "code",
   "execution_count": 174,
   "id": "a482069c",
   "metadata": {},
   "outputs": [],
   "source": [
    "belial=[]\n",
    "for i in diglets:\n",
    "    g=agul(i)\n",
    "    belial.append(g)"
   ]
  },
  {
   "cell_type": "code",
   "execution_count": 177,
   "id": "626d674c",
   "metadata": {},
   "outputs": [
    {
     "data": {
      "text/plain": [
       "array([[5592,    5,   22,   24,   37,   63,   52,    2,  104,   22],\n",
       "       [   0, 6446,   36,   19,   18,   58,    9,   10,  133,   13],\n",
       "       [  63,  203, 4778,  172,  121,   31,  212,   72,  267,   39],\n",
       "       [  16,   96,  164, 5183,   31,  188,   27,   88,  180,  158],\n",
       "       [   6,   77,   37,    4, 5175,   64,   27,    9,   86,  357],\n",
       "       [  72,   57,   23,  366,   83, 4240,  132,   31,  268,  149],\n",
       "       [  78,   56,   71,    5,   93,  134, 5399,    0,   71,   11],\n",
       "       [  45,  152,   34,   59,  182,   15,    2, 5272,   22,  482],\n",
       "       [  34,  330,   49,  215,   84,  274,   31,   13, 4615,  206],\n",
       "       [  44,   32,   18,  108,  333,   23,    0,  379,   63, 4949]])"
      ]
     },
     "execution_count": 177,
     "metadata": {},
     "output_type": "execute_result"
    }
   ],
   "source": [
    "mom = metrics.confusion_matrix(digit, belial)\n",
    "mom"
   ]
  },
  {
   "cell_type": "code",
   "execution_count": 180,
   "id": "1cdb95e8",
   "metadata": {},
   "outputs": [
    {
     "name": "stdout",
     "output_type": "stream",
     "text": [
      "The crude accuracy of the unregularized linear regression in predicting training data is 0.8608166666666667\n"
     ]
    }
   ],
   "source": [
    "c=0\n",
    "for i in range(10):\n",
    "    b=mom[i][i]\n",
    "    c+=b/60000\n",
    "print(\"The crude accuracy of the unregularized linear regression in predicting training data is\", c)"
   ]
  },
  {
   "cell_type": "code",
   "execution_count": null,
   "id": "f0dc7ee0",
   "metadata": {},
   "outputs": [],
   "source": []
  },
  {
   "cell_type": "code",
   "execution_count": null,
   "id": "821dbd12",
   "metadata": {},
   "outputs": [],
   "source": []
  }
 ],
 "metadata": {
  "kernelspec": {
   "display_name": "Python 3 (ipykernel)",
   "language": "python",
   "name": "python3"
  },
  "language_info": {
   "codemirror_mode": {
    "name": "ipython",
    "version": 3
   },
   "file_extension": ".py",
   "mimetype": "text/x-python",
   "name": "python",
   "nbconvert_exporter": "python",
   "pygments_lexer": "ipython3",
   "version": "3.9.7"
  }
 },
 "nbformat": 4,
 "nbformat_minor": 5
}
